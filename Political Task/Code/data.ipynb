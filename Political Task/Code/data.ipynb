{
 "cells": [
  {
   "cell_type": "code",
   "execution_count": 1,
   "metadata": {},
   "outputs": [],
   "source": [
    "import numpy as np\n",
    "import pandas as pd\n",
    "import matplotlib.pyplot as plt\n",
    "import seaborn as sns"
   ]
  },
  {
   "cell_type": "code",
   "execution_count": 2,
   "metadata": {},
   "outputs": [],
   "source": [
    "train_df = pd.read_csv(\"../Dataset/PS_train.csv\")\n",
    "val_df = pd.read_csv(\"../Dataset/PS_dev.csv\")\n",
    "test_df = pd.read_csv(\"../Dataset/PS_test.csv\")"
   ]
  },
  {
   "cell_type": "code",
   "execution_count": 4,
   "metadata": {},
   "outputs": [
    {
     "data": {
      "text/html": [
       "<div>\n",
       "<style scoped>\n",
       "    .dataframe tbody tr th:only-of-type {\n",
       "        vertical-align: middle;\n",
       "    }\n",
       "\n",
       "    .dataframe tbody tr th {\n",
       "        vertical-align: top;\n",
       "    }\n",
       "\n",
       "    .dataframe thead th {\n",
       "        text-align: right;\n",
       "    }\n",
       "</style>\n",
       "<table border=\"1\" class=\"dataframe\">\n",
       "  <thead>\n",
       "    <tr style=\"text-align: right;\">\n",
       "      <th></th>\n",
       "      <th>content</th>\n",
       "      <th>labels</th>\n",
       "    </tr>\n",
       "  </thead>\n",
       "  <tbody>\n",
       "    <tr>\n",
       "      <th>140</th>\n",
       "      <td>பாட்டு பாடச் சொல்லி ஆர்ப்பரித்த உறவுகளின் கூட்டம் . \\n\\nஓட்டுப் போடப் போற பெண்ணே ஒதுங்கி நிக்காத \\nஎன பாட்டுப் பாடி வாக்குச் சேகரித்த \\n\\n-செந்தமிழன் சீமான் \\nதலைமை ஒருங்கிணைப்பாளர்\\n\\n\\n#மக்களின்_சின்னம்_மைக்\\n#Mike_VoiceOfPeople\\n#Elections2024\\n#தஞ்சாவூர் #மன்னார்குடி</td>\n",
       "      <td>Positive</td>\n",
       "    </tr>\n",
       "    <tr>\n",
       "      <th>1919</th>\n",
       "      <td>🔴LIVE :  விசிகவுக்கு எத்தனை தொகுதி | நாங்க அன்புமணி மாதிரி இல்ல  - சஸ்பென்ஸ் உடைக்கும் கௌதம சன்னா?\\n#Vck #Thirumavalavan #DMK #Admk #Stalin #EdappadiPalanisamy #Udhayanidhi #Edappadi #Thirumavalavan #ZeeTamilNews\\n</td>\n",
       "      <td>Substantiated</td>\n",
       "    </tr>\n",
       "    <tr>\n",
       "      <th>3469</th>\n",
       "      <td>உரலுக்கு உளக்கை தான் பொருந்தும்</td>\n",
       "      <td>None of the above</td>\n",
       "    </tr>\n",
       "    <tr>\n",
       "      <th>1980</th>\n",
       "      <td>#DMKFailsTN \\n\\nதேனி களப்பணியில் ...தங்கம்🤷😅😆</td>\n",
       "      <td>Neutral</td>\n",
       "    </tr>\n",
       "    <tr>\n",
       "      <th>3786</th>\n",
       "      <td>திராவிட மாடல் அரசின்' பல்வேறு புதுமையான திட்டங்கள்!!  #mkstalin</td>\n",
       "      <td>Negative</td>\n",
       "    </tr>\n",
       "  </tbody>\n",
       "</table>\n",
       "</div>"
      ],
      "text/plain": [
       "                                                                                                                                                                                                                                                                               content  \\\n",
       "140   பாட்டு பாடச் சொல்லி ஆர்ப்பரித்த உறவுகளின் கூட்டம் . \\n\\nஓட்டுப் போடப் போற பெண்ணே ஒதுங்கி நிக்காத \\nஎன பாட்டுப் பாடி வாக்குச் சேகரித்த \\n\\n-செந்தமிழன் சீமான் \\nதலைமை ஒருங்கிணைப்பாளர்\\n\\n\\n#மக்களின்_சின்னம்_மைக்\\n#Mike_VoiceOfPeople\\n#Elections2024\\n#தஞ்சாவூர் #மன்னார்குடி    \n",
       "1919  🔴LIVE :  விசிகவுக்கு எத்தனை தொகுதி | நாங்க அன்புமணி மாதிரி இல்ல  - சஸ்பென்ஸ் உடைக்கும் கௌதம சன்னா?\\n#Vck #Thirumavalavan #DMK #Admk #Stalin #EdappadiPalanisamy #Udhayanidhi #Edappadi #Thirumavalavan #ZeeTamilNews\\n                                                             \n",
       "3469  உரலுக்கு உளக்கை தான் பொருந்தும்                                                                                                                                                                                                                                                    \n",
       "1980  #DMKFailsTN \\n\\nதேனி களப்பணியில் ...தங்கம்🤷😅😆                                                                                                                                                                                                                                      \n",
       "3786  திராவிட மாடல் அரசின்' பல்வேறு புதுமையான திட்டங்கள்!!  #mkstalin                                                                                                                                                                                                                    \n",
       "\n",
       "                 labels  \n",
       "140   Positive           \n",
       "1919  Substantiated      \n",
       "3469  None of the above  \n",
       "1980  Neutral            \n",
       "3786  Negative           "
      ]
     },
     "metadata": {},
     "output_type": "display_data"
    }
   ],
   "source": [
    "with pd.option_context('display.max_colwidth', 0):\n",
    "    display(train_df.sample(n=5))"
   ]
  },
  {
   "cell_type": "code",
   "execution_count": 4,
   "metadata": {},
   "outputs": [],
   "source": [
    "train_df = pd.read_csv(\"../Data Analysis/PS_train.csv\")\n",
    "val_df = pd.read_csv(\"../Data Analysis/PS_dev.csv\")\n",
    "test_df = pd.read_csv(\"../Data Analysis/PS_test.csv\")"
   ]
  },
  {
   "cell_type": "code",
   "execution_count": 5,
   "metadata": {},
   "outputs": [
    {
     "data": {
      "text/plain": [
       "((4352, 2), (544, 2), (544, 3))"
      ]
     },
     "execution_count": 5,
     "metadata": {},
     "output_type": "execute_result"
    }
   ],
   "source": [
    "train_df.shape, val_df.shape, test_df.shape"
   ]
  },
  {
   "cell_type": "code",
   "execution_count": 6,
   "metadata": {},
   "outputs": [
    {
     "data": {
      "text/plain": [
       "labels\n",
       "Negative              406\n",
       "Neutral               637\n",
       "None of the above     171\n",
       "Opinionated          1361\n",
       "Positive              575\n",
       "Sarcastic             790\n",
       "Substantiated         412\n",
       "dtype: int64"
      ]
     },
     "execution_count": 6,
     "metadata": {},
     "output_type": "execute_result"
    }
   ],
   "source": [
    "train_df.groupby(\"labels\").size()"
   ]
  },
  {
   "cell_type": "code",
   "execution_count": 7,
   "metadata": {},
   "outputs": [
    {
     "data": {
      "text/plain": [
       "labels\n",
       "Negative              51\n",
       "Neutral               84\n",
       "None of the above     20\n",
       "Opinionated          153\n",
       "Positive              69\n",
       "Sarcastic            115\n",
       "Substantiated         52\n",
       "dtype: int64"
      ]
     },
     "execution_count": 7,
     "metadata": {},
     "output_type": "execute_result"
    }
   ],
   "source": [
    "val_df.groupby(\"labels\").size()"
   ]
  },
  {
   "cell_type": "code",
   "execution_count": 8,
   "metadata": {},
   "outputs": [
    {
     "data": {
      "text/plain": [
       "labels\n",
       "Negative              46\n",
       "Neutral               70\n",
       "None of the above     25\n",
       "Opinionated          171\n",
       "Positive              75\n",
       "Sarcastic            106\n",
       "Substantiated         51\n",
       "dtype: int64"
      ]
     },
     "execution_count": 8,
     "metadata": {},
     "output_type": "execute_result"
    }
   ],
   "source": [
    "test_df.groupby(\"labels\").size()"
   ]
  },
  {
   "cell_type": "code",
   "execution_count": 8,
   "metadata": {},
   "outputs": [],
   "source": [
    "import re\n",
    "def preprocessing(df):\n",
    "    url_pattern = r'https?://\\S+|www\\.\\S+'\n",
    "    \n",
    "    def count_urls(text):\n",
    "        return len(re.findall(url_pattern, text))\n",
    "\n",
    "    df['hashtag_count'] = df['content'].apply(lambda x: x.count('#'))\n",
    "    df['mentions_count'] = df['content'].apply(lambda x: x.count('@'))\n",
    "    df['url_count'] = df['content'].apply(count_urls)\n",
    "    return df\n",
    "\n",
    "df = preprocessing(train_df)"
   ]
  },
  {
   "cell_type": "code",
   "execution_count": 9,
   "metadata": {},
   "outputs": [],
   "source": [
    "val_df = preprocessing(val_df)\n",
    "test_df = preprocessing(test_df)"
   ]
  },
  {
   "cell_type": "code",
   "execution_count": 10,
   "metadata": {},
   "outputs": [
    {
     "name": "stdout",
     "output_type": "stream",
     "text": [
      "<class 'pandas.core.frame.DataFrame'>\n",
      "RangeIndex: 4352 entries, 0 to 4351\n",
      "Data columns (total 5 columns):\n",
      " #   Column          Non-Null Count  Dtype \n",
      "---  ------          --------------  ----- \n",
      " 0   content         4352 non-null   object\n",
      " 1   labels          4352 non-null   object\n",
      " 2   hashtag_count   4352 non-null   int64 \n",
      " 3   mentions_count  4352 non-null   int64 \n",
      " 4   url_count       4352 non-null   int64 \n",
      "dtypes: int64(3), object(2)\n",
      "memory usage: 170.1+ KB\n"
     ]
    }
   ],
   "source": [
    "df.info()"
   ]
  },
  {
   "cell_type": "code",
   "execution_count": 11,
   "metadata": {},
   "outputs": [
    {
     "name": "stdout",
     "output_type": "stream",
     "text": [
      "<class 'pandas.core.frame.DataFrame'>\n",
      "RangeIndex: 544 entries, 0 to 543\n",
      "Data columns (total 5 columns):\n",
      " #   Column          Non-Null Count  Dtype \n",
      "---  ------          --------------  ----- \n",
      " 0   content         544 non-null    object\n",
      " 1   labels          544 non-null    object\n",
      " 2   hashtag_count   544 non-null    int64 \n",
      " 3   mentions_count  544 non-null    int64 \n",
      " 4   url_count       544 non-null    int64 \n",
      "dtypes: int64(3), object(2)\n",
      "memory usage: 21.4+ KB\n"
     ]
    }
   ],
   "source": [
    "val_df.info()"
   ]
  },
  {
   "cell_type": "code",
   "execution_count": 12,
   "metadata": {},
   "outputs": [
    {
     "name": "stdout",
     "output_type": "stream",
     "text": [
      "<class 'pandas.core.frame.DataFrame'>\n",
      "RangeIndex: 544 entries, 0 to 543\n",
      "Data columns (total 6 columns):\n",
      " #   Column          Non-Null Count  Dtype \n",
      "---  ------          --------------  ----- \n",
      " 0   Id              544 non-null    object\n",
      " 1   content         544 non-null    object\n",
      " 2   labels          544 non-null    object\n",
      " 3   hashtag_count   544 non-null    int64 \n",
      " 4   mentions_count  544 non-null    int64 \n",
      " 5   url_count       544 non-null    int64 \n",
      "dtypes: int64(3), object(3)\n",
      "memory usage: 25.6+ KB\n"
     ]
    }
   ],
   "source": [
    "test_df.info()"
   ]
  },
  {
   "cell_type": "code",
   "execution_count": 13,
   "metadata": {},
   "outputs": [
    {
     "name": "stdout",
     "output_type": "stream",
     "text": [
      "2837\n",
      "0\n",
      "0\n"
     ]
    }
   ],
   "source": [
    "print(val_df['hashtag_count'].sum())\n",
    "print(val_df['mentions_count'].sum())\n",
    "print(val_df['url_count'].sum())"
   ]
  },
  {
   "cell_type": "code",
   "execution_count": 14,
   "metadata": {},
   "outputs": [
    {
     "name": "stdout",
     "output_type": "stream",
     "text": [
      "22500\n",
      "9\n",
      "0\n"
     ]
    }
   ],
   "source": [
    "print(df['hashtag_count'].sum())\n",
    "print(df['mentions_count'].sum())\n",
    "print(df['url_count'].sum())"
   ]
  },
  {
   "cell_type": "code",
   "execution_count": 15,
   "metadata": {},
   "outputs": [
    {
     "name": "stdout",
     "output_type": "stream",
     "text": [
      "2632\n",
      "1\n",
      "0\n"
     ]
    }
   ],
   "source": [
    "print(test_df['hashtag_count'].sum())\n",
    "print(test_df['mentions_count'].sum())\n",
    "print(test_df['url_count'].sum())"
   ]
  },
  {
   "cell_type": "code",
   "execution_count": 16,
   "metadata": {},
   "outputs": [],
   "source": [
    "import re\n",
    "import emoji\n",
    "\n",
    "def remove_urls(text):\n",
    "    \"\"\"Remove URLs from the given text.\"\"\"\n",
    "    url_pattern = r'https?://\\S+|www\\.\\S+'\n",
    "    return re.sub(url_pattern, '', text)\n",
    "def handle_emojis(text):\n",
    "    # Remove emojis\n",
    "    text = emoji.replace_emoji(text, '')\n",
    "    # OR keep emojis as text\n",
    "    # text = emoji.demojize(text)\n",
    "    return text\n",
    "def remove_hashtags(text):\n",
    "    \"\"\"Remove hashtags from the given text.\"\"\"\n",
    "    if '#' in text:\n",
    "        text = text.replace('#', '')\n",
    "    hashtag_pattern = r'#\\w+'\n",
    "    return re.sub(hashtag_pattern, '', text)\n",
    "\n",
    "\n",
    "def remove_mentions(text):\n",
    "    \"\"\"Remove mentions from the given text.\"\"\"\n",
    "    # Remove mentions with no space before\n",
    "    if '@' in text:\n",
    "        text = text.replace('@', '')\n",
    "    \n",
    "    mention_pattern = r'@\\S+\\b'\n",
    "    text = re.sub(mention_pattern, '', text)\n",
    "    # Check if the mention is at the end of the text\n",
    "    if text.endswith(' @'):\n",
    "        text = text[:-2]  # Remove the space and '@'\n",
    "\n",
    "    return text\n",
    "def remove_dollars(text):\n",
    "    \"\"\"Remove $ from the given text.\"\"\"\n",
    "    if \"$\" in text:\n",
    "        text = text.replace('$','')\n",
    "    return text\n",
    "def remove_consecutive_punctuation(text):\n",
    "    \"\"\"Remove consecutive punctuation from the given text.\"\"\"\n",
    "    text = re.sub(r'([.,!?;:|]){2,}', r'\\1', text)\n",
    "    return str(text).lower()\n",
    "\n",
    "def processing(text):\n",
    "    \"\"\"Clean the given tweet by removing URLs, hashtags, and mentions.\"\"\"\n",
    "    cleaned_text = remove_urls(text)\n",
    "    cleaned_text = handle_emojis(cleaned_text)\n",
    "    cleaned_text = remove_hashtags(cleaned_text)\n",
    "    cleaned_text = remove_mentions(cleaned_text)\n",
    "    cleaned_text = remove_dollars(cleaned_text)\n",
    "    cleaned_text = remove_consecutive_punctuation(cleaned_text)\n",
    "    return cleaned_text"
   ]
  },
  {
   "cell_type": "code",
   "execution_count": 17,
   "metadata": {},
   "outputs": [],
   "source": [
    "df['content'] = df['content'].apply(lambda x: processing(x))\n",
    "test_df['content'] = test_df['content'].apply(lambda x: processing(x))"
   ]
  },
  {
   "cell_type": "code",
   "execution_count": 18,
   "metadata": {},
   "outputs": [],
   "source": [
    "val_df['content'] = val_df['content'].apply(lambda x: processing(x))"
   ]
  },
  {
   "cell_type": "code",
   "execution_count": 19,
   "metadata": {},
   "outputs": [],
   "source": [
    "import re\n",
    "def preprocessing(df):\n",
    "    url_pattern = r'https?://\\S+|www\\.\\S+'\n",
    "    \n",
    "    def count_urls(text):\n",
    "        return len(re.findall(url_pattern, text))\n",
    "\n",
    "    df['hashtag_count'] = df['content'].apply(lambda x: x.count('#'))\n",
    "    df['mentions_count'] = df['content'].apply(lambda x: x.count('@'))\n",
    "    df['dollar_count'] = df['content'].apply(lambda x: x.count('$'))\n",
    "    df['url_count'] = df['content'].apply(count_urls)\n",
    "    return df\n",
    "\n",
    "df = preprocessing(df)"
   ]
  },
  {
   "cell_type": "code",
   "execution_count": 20,
   "metadata": {},
   "outputs": [],
   "source": [
    "val_df = preprocessing(val_df)\n",
    "test_df = preprocessing(test_df)"
   ]
  },
  {
   "cell_type": "code",
   "execution_count": 21,
   "metadata": {},
   "outputs": [
    {
     "name": "stdout",
     "output_type": "stream",
     "text": [
      "0\n",
      "0\n",
      "0\n",
      "0\n"
     ]
    }
   ],
   "source": [
    "print(df['url_count'].sum())\n",
    "print(df['mentions_count'].sum())\n",
    "print(df['hashtag_count'].sum())\n",
    "print(df['dollar_count'].sum())"
   ]
  },
  {
   "cell_type": "code",
   "execution_count": 22,
   "metadata": {},
   "outputs": [
    {
     "name": "stdout",
     "output_type": "stream",
     "text": [
      "0\n",
      "0\n",
      "0\n",
      "0\n"
     ]
    }
   ],
   "source": [
    "print(val_df['url_count'].sum())\n",
    "print(val_df['mentions_count'].sum())\n",
    "print(val_df['hashtag_count'].sum())\n",
    "print(val_df['dollar_count'].sum())"
   ]
  },
  {
   "cell_type": "code",
   "execution_count": 23,
   "metadata": {},
   "outputs": [
    {
     "name": "stdout",
     "output_type": "stream",
     "text": [
      "0\n",
      "0\n",
      "0\n",
      "0\n"
     ]
    }
   ],
   "source": [
    "print(test_df['url_count'].sum())\n",
    "print(test_df['mentions_count'].sum())\n",
    "print(test_df['hashtag_count'].sum())\n",
    "print(test_df['dollar_count'].sum())"
   ]
  },
  {
   "cell_type": "code",
   "execution_count": 24,
   "metadata": {},
   "outputs": [
    {
     "data": {
      "text/html": [
       "<div>\n",
       "<style scoped>\n",
       "    .dataframe tbody tr th:only-of-type {\n",
       "        vertical-align: middle;\n",
       "    }\n",
       "\n",
       "    .dataframe tbody tr th {\n",
       "        vertical-align: top;\n",
       "    }\n",
       "\n",
       "    .dataframe thead th {\n",
       "        text-align: right;\n",
       "    }\n",
       "</style>\n",
       "<table border=\"1\" class=\"dataframe\">\n",
       "  <thead>\n",
       "    <tr style=\"text-align: right;\">\n",
       "      <th></th>\n",
       "      <th>content</th>\n",
       "      <th>labels</th>\n",
       "      <th>hashtag_count</th>\n",
       "      <th>mentions_count</th>\n",
       "      <th>url_count</th>\n",
       "      <th>dollar_count</th>\n",
       "    </tr>\n",
       "  </thead>\n",
       "  <tbody>\n",
       "    <tr>\n",
       "      <th>2458</th>\n",
       "      <td>புகழ் வணக்கம் \\n\\nமக்களின்_சின்னம்_மைக்\\nmike_voiceofpeople\\n</td>\n",
       "      <td>Positive</td>\n",
       "      <td>0</td>\n",
       "      <td>0</td>\n",
       "      <td>0</td>\n",
       "      <td>0</td>\n",
       "    </tr>\n",
       "    <tr>\n",
       "      <th>441</th>\n",
       "      <td>1000 ரூபாய் க்கு பொறந்தவங்கனு சொல்லிட்டாங்களே.\\n\\nஇப்பவே செத்து போயிராதிங்க டா உபிஸ்.\\n\\nநாளைக்கு 200 ரூபாய் க்கு பொறந்தவங்கனு சொல்ல போறோம் சேத்து ஒப்பாரி வைங்க \\n\\nஆயிரம்_ரூபாய்க்கு_பிறந்தவனுங்க</td>\n",
       "      <td>Sarcastic</td>\n",
       "      <td>0</td>\n",
       "      <td>0</td>\n",
       "      <td>0</td>\n",
       "      <td>0</td>\n",
       "    </tr>\n",
       "    <tr>\n",
       "      <th>770</th>\n",
       "      <td>இன்று ஜோலார்பேட்டை நகராட்சியில் நடைப்பெற்ற பரப்புரை மற்றும் துண்டறிக்கை பரப்புரை.\\n\\nநாம்தமிழர்கட்சி\\nசீமான்‌\\nnaamtamilarkatchi seeman ntk\\nntk_symbol_மைக்</td>\n",
       "      <td>Opinionated</td>\n",
       "      <td>0</td>\n",
       "      <td>0</td>\n",
       "      <td>0</td>\n",
       "      <td>0</td>\n",
       "    </tr>\n",
       "    <tr>\n",
       "      <th>36</th>\n",
       "      <td>கன்னியாகுமரி  மக்கள் - ஒலிவாங்கி ( மைக் )  சின்னத்தில் வாக்களிப்போம்  | நாளைய தலைமுறைக்கு வாழ்வளிப்போம்  \\n\\nஇன்னும் 05 ஏ நாளில் கையில் மை - மைக் சின்னத்தில் நம்முடைய கை - அடுத்த தலைமுறையினருக்கான வாழ்வியல்   \\n\\nமக்களின்_சின்னம்_மைக்\\nmike_voiceofpeople\\n</td>\n",
       "      <td>Neutral</td>\n",
       "      <td>0</td>\n",
       "      <td>0</td>\n",
       "      <td>0</td>\n",
       "      <td>0</td>\n",
       "    </tr>\n",
       "    <tr>\n",
       "      <th>3472</th>\n",
       "      <td>மாதம் 1000 ருபாய் அரசு கொடுக்கும் பணம் எங்கிருந்து வருது? seeman சீமான் ntk politics tamilnews</td>\n",
       "      <td>Neutral</td>\n",
       "      <td>0</td>\n",
       "      <td>0</td>\n",
       "      <td>0</td>\n",
       "      <td>0</td>\n",
       "    </tr>\n",
       "    <tr>\n",
       "      <th>4178</th>\n",
       "      <td>கயல்விழி காளிமுத்து 100கோடி சொத்துக்களின் கணவர் சீமானின் பிச்சைக்கார தமிழ் தேசியம் புரட்சிகள் ntk சீமான் நாதக</td>\n",
       "      <td>Sarcastic</td>\n",
       "      <td>0</td>\n",
       "      <td>0</td>\n",
       "      <td>0</td>\n",
       "      <td>0</td>\n",
       "    </tr>\n",
       "    <tr>\n",
       "      <th>3074</th>\n",
       "      <td>தோல்வியடைந்த எட்டாவது கரு கலைப்பு. \\nஉரிமை கோரும் முக்த்தார். \\nதிராவிடமாடல்பரிதாபங்கள்</td>\n",
       "      <td>Substantiated</td>\n",
       "      <td>0</td>\n",
       "      <td>0</td>\n",
       "      <td>0</td>\n",
       "      <td>0</td>\n",
       "    </tr>\n",
       "    <tr>\n",
       "      <th>2199</th>\n",
       "      <td>பாஜகவிற்கு வடக்கில் நடக்கும் சோதனை,அமித்ஷா மோடி தமிழக வருகை கேள்விக்குறிதான்?\\n\\nfull videowatch now : \\n\\ntharasushyam modi bjp tamilnews dmk admk edappadi tamilnews amithsha congress rahulgandhi</td>\n",
       "      <td>Opinionated</td>\n",
       "      <td>0</td>\n",
       "      <td>0</td>\n",
       "      <td>0</td>\n",
       "      <td>0</td>\n",
       "    </tr>\n",
       "    <tr>\n",
       "      <th>3280</th>\n",
       "      <td>ஸ்டாலின் ஒரு தத்தி\\nஎனக்குலாம் ஒரு பொருட்டே இல்ல.\\n\\n~ குருநாதர்</td>\n",
       "      <td>Sarcastic</td>\n",
       "      <td>0</td>\n",
       "      <td>0</td>\n",
       "      <td>0</td>\n",
       "      <td>0</td>\n",
       "    </tr>\n",
       "    <tr>\n",
       "      <th>2962</th>\n",
       "      <td>நாம் தமிழர் வேட்பாளர் audi car la வேட்புமனு தாக்கல் பன்ன போறாங்க \\n\\nஉடன்பிறப்புகள் கண்ணில் படும்படி செய்யவும் \\n\\n</td>\n",
       "      <td>Negative</td>\n",
       "      <td>0</td>\n",
       "      <td>0</td>\n",
       "      <td>0</td>\n",
       "      <td>0</td>\n",
       "    </tr>\n",
       "  </tbody>\n",
       "</table>\n",
       "</div>"
      ],
      "text/plain": [
       "                                                                                                                                                                                                                                                                 content  \\\n",
       "2458   புகழ் வணக்கம் \\n\\nமக்களின்_சின்னம்_மைக்\\nmike_voiceofpeople\\n                                                                                                                                                                                                       \n",
       "441   1000 ரூபாய் க்கு பொறந்தவங்கனு சொல்லிட்டாங்களே.\\n\\nஇப்பவே செத்து போயிராதிங்க டா உபிஸ்.\\n\\nநாளைக்கு 200 ரூபாய் க்கு பொறந்தவங்கனு சொல்ல போறோம் சேத்து ஒப்பாரி வைங்க \\n\\nஆயிரம்_ரூபாய்க்கு_பிறந்தவனுங்க                                                                  \n",
       "770   இன்று ஜோலார்பேட்டை நகராட்சியில் நடைப்பெற்ற பரப்புரை மற்றும் துண்டறிக்கை பரப்புரை.\\n\\nநாம்தமிழர்கட்சி\\nசீமான்‌\\nnaamtamilarkatchi seeman ntk\\nntk_symbol_மைக்                                                                                                         \n",
       "36     கன்னியாகுமரி  மக்கள் - ஒலிவாங்கி ( மைக் )  சின்னத்தில் வாக்களிப்போம்  | நாளைய தலைமுறைக்கு வாழ்வளிப்போம்  \\n\\nஇன்னும் 05 ஏ நாளில் கையில் மை - மைக் சின்னத்தில் நம்முடைய கை - அடுத்த தலைமுறையினருக்கான வாழ்வியல்   \\n\\nமக்களின்_சின்னம்_மைக்\\nmike_voiceofpeople\\n    \n",
       "3472  மாதம் 1000 ருபாய் அரசு கொடுக்கும் பணம் எங்கிருந்து வருது? seeman சீமான் ntk politics tamilnews                                                                                                                                                                       \n",
       "4178  கயல்விழி காளிமுத்து 100கோடி சொத்துக்களின் கணவர் சீமானின் பிச்சைக்கார தமிழ் தேசியம் புரட்சிகள் ntk சீமான் நாதக                                                                                                                                                        \n",
       "3074  தோல்வியடைந்த எட்டாவது கரு கலைப்பு. \\nஉரிமை கோரும் முக்த்தார். \\nதிராவிடமாடல்பரிதாபங்கள்                                                                                                                                                                              \n",
       "2199  பாஜகவிற்கு வடக்கில் நடக்கும் சோதனை,அமித்ஷா மோடி தமிழக வருகை கேள்விக்குறிதான்?\\n\\nfull videowatch now : \\n\\ntharasushyam modi bjp tamilnews dmk admk edappadi tamilnews amithsha congress rahulgandhi                                                                 \n",
       "3280  ஸ்டாலின் ஒரு தத்தி\\nஎனக்குலாம் ஒரு பொருட்டே இல்ல.\\n\\n~ குருநாதர்                                                                                                                                                                                                     \n",
       "2962  நாம் தமிழர் வேட்பாளர் audi car la வேட்புமனு தாக்கல் பன்ன போறாங்க \\n\\nஉடன்பிறப்புகள் கண்ணில் படும்படி செய்யவும் \\n\\n                                                                                                                                                  \n",
       "\n",
       "             labels  hashtag_count  mentions_count  url_count  dollar_count  \n",
       "2458  Positive       0              0               0          0             \n",
       "441   Sarcastic      0              0               0          0             \n",
       "770   Opinionated    0              0               0          0             \n",
       "36    Neutral        0              0               0          0             \n",
       "3472  Neutral        0              0               0          0             \n",
       "4178  Sarcastic      0              0               0          0             \n",
       "3074  Substantiated  0              0               0          0             \n",
       "2199  Opinionated    0              0               0          0             \n",
       "3280  Sarcastic      0              0               0          0             \n",
       "2962  Negative       0              0               0          0             "
      ]
     },
     "metadata": {},
     "output_type": "display_data"
    }
   ],
   "source": [
    "with pd.option_context('display.max_colwidth', 0):\n",
    "    display(df.sample(n=10))"
   ]
  },
  {
   "cell_type": "code",
   "execution_count": 25,
   "metadata": {},
   "outputs": [
    {
     "data": {
      "text/html": [
       "<div>\n",
       "<style scoped>\n",
       "    .dataframe tbody tr th:only-of-type {\n",
       "        vertical-align: middle;\n",
       "    }\n",
       "\n",
       "    .dataframe tbody tr th {\n",
       "        vertical-align: top;\n",
       "    }\n",
       "\n",
       "    .dataframe thead th {\n",
       "        text-align: right;\n",
       "    }\n",
       "</style>\n",
       "<table border=\"1\" class=\"dataframe\">\n",
       "  <thead>\n",
       "    <tr style=\"text-align: right;\">\n",
       "      <th></th>\n",
       "      <th>content</th>\n",
       "      <th>labels</th>\n",
       "      <th>hashtag_count</th>\n",
       "      <th>mentions_count</th>\n",
       "      <th>url_count</th>\n",
       "      <th>dollar_count</th>\n",
       "    </tr>\n",
       "  </thead>\n",
       "  <tbody>\n",
       "    <tr>\n",
       "      <th>393</th>\n",
       "      <td>தீண்டாமைச்சுவர் \\nதிராவிடச்சுவர் \\nகுட்டிச்சுவர் \\nதீண்டாமைக்கட்சி\\nவெட்பாளர் பெயர் ? \\nகட்சிப்பெயர்?\\nநவீன தீண்டாமை.\\nஇதுல மத்தவங்கல குறை சொல்ல வந்திடுவாங்க.சாதி கலவர வாதிகள்\\nவிசிக vck dmk dmkfails dmkfailstn dmkalliance</td>\n",
       "      <td>Negative</td>\n",
       "      <td>0</td>\n",
       "      <td>0</td>\n",
       "      <td>0</td>\n",
       "      <td>0</td>\n",
       "    </tr>\n",
       "    <tr>\n",
       "      <th>534</th>\n",
       "      <td>\"சீமான் அண்ணா love u.\"  \"me too.\" \"ஏய் விடுடா.\"    ஒரு நொடியில் மாறிய முகம்  thanthitv seeman ntk \\n</td>\n",
       "      <td>Neutral</td>\n",
       "      <td>0</td>\n",
       "      <td>0</td>\n",
       "      <td>0</td>\n",
       "      <td>0</td>\n",
       "    </tr>\n",
       "    <tr>\n",
       "      <th>230</th>\n",
       "      <td>timeanalysis\\n\\nமேலே உள்ள hashtag-ஐ (timeanalysis) click செய்தால் the india minute election analysis வெளியிட்டுள்ள அனைத்து கருத்துக் கணிப்பு முடிவுகளையும் தெரிந்து கொள்ளலாம்.\\nmkstalin edappadipalaniswami modi india indiaalliance seeman ntk bjp aiadmk dmk elections2024</td>\n",
       "      <td>Opinionated</td>\n",
       "      <td>0</td>\n",
       "      <td>0</td>\n",
       "      <td>0</td>\n",
       "      <td>0</td>\n",
       "    </tr>\n",
       "    <tr>\n",
       "      <th>29</th>\n",
       "      <td>“இவர்கள் செய்யும் கேலிகளையும் கிண்டல்களையும் பார்க்காமால் அண்ணன் சீமான் சொல்வதை ஒரு முறை கேட்டுருந்தால்” என்று நினைத்துதான் கடைசியில் இரண்டு வார்த்தைகளை  சொல்லியிருப்பார் என்று நாம் நம்புகிறேன்! \\n\\n விசில்போடு_மைக்ல_ஓட்டுபோடு \\n\\n</td>\n",
       "      <td>Positive</td>\n",
       "      <td>0</td>\n",
       "      <td>0</td>\n",
       "      <td>0</td>\n",
       "      <td>0</td>\n",
       "    </tr>\n",
       "    <tr>\n",
       "      <th>427</th>\n",
       "      <td>உள்ளூர் பிரச்சனை நீயே பாத்துக்கடா seeman \\nசீமானின்_சின்னம்_ஒலிவாங்கி_மைக் \\nntk_symbol_mike\\nதமிழ்நாட்டுக்கு_வேண்டாம்_அதிமுக_பிஜேபி_காங்கிரஸ்_திமுக \\nsay_no_to_admk_bjp_congress_dmk\\nsay_no_to_abcd</td>\n",
       "      <td>Substantiated</td>\n",
       "      <td>0</td>\n",
       "      <td>0</td>\n",
       "      <td>0</td>\n",
       "      <td>0</td>\n",
       "    </tr>\n",
       "    <tr>\n",
       "      <th>14</th>\n",
       "      <td>இன்று 13-4-2024 தூத்துக்குடி நா.ம.தொகுதி நா.த.க.வேட்பாளர் மரு.ரொவீனா ரூத் ஜேன் அவர்களுக்கு கோயில்பட்டி, கழுகுமலை, கயத்தாறு,கடம்பூர் சுற்றுவட்டார கிராமங்களில் பரப்புரை- மக்கள் சந்திப்பு\\nதமிழ் மக்களிடம் மாற்று அரசியலுக்கான ஏக்கமும் எதிர்பார்ப்பும் இருப்பதை உணர முடிந்தது.</td>\n",
       "      <td>Substantiated</td>\n",
       "      <td>0</td>\n",
       "      <td>0</td>\n",
       "      <td>0</td>\n",
       "      <td>0</td>\n",
       "    </tr>\n",
       "    <tr>\n",
       "      <th>296</th>\n",
       "      <td>urimaikural | எதிர்வரும் நாடாளுமன்ற தேர்தலில் பெண்களின் ஆதரவு யாருக்கு?\\n\\nadmk admknews debate elections2024 tnpolitics dmkfails mkstalingovt edappadipalaniswami votingawareness</td>\n",
       "      <td>Opinionated</td>\n",
       "      <td>0</td>\n",
       "      <td>0</td>\n",
       "      <td>0</td>\n",
       "      <td>0</td>\n",
       "    </tr>\n",
       "    <tr>\n",
       "      <th>220</th>\n",
       "      <td>மேடையில் மெய்மறந்து தொடர்ந்து பாடல் பாடி அசத்திய சீமான் \\nseeman ntk salem loksabhaelections2024 electioncampaign thanthitv \\n\\n</td>\n",
       "      <td>Opinionated</td>\n",
       "      <td>0</td>\n",
       "      <td>0</td>\n",
       "      <td>0</td>\n",
       "      <td>0</td>\n",
       "    </tr>\n",
       "    <tr>\n",
       "      <th>25</th>\n",
       "      <td>இந்த கேடுகெட்ட அரசாங்கத்திற்கு என்னைக்கு தான் முடிவு கட்டுவாங்களோ மக்கள் dmkfails திருட்டுதிமுக lockup_death திமுக_நாட்டுக்கும்_வீட்டுக்கும்_கேடு</td>\n",
       "      <td>Neutral</td>\n",
       "      <td>0</td>\n",
       "      <td>0</td>\n",
       "      <td>0</td>\n",
       "      <td>0</td>\n",
       "    </tr>\n",
       "    <tr>\n",
       "      <th>312</th>\n",
       "      <td>மருத்துவ படிப்பை நிறுத்திவிட்டு வேட்பாளரா ?\\n\\nபைத்தியமே நீ படிக்கலன்றதுக்காக எல்லாரையும் படிப்பை நிறுத்தி விட்டு பிச்சை எடுக்க வைக்கலாம் பார்க்கிறாயா ?\\n\\nseeman novotetobjp</td>\n",
       "      <td>Sarcastic</td>\n",
       "      <td>0</td>\n",
       "      <td>0</td>\n",
       "      <td>0</td>\n",
       "      <td>0</td>\n",
       "    </tr>\n",
       "  </tbody>\n",
       "</table>\n",
       "</div>"
      ],
      "text/plain": [
       "                                                                                                                                                                                                                                                                             content  \\\n",
       "393  தீண்டாமைச்சுவர் \\nதிராவிடச்சுவர் \\nகுட்டிச்சுவர் \\nதீண்டாமைக்கட்சி\\nவெட்பாளர் பெயர் ? \\nகட்சிப்பெயர்?\\nநவீன தீண்டாமை.\\nஇதுல மத்தவங்கல குறை சொல்ல வந்திடுவாங்க.சாதி கலவர வாதிகள்\\nவிசிக vck dmk dmkfails dmkfailstn dmkalliance                                                    \n",
       "534  \"சீமான் அண்ணா love u.\"  \"me too.\" \"ஏய் விடுடா.\"    ஒரு நொடியில் மாறிய முகம்  thanthitv seeman ntk \\n                                                                                                                                                                              \n",
       "230  timeanalysis\\n\\nமேலே உள்ள hashtag-ஐ (timeanalysis) click செய்தால் the india minute election analysis வெளியிட்டுள்ள அனைத்து கருத்துக் கணிப்பு முடிவுகளையும் தெரிந்து கொள்ளலாம்.\\nmkstalin edappadipalaniswami modi india indiaalliance seeman ntk bjp aiadmk dmk elections2024     \n",
       "29   “இவர்கள் செய்யும் கேலிகளையும் கிண்டல்களையும் பார்க்காமால் அண்ணன் சீமான் சொல்வதை ஒரு முறை கேட்டுருந்தால்” என்று நினைத்துதான் கடைசியில் இரண்டு வார்த்தைகளை  சொல்லியிருப்பார் என்று நாம் நம்புகிறேன்! \\n\\n விசில்போடு_மைக்ல_ஓட்டுபோடு \\n\\n                                           \n",
       "427  உள்ளூர் பிரச்சனை நீயே பாத்துக்கடா seeman \\nசீமானின்_சின்னம்_ஒலிவாங்கி_மைக் \\nntk_symbol_mike\\nதமிழ்நாட்டுக்கு_வேண்டாம்_அதிமுக_பிஜேபி_காங்கிரஸ்_திமுக \\nsay_no_to_admk_bjp_congress_dmk\\nsay_no_to_abcd                                                                            \n",
       "14   இன்று 13-4-2024 தூத்துக்குடி நா.ம.தொகுதி நா.த.க.வேட்பாளர் மரு.ரொவீனா ரூத் ஜேன் அவர்களுக்கு கோயில்பட்டி, கழுகுமலை, கயத்தாறு,கடம்பூர் சுற்றுவட்டார கிராமங்களில் பரப்புரை- மக்கள் சந்திப்பு\\nதமிழ் மக்களிடம் மாற்று அரசியலுக்கான ஏக்கமும் எதிர்பார்ப்பும் இருப்பதை உணர முடிந்தது.    \n",
       "296  urimaikural | எதிர்வரும் நாடாளுமன்ற தேர்தலில் பெண்களின் ஆதரவு யாருக்கு?\\n\\nadmk admknews debate elections2024 tnpolitics dmkfails mkstalingovt edappadipalaniswami votingawareness                                                                                                \n",
       "220  மேடையில் மெய்மறந்து தொடர்ந்து பாடல் பாடி அசத்திய சீமான் \\nseeman ntk salem loksabhaelections2024 electioncampaign thanthitv \\n\\n                                                                                                                                                  \n",
       "25   இந்த கேடுகெட்ட அரசாங்கத்திற்கு என்னைக்கு தான் முடிவு கட்டுவாங்களோ மக்கள் dmkfails திருட்டுதிமுக lockup_death திமுக_நாட்டுக்கும்_வீட்டுக்கும்_கேடு                                                                                                                                 \n",
       "312  மருத்துவ படிப்பை நிறுத்திவிட்டு வேட்பாளரா ?\\n\\nபைத்தியமே நீ படிக்கலன்றதுக்காக எல்லாரையும் படிப்பை நிறுத்தி விட்டு பிச்சை எடுக்க வைக்கலாம் பார்க்கிறாயா ?\\n\\nseeman novotetobjp                                                                                                    \n",
       "\n",
       "            labels  hashtag_count  mentions_count  url_count  dollar_count  \n",
       "393  Negative       0              0               0          0             \n",
       "534  Neutral        0              0               0          0             \n",
       "230  Opinionated    0              0               0          0             \n",
       "29   Positive       0              0               0          0             \n",
       "427  Substantiated  0              0               0          0             \n",
       "14   Substantiated  0              0               0          0             \n",
       "296  Opinionated    0              0               0          0             \n",
       "220  Opinionated    0              0               0          0             \n",
       "25   Neutral        0              0               0          0             \n",
       "312  Sarcastic      0              0               0          0             "
      ]
     },
     "metadata": {},
     "output_type": "display_data"
    }
   ],
   "source": [
    "with pd.option_context('display.max_colwidth', 0):\n",
    "    display(val_df.sample(n=10))"
   ]
  },
  {
   "cell_type": "code",
   "execution_count": 26,
   "metadata": {},
   "outputs": [],
   "source": [
    "df['Length'] = df['content'].apply(lambda x: len(x.split(\" \")))"
   ]
  },
  {
   "cell_type": "code",
   "execution_count": 27,
   "metadata": {},
   "outputs": [],
   "source": [
    "val_df['Length'] = val_df['content'].apply(lambda x: len(x.split(\" \")))"
   ]
  },
  {
   "cell_type": "code",
   "execution_count": 28,
   "metadata": {},
   "outputs": [
    {
     "data": {
      "text/plain": [
       "count    4352.000000\n",
       "mean       17.853401\n",
       "std        12.309896\n",
       "min         1.000000\n",
       "25%        11.000000\n",
       "50%        17.000000\n",
       "75%        23.000000\n",
       "max       348.000000\n",
       "Name: Length, dtype: float64"
      ]
     },
     "execution_count": 28,
     "metadata": {},
     "output_type": "execute_result"
    }
   ],
   "source": [
    "df['Length'].describe()"
   ]
  },
  {
   "cell_type": "code",
   "execution_count": 29,
   "metadata": {},
   "outputs": [
    {
     "data": {
      "text/plain": [
       "count    544.000000\n",
       "mean      17.119485\n",
       "std        8.415459\n",
       "min        2.000000\n",
       "25%       11.000000\n",
       "50%       16.000000\n",
       "75%       22.000000\n",
       "max       78.000000\n",
       "Name: Length, dtype: float64"
      ]
     },
     "execution_count": 29,
     "metadata": {},
     "output_type": "execute_result"
    }
   ],
   "source": [
    "val_df['Length'].describe()"
   ]
  },
  {
   "cell_type": "code",
   "execution_count": 30,
   "metadata": {},
   "outputs": [
    {
     "data": {
      "text/plain": [
       "<Axes: title={'center': 'Tweet Length Distribution'}, ylabel='Frequency'>"
      ]
     },
     "execution_count": 30,
     "metadata": {},
     "output_type": "execute_result"
    },
    {
     "data": {
      "image/png": "[encoded data removed]",
      "text/plain": [
       "<Figure size 640x480 with 1 Axes>"
      ]
     },
     "metadata": {},
     "output_type": "display_data"
    }
   ],
   "source": [
    "df['Length'].plot(kind='hist', bins=50, title='Tweet Length Distribution', color='skyblue', edgecolor='black')"
   ]
  },
  {
   "cell_type": "code",
   "execution_count": 31,
   "metadata": {},
   "outputs": [
    {
     "data": {
      "text/html": [
       "<div>\n",
       "<style scoped>\n",
       "    .dataframe tbody tr th:only-of-type {\n",
       "        vertical-align: middle;\n",
       "    }\n",
       "\n",
       "    .dataframe tbody tr th {\n",
       "        vertical-align: top;\n",
       "    }\n",
       "\n",
       "    .dataframe thead th {\n",
       "        text-align: right;\n",
       "    }\n",
       "</style>\n",
       "<table border=\"1\" class=\"dataframe\">\n",
       "  <thead>\n",
       "    <tr style=\"text-align: right;\">\n",
       "      <th></th>\n",
       "      <th>content</th>\n",
       "      <th>labels</th>\n",
       "      <th>hashtag_count</th>\n",
       "      <th>mentions_count</th>\n",
       "      <th>url_count</th>\n",
       "      <th>dollar_count</th>\n",
       "      <th>Length</th>\n",
       "    </tr>\n",
       "  </thead>\n",
       "  <tbody>\n",
       "    <tr>\n",
       "      <th>687</th>\n",
       "      <td>எப்படி</td>\n",
       "      <td>Substantiated</td>\n",
       "      <td>0</td>\n",
       "      <td>0</td>\n",
       "      <td>0</td>\n",
       "      <td>0</td>\n",
       "      <td>1</td>\n",
       "    </tr>\n",
       "    <tr>\n",
       "      <th>810</th>\n",
       "      <td>பயம்வேன்டாம்நான்அரியலூர்</td>\n",
       "      <td>None of the above</td>\n",
       "      <td>0</td>\n",
       "      <td>0</td>\n",
       "      <td>0</td>\n",
       "      <td>0</td>\n",
       "      <td>1</td>\n",
       "    </tr>\n",
       "    <tr>\n",
       "      <th>3108</th>\n",
       "      <td>சிறப்பு.</td>\n",
       "      <td>Neutral</td>\n",
       "      <td>0</td>\n",
       "      <td>0</td>\n",
       "      <td>0</td>\n",
       "      <td>0</td>\n",
       "      <td>1</td>\n",
       "    </tr>\n",
       "    <tr>\n",
       "      <th>4017</th>\n",
       "      <td>அருமை\\nதிராவிடமாடல்பரிதாபங்கள்</td>\n",
       "      <td>Substantiated</td>\n",
       "      <td>0</td>\n",
       "      <td>0</td>\n",
       "      <td>0</td>\n",
       "      <td>0</td>\n",
       "      <td>1</td>\n",
       "    </tr>\n",
       "    <tr>\n",
       "      <th>4350</th>\n",
       "      <td>நன்றி</td>\n",
       "      <td>Opinionated</td>\n",
       "      <td>0</td>\n",
       "      <td>0</td>\n",
       "      <td>0</td>\n",
       "      <td>0</td>\n",
       "      <td>1</td>\n",
       "    </tr>\n",
       "  </tbody>\n",
       "</table>\n",
       "</div>"
      ],
      "text/plain": [
       "                             content             labels  hashtag_count  \\\n",
       "687                           எப்படி      Substantiated              0   \n",
       "810         பயம்வேன்டாம்நான்அரியலூர்  None of the above              0   \n",
       "3108                        சிறப்பு.            Neutral              0   \n",
       "4017  அருமை\\nதிராவிடமாடல்பரிதாபங்கள்      Substantiated              0   \n",
       "4350                           நன்றி        Opinionated              0   \n",
       "\n",
       "      mentions_count  url_count  dollar_count  Length  \n",
       "687                0          0             0       1  \n",
       "810                0          0             0       1  \n",
       "3108               0          0             0       1  \n",
       "4017               0          0             0       1  \n",
       "4350               0          0             0       1  "
      ]
     },
     "execution_count": 31,
     "metadata": {},
     "output_type": "execute_result"
    }
   ],
   "source": [
    "df[df['Length']==1]"
   ]
  },
  {
   "cell_type": "code",
   "execution_count": 32,
   "metadata": {},
   "outputs": [
    {
     "data": {
      "text/plain": [
       "content           0\n",
       "labels            0\n",
       "hashtag_count     0\n",
       "mentions_count    0\n",
       "url_count         0\n",
       "dollar_count      0\n",
       "Length            0\n",
       "dtype: int64"
      ]
     },
     "execution_count": 32,
     "metadata": {},
     "output_type": "execute_result"
    }
   ],
   "source": [
    "df.isnull().sum()"
   ]
  },
  {
   "cell_type": "code",
   "execution_count": 33,
   "metadata": {},
   "outputs": [
    {
     "data": {
      "text/plain": [
       "content           0\n",
       "labels            0\n",
       "hashtag_count     0\n",
       "mentions_count    0\n",
       "url_count         0\n",
       "dollar_count      0\n",
       "Length            0\n",
       "dtype: int64"
      ]
     },
     "execution_count": 33,
     "metadata": {},
     "output_type": "execute_result"
    }
   ],
   "source": [
    "val_df.isnull().sum()"
   ]
  },
  {
   "cell_type": "code",
   "execution_count": 34,
   "metadata": {},
   "outputs": [],
   "source": [
    "def countplot(fig_x,fig_y,col,top_x,rotation,xlabel,title) :\n",
    "    plt.figure(figsize=(fig_x,fig_y))\n",
    "    total = float(len(df))\n",
    "    ax = sns.countplot(x=col,  data=df, order = df[col].value_counts().iloc[:top_x].index) \n",
    "    for p in ax.patches:\n",
    "        percentage = '{:.1f}%'.format(100 * p.get_height()/total)\n",
    "        x = p.get_x() + p.get_width() / 2 - 0.05\n",
    "        y = p.get_y() + p.get_height()\n",
    "        ax.annotate(percentage, (x, y),xytext = (x+0.05,y+20),ha = 'center',weight = 'bold',size = 11)\n",
    "    plt.xticks(rotation = rotation,weight='bold',size = 10)\n",
    "    plt.yticks(weight='bold',size = 10)\n",
    "    plt.xlabel(xlabel,weight='bold',size = 12)\n",
    "    plt.ylabel('count',weight='bold',size = 12)\n",
    "    plt.title(title,weight='bold',size = 15)\n",
    "    plt.show()"
   ]
  },
  {
   "cell_type": "code",
   "execution_count": 35,
   "metadata": {},
   "outputs": [
    {
     "data": {
      "image/png": "[encoded data removed]",
      "text/plain": [
       "<Figure size 1000x500 with 1 Axes>"
      ]
     },
     "metadata": {},
     "output_type": "display_data"
    }
   ],
   "source": [
    "countplot(10,5,'labels',15,0,'Class','Class Distribution')"
   ]
  },
  {
   "cell_type": "code",
   "execution_count": 36,
   "metadata": {},
   "outputs": [],
   "source": [
    "def countplot(fig_x,fig_y,col,top_x,rotation,xlabel,title) :\n",
    "    plt.figure(figsize=(fig_x,fig_y))\n",
    "    total = float(len(df))\n",
    "    ax = sns.countplot(x=col,  data=val_df, order = val_df[col].value_counts().iloc[:top_x].index) \n",
    "    for p in ax.patches:\n",
    "        percentage = '{:.1f}%'.format(100 * p.get_height()/total)\n",
    "        x = p.get_x() + p.get_width() / 2 - 0.05\n",
    "        y = p.get_y() + p.get_height()\n",
    "        ax.annotate(percentage, (x, y),xytext = (x+0.05,y+20),ha = 'center',weight = 'bold',size = 11)\n",
    "    plt.xticks(rotation = rotation,weight='bold',size = 10)\n",
    "    plt.yticks(weight='bold',size = 10)\n",
    "    plt.xlabel(xlabel,weight='bold',size = 12)\n",
    "    plt.ylabel('count',weight='bold',size = 12)\n",
    "    plt.title(title,weight='bold',size = 15)\n",
    "    plt.show()"
   ]
  },
  {
   "cell_type": "code",
   "execution_count": 37,
   "metadata": {},
   "outputs": [
    {
     "data": {
      "image/png": "[encoded data removed]",
      "text/plain": [
       "<Figure size 1000x500 with 1 Axes>"
      ]
     },
     "metadata": {},
     "output_type": "display_data"
    }
   ],
   "source": [
    "countplot(10,5,'labels',15,0,'Class','Class Distribution')"
   ]
  },
  {
   "cell_type": "code",
   "execution_count": 38,
   "metadata": {},
   "outputs": [
    {
     "data": {
      "text/plain": [
       "Index(['content', 'labels', 'hashtag_count', 'mentions_count', 'url_count',\n",
       "       'dollar_count', 'Length'],\n",
       "      dtype='object')"
      ]
     },
     "execution_count": 38,
     "metadata": {},
     "output_type": "execute_result"
    }
   ],
   "source": [
    "df.columns"
   ]
  },
  {
   "cell_type": "code",
   "execution_count": 39,
   "metadata": {},
   "outputs": [
    {
     "data": {
      "text/plain": [
       "Index(['content', 'labels', 'hashtag_count', 'mentions_count', 'url_count',\n",
       "       'dollar_count', 'Length'],\n",
       "      dtype='object')"
      ]
     },
     "execution_count": 39,
     "metadata": {},
     "output_type": "execute_result"
    }
   ],
   "source": [
    "val_df.columns"
   ]
  },
  {
   "cell_type": "code",
   "execution_count": 40,
   "metadata": {},
   "outputs": [],
   "source": [
    "df.drop(columns=['hashtag_count', 'mentions_count', 'url_count', 'dollar_count','Length'], inplace=True)"
   ]
  },
  {
   "cell_type": "code",
   "execution_count": 41,
   "metadata": {},
   "outputs": [],
   "source": [
    "test_df.drop(columns=['hashtag_count', 'mentions_count', 'url_count', 'dollar_count'], inplace=True)"
   ]
  },
  {
   "cell_type": "code",
   "execution_count": 42,
   "metadata": {},
   "outputs": [],
   "source": [
    "val_df.drop(columns=['hashtag_count', 'mentions_count', 'url_count', 'dollar_count','Length'], inplace=True)"
   ]
  },
  {
   "cell_type": "code",
   "execution_count": 43,
   "metadata": {},
   "outputs": [
    {
     "data": {
      "text/plain": [
       "Index(['content', 'labels'], dtype='object')"
      ]
     },
     "execution_count": 43,
     "metadata": {},
     "output_type": "execute_result"
    }
   ],
   "source": [
    "df.columns"
   ]
  },
  {
   "cell_type": "code",
   "execution_count": 44,
   "metadata": {},
   "outputs": [
    {
     "data": {
      "text/plain": [
       "Index(['content', 'labels'], dtype='object')"
      ]
     },
     "execution_count": 44,
     "metadata": {},
     "output_type": "execute_result"
    }
   ],
   "source": [
    "val_df.columns"
   ]
  },
  {
   "cell_type": "code",
   "execution_count": 45,
   "metadata": {},
   "outputs": [
    {
     "data": {
      "text/plain": [
       "Index(['Id', 'content', 'labels'], dtype='object')"
      ]
     },
     "execution_count": 45,
     "metadata": {},
     "output_type": "execute_result"
    }
   ],
   "source": [
    "test_df.columns"
   ]
  },
  {
   "cell_type": "code",
   "execution_count": 46,
   "metadata": {},
   "outputs": [],
   "source": [
    "test_df.to_csv(\"../Dataset/tamil_test_cleaned.csv\", index=False)"
   ]
  },
  {
   "cell_type": "code",
   "execution_count": 47,
   "metadata": {},
   "outputs": [],
   "source": [
    "df.to_csv(\"../Dataset/tamil_train_cleaned.csv\", index=False)\n",
    "val_df.to_csv(\"../Dataset/tamil_val_cleaned.csv\", index=False)"
   ]
  },
  {
   "cell_type": "code",
   "execution_count": 48,
   "metadata": {},
   "outputs": [
    {
     "data": {
      "text/html": [
       "<div>\n",
       "<style scoped>\n",
       "    .dataframe tbody tr th:only-of-type {\n",
       "        vertical-align: middle;\n",
       "    }\n",
       "\n",
       "    .dataframe tbody tr th {\n",
       "        vertical-align: top;\n",
       "    }\n",
       "\n",
       "    .dataframe thead th {\n",
       "        text-align: right;\n",
       "    }\n",
       "</style>\n",
       "<table border=\"1\" class=\"dataframe\">\n",
       "  <thead>\n",
       "    <tr style=\"text-align: right;\">\n",
       "      <th></th>\n",
       "      <th>content</th>\n",
       "      <th>labels</th>\n",
       "    </tr>\n",
       "  </thead>\n",
       "  <tbody>\n",
       "    <tr>\n",
       "      <th>3689</th>\n",
       "      <td>\" மகன் திருடனை விட அப்பா திருடனே மேல் \"\\n\\nஅப்பா திருடன் - கருணாநிதி\\nமகன் திருடன் - ஸ்டாலின்\\n\\nமூன்றாவதாக பேரன் திருடன் தயாராகி கொண்டிருக்கிறார்.\\n\\n\\n-செந்தமிழன் சீமான் \\nதலைமை ஒருங்கிணைப்பாளர்\\n\\nseeman | ntk |\\n\\nசீமானின்_சின்னம்_ஒலிவாங்கி\\nntk_symbol_mike\\nelections2024</td>\n",
       "      <td>Neutral</td>\n",
       "    </tr>\n",
       "    <tr>\n",
       "      <th>363</th>\n",
       "      <td>திருநெல்வேலி மழை வெள்ள  நிவாரண பணி, எண்ணற்ற மக்கள் போராட்டம் என்று களத்தில் இருக்கும் அக்கா சத்யா.  திருநெல்வேலி நாடாளுமன்ற தொகுதி! நாம் தமிழர் வெல்வது உறுதி! சீமானின்_சின்னம்_ஒலிவாங்கி  ntk_symbol_mike மக்களின்_சின்னம்_மைக்</td>\n",
       "      <td>Positive</td>\n",
       "    </tr>\n",
       "    <tr>\n",
       "      <th>1353</th>\n",
       "      <td>கோவையில் மிகவும் பிரம்மாண்டமான முறையில் இந்தியாவே திரும்பிப் பார்க்கும்\\n வகையில் நடைபெற்ற தளபதி  மற்றும் ஒற்றுமை நாயகன்  இணைந்து பங்குபெற்று பேருரையாற்றிய கூட்டத்தில் பங்குபெற்றது மகிழ்ச்சி!\\n\\nmkstalin rahul_gandhi rahulgandhivoiceofindia rahulgandhi</td>\n",
       "      <td>Opinionated</td>\n",
       "    </tr>\n",
       "    <tr>\n",
       "      <th>2868</th>\n",
       "      <td>பரந்தூர் \\n\\nstopparandurairport</td>\n",
       "      <td>Neutral</td>\n",
       "    </tr>\n",
       "    <tr>\n",
       "      <th>30</th>\n",
       "      <td>மக்களை கவரும் கோவை கலாமணி பரப்புரை! | seeman | ntk | kalamani | coim. - தமிழ் முரசு - கொட்டும் முரசு</td>\n",
       "      <td>Opinionated</td>\n",
       "    </tr>\n",
       "    <tr>\n",
       "      <th>1238</th>\n",
       "      <td>ஜுன் 19 வாக்குப்பதிவு ஜுன் 4 ஓட்டு\\nஎண்ணிக்கை - சின்னது \\n\\nஇவனும் தத்தி தான் போல!\\naravindkejriwal delhi aap\\n\\nenforcementdirectorate ipl2024\\nannamalai senthilbalaji 2gscam\\nloksabhaelections2024 edraid\\ndmkfailstn drug_mafia_dmk</td>\n",
       "      <td>Sarcastic</td>\n",
       "    </tr>\n",
       "    <tr>\n",
       "      <th>4242</th>\n",
       "      <td>போலி திராவிடத்தை தோலுரித்த சாமானியன்\\n\\nதிமுக_நாட்டுக்கும்_வீட்டுக்கும்_கேடு dmkfailstn</td>\n",
       "      <td>Opinionated</td>\n",
       "    </tr>\n",
       "    <tr>\n",
       "      <th>2312</th>\n",
       "      <td>ஒட்டுக் கேட்கப்படும் phoneகள்?\\nannamalai mkstalin</td>\n",
       "      <td>Opinionated</td>\n",
       "    </tr>\n",
       "    <tr>\n",
       "      <th>824</th>\n",
       "      <td>விடியா அரசின் சாதனைகளில் இதுவும் ஒன்றா?  \\n\\ndmkfailstn விடியா_அரசு</td>\n",
       "      <td>Neutral</td>\n",
       "    </tr>\n",
       "    <tr>\n",
       "      <th>2835</th>\n",
       "      <td>கம்யுனிஸ்ட் என்பதை மறந்து \\nவரி உயர்வு \\nவிலைவாசி உயர்வு \\nவிவசாயிகள் மீது குண்டாஸ் என\\nதிமுக ஆட்சியில் நடக்கும் \\nஅவலங்களை கண்டும் காணாமல்\\nஅறிவாலயத்துக்கு கொத்தடிமையா\\nவேலை செஞ்சா இப்படித்தான்.\\n\\nloksabhaelections2024\\ntamilnadu dmkfailstn elections2024\\n</td>\n",
       "      <td>Opinionated</td>\n",
       "    </tr>\n",
       "  </tbody>\n",
       "</table>\n",
       "</div>"
      ],
      "text/plain": [
       "                                                                                                                                                                                                                                                                                    content  \\\n",
       "3689  \" மகன் திருடனை விட அப்பா திருடனே மேல் \"\\n\\nஅப்பா திருடன் - கருணாநிதி\\nமகன் திருடன் - ஸ்டாலின்\\n\\nமூன்றாவதாக பேரன் திருடன் தயாராகி கொண்டிருக்கிறார்.\\n\\n\\n-செந்தமிழன் சீமான் \\nதலைமை ஒருங்கிணைப்பாளர்\\n\\nseeman | ntk |\\n\\nசீமானின்_சின்னம்_ஒலிவாங்கி\\nntk_symbol_mike\\nelections2024    \n",
       "363   திருநெல்வேலி மழை வெள்ள  நிவாரண பணி, எண்ணற்ற மக்கள் போராட்டம் என்று களத்தில் இருக்கும் அக்கா சத்யா.  திருநெல்வேலி நாடாளுமன்ற தொகுதி! நாம் தமிழர் வெல்வது உறுதி! சீமானின்_சின்னம்_ஒலிவாங்கி  ntk_symbol_mike மக்களின்_சின்னம்_மைக்                                                        \n",
       "1353  கோவையில் மிகவும் பிரம்மாண்டமான முறையில் இந்தியாவே திரும்பிப் பார்க்கும்\\n வகையில் நடைபெற்ற தளபதி  மற்றும் ஒற்றுமை நாயகன்  இணைந்து பங்குபெற்று பேருரையாற்றிய கூட்டத்தில் பங்குபெற்றது மகிழ்ச்சி!\\n\\nmkstalin rahul_gandhi rahulgandhivoiceofindia rahulgandhi                            \n",
       "2868  பரந்தூர் \\n\\nstopparandurairport                                                                                                                                                                                                                                                        \n",
       "30    மக்களை கவரும் கோவை கலாமணி பரப்புரை! | seeman | ntk | kalamani | coim. - தமிழ் முரசு - கொட்டும் முரசு                                                                                                                                                                                    \n",
       "1238  ஜுன் 19 வாக்குப்பதிவு ஜுன் 4 ஓட்டு\\nஎண்ணிக்கை - சின்னது \\n\\nஇவனும் தத்தி தான் போல!\\naravindkejriwal delhi aap\\n\\nenforcementdirectorate ipl2024\\nannamalai senthilbalaji 2gscam\\nloksabhaelections2024 edraid\\ndmkfailstn drug_mafia_dmk                                                \n",
       "4242  போலி திராவிடத்தை தோலுரித்த சாமானியன்\\n\\nதிமுக_நாட்டுக்கும்_வீட்டுக்கும்_கேடு dmkfailstn                                                                                                                                                                                                 \n",
       "2312  ஒட்டுக் கேட்கப்படும் phoneகள்?\\nannamalai mkstalin                                                                                                                                                                                                                                      \n",
       "824   விடியா அரசின் சாதனைகளில் இதுவும் ஒன்றா?  \\n\\ndmkfailstn விடியா_அரசு                                                                                                                                                                                                                     \n",
       "2835  கம்யுனிஸ்ட் என்பதை மறந்து \\nவரி உயர்வு \\nவிலைவாசி உயர்வு \\nவிவசாயிகள் மீது குண்டாஸ் என\\nதிமுக ஆட்சியில் நடக்கும் \\nஅவலங்களை கண்டும் காணாமல்\\nஅறிவாலயத்துக்கு கொத்தடிமையா\\nவேலை செஞ்சா இப்படித்தான்.\\n\\nloksabhaelections2024\\ntamilnadu dmkfailstn elections2024\\n                      \n",
       "\n",
       "           labels  \n",
       "3689  Neutral      \n",
       "363   Positive     \n",
       "1353  Opinionated  \n",
       "2868  Neutral      \n",
       "30    Opinionated  \n",
       "1238  Sarcastic    \n",
       "4242  Opinionated  \n",
       "2312  Opinionated  \n",
       "824   Neutral      \n",
       "2835  Opinionated  "
      ]
     },
     "metadata": {},
     "output_type": "display_data"
    }
   ],
   "source": [
    "with pd.option_context('display.max_colwidth',0):\n",
    "    display(df.sample(n=10))"
   ]
  },
  {
   "cell_type": "code",
   "execution_count": null,
   "metadata": {},
   "outputs": [],
   "source": []
  },
  {
   "cell_type": "code",
   "execution_count": null,
   "metadata": {},
   "outputs": [],
   "source": []
  }
 ],
 "metadata": {
  "kernelspec": {
   "display_name": "myenv",
   "language": "python",
   "name": "python3"
  },
  "language_info": {
   "codemirror_mode": {
    "name": "ipython",
    "version": 3
   },
   "file_extension": ".py",
   "mimetype": "text/x-python",
   "name": "python",
   "nbconvert_exporter": "python",
   "pygments_lexer": "ipython3",
   "version": "3.12.3"
  }
 },
 "nbformat": 4,
 "nbformat_minor": 2
}
