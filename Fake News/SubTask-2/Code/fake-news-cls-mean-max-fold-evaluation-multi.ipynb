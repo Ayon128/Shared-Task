{
 "cells": [
  {
   "cell_type": "code",
   "execution_count": 1,
   "metadata": {
    "_cell_guid": "b1076dfc-b9ad-4769-8c92-a6c4dae69d19",
    "_uuid": "8f2839f25d086af736a60e9eeb907d3b93b6e0e5",
    "execution": {
     "iopub.execute_input": "2025-01-29T06:34:14.235087Z",
     "iopub.status.busy": "2025-01-29T06:34:14.234802Z",
     "iopub.status.idle": "2025-01-29T06:34:14.239167Z",
     "shell.execute_reply": "2025-01-29T06:34:14.238220Z",
     "shell.execute_reply.started": "2025-01-29T06:34:14.235054Z"
    },
    "trusted": true
   },
   "outputs": [],
   "source": [
    "import os\n",
    "# Disable tokenizers parallelism\n",
    "os.environ['TOKENIZERS_PARALLELISM'] = 'false'"
   ]
  },
  {
   "cell_type": "code",
   "execution_count": 2,
   "metadata": {
    "execution": {
     "iopub.execute_input": "2025-01-29T06:34:14.240591Z",
     "iopub.status.busy": "2025-01-29T06:34:14.240353Z",
     "iopub.status.idle": "2025-01-29T06:34:23.077794Z",
     "shell.execute_reply": "2025-01-29T06:34:23.076867Z",
     "shell.execute_reply.started": "2025-01-29T06:34:14.240571Z"
    },
    "trusted": true
   },
   "outputs": [
    {
     "name": "stderr",
     "output_type": "stream",
     "text": [
      "/usr/lib/python3.10/pty.py:89: RuntimeWarning: os.fork() was called. os.fork() is incompatible with multithreaded code, and JAX is multithreaded, so this will likely lead to a deadlock.\n",
      "  pid, fd = os.forkpty()\n"
     ]
    },
    {
     "name": "stdout",
     "output_type": "stream",
     "text": [
      "Requirement already satisfied: datasets in /usr/local/lib/python3.10/dist-packages (3.2.0)\n",
      "Collecting evaluate\n",
      "  Downloading evaluate-0.4.3-py3-none-any.whl.metadata (9.2 kB)\n",
      "Requirement already satisfied: transformers[sentencepiece] in /usr/local/lib/python3.10/dist-packages (4.44.2)\n",
      "Requirement already satisfied: filelock in /usr/local/lib/python3.10/dist-packages (from datasets) (3.16.1)\n",
      "Requirement already satisfied: numpy>=1.17 in /usr/local/lib/python3.10/dist-packages (from datasets) (1.26.4)\n",
      "Requirement already satisfied: pyarrow>=15.0.0 in /usr/local/lib/python3.10/dist-packages (from datasets) (18.1.0)\n",
      "Requirement already satisfied: dill<0.3.9,>=0.3.0 in /usr/local/lib/python3.10/dist-packages (from datasets) (0.3.8)\n",
      "Requirement already satisfied: pandas in /usr/local/lib/python3.10/dist-packages (from datasets) (2.1.4)\n",
      "Requirement already satisfied: requests>=2.32.2 in /usr/local/lib/python3.10/dist-packages (from datasets) (2.32.3)\n",
      "Requirement already satisfied: tqdm>=4.66.3 in /usr/local/lib/python3.10/dist-packages (from datasets) (4.66.5)\n",
      "Requirement already satisfied: xxhash in /usr/local/lib/python3.10/dist-packages (from datasets) (3.5.0)\n",
      "Requirement already satisfied: multiprocess<0.70.17 in /usr/local/lib/python3.10/dist-packages (from datasets) (0.70.16)\n",
      "Requirement already satisfied: fsspec<=2024.9.0,>=2023.1.0 in /usr/local/lib/python3.10/dist-packages (from fsspec[http]<=2024.9.0,>=2023.1.0->datasets) (2024.6.1)\n",
      "Requirement already satisfied: aiohttp in /usr/local/lib/python3.10/dist-packages (from datasets) (3.10.5)\n",
      "Requirement already satisfied: huggingface-hub>=0.23.0 in /usr/local/lib/python3.10/dist-packages (from datasets) (0.24.7)\n",
      "Requirement already satisfied: packaging in /usr/local/lib/python3.10/dist-packages (from datasets) (24.1)\n",
      "Requirement already satisfied: pyyaml>=5.1 in /usr/local/lib/python3.10/dist-packages (from datasets) (6.0.2)\n",
      "Requirement already satisfied: regex!=2019.12.17 in /usr/local/lib/python3.10/dist-packages (from transformers[sentencepiece]) (2024.9.11)\n",
      "Requirement already satisfied: safetensors>=0.4.1 in /usr/local/lib/python3.10/dist-packages (from transformers[sentencepiece]) (0.4.5)\n",
      "Requirement already satisfied: tokenizers<0.20,>=0.19 in /usr/local/lib/python3.10/dist-packages (from transformers[sentencepiece]) (0.19.1)\n",
      "Requirement already satisfied: protobuf in /usr/local/lib/python3.10/dist-packages (from transformers[sentencepiece]) (3.20.3)\n",
      "Requirement already satisfied: sentencepiece!=0.1.92,>=0.1.91 in /usr/local/lib/python3.10/dist-packages (from transformers[sentencepiece]) (0.2.0)\n",
      "Requirement already satisfied: aiohappyeyeballs>=2.3.0 in /usr/local/lib/python3.10/dist-packages (from aiohttp->datasets) (2.4.0)\n",
      "Requirement already satisfied: aiosignal>=1.1.2 in /usr/local/lib/python3.10/dist-packages (from aiohttp->datasets) (1.3.1)\n",
      "Requirement already satisfied: attrs>=17.3.0 in /usr/local/lib/python3.10/dist-packages (from aiohttp->datasets) (24.2.0)\n",
      "Requirement already satisfied: frozenlist>=1.1.1 in /usr/local/lib/python3.10/dist-packages (from aiohttp->datasets) (1.4.1)\n",
      "Requirement already satisfied: multidict<7.0,>=4.5 in /usr/local/lib/python3.10/dist-packages (from aiohttp->datasets) (6.1.0)\n",
      "Requirement already satisfied: yarl<2.0,>=1.0 in /usr/local/lib/python3.10/dist-packages (from aiohttp->datasets) (1.11.1)\n",
      "Requirement already satisfied: async-timeout<5.0,>=4.0 in /usr/local/lib/python3.10/dist-packages (from aiohttp->datasets) (4.0.3)\n",
      "Requirement already satisfied: typing-extensions>=3.7.4.3 in /usr/local/lib/python3.10/dist-packages (from huggingface-hub>=0.23.0->datasets) (4.12.2)\n",
      "Requirement already satisfied: charset-normalizer<4,>=2 in /usr/local/lib/python3.10/dist-packages (from requests>=2.32.2->datasets) (3.3.2)\n",
      "Requirement already satisfied: idna<4,>=2.5 in /usr/local/lib/python3.10/dist-packages (from requests>=2.32.2->datasets) (3.10)\n",
      "Requirement already satisfied: urllib3<3,>=1.21.1 in /usr/local/lib/python3.10/dist-packages (from requests>=2.32.2->datasets) (2.2.3)\n",
      "Requirement already satisfied: certifi>=2017.4.17 in /usr/local/lib/python3.10/dist-packages (from requests>=2.32.2->datasets) (2024.8.30)\n",
      "Requirement already satisfied: python-dateutil>=2.8.2 in /usr/local/lib/python3.10/dist-packages (from pandas->datasets) (2.8.2)\n",
      "Requirement already satisfied: pytz>=2020.1 in /usr/local/lib/python3.10/dist-packages (from pandas->datasets) (2024.2)\n",
      "Requirement already satisfied: tzdata>=2022.1 in /usr/local/lib/python3.10/dist-packages (from pandas->datasets) (2024.1)\n",
      "Requirement already satisfied: six>=1.5 in /usr/local/lib/python3.10/dist-packages (from python-dateutil>=2.8.2->pandas->datasets) (1.16.0)\n",
      "Downloading evaluate-0.4.3-py3-none-any.whl (84 kB)\n",
      "\u001b[2K   \u001b[90m━━━━━━━━━━━━━━━━━━━━━━━━━━━━━━━━━━━━━━━━\u001b[0m \u001b[32m84.0/84.0 kB\u001b[0m \u001b[31m3.5 MB/s\u001b[0m eta \u001b[36m0:00:00\u001b[0m\n",
      "\u001b[?25hInstalling collected packages: evaluate\n",
      "Successfully installed evaluate-0.4.3\n",
      "Requirement already satisfied: accelerate in /usr/local/lib/python3.10/dist-packages (0.34.2)\n",
      "Collecting accelerate\n",
      "  Downloading accelerate-1.3.0-py3-none-any.whl.metadata (19 kB)\n",
      "Requirement already satisfied: numpy<3.0.0,>=1.17 in /usr/local/lib/python3.10/dist-packages (from accelerate) (1.26.4)\n",
      "Requirement already satisfied: packaging>=20.0 in /usr/local/lib/python3.10/dist-packages (from accelerate) (24.1)\n",
      "Requirement already satisfied: psutil in /usr/local/lib/python3.10/dist-packages (from accelerate) (5.9.5)\n",
      "Requirement already satisfied: pyyaml in /usr/local/lib/python3.10/dist-packages (from accelerate) (6.0.2)\n",
      "Requirement already satisfied: torch>=2.0.0 in /usr/local/lib/python3.10/dist-packages (from accelerate) (2.4.1+cu121)\n",
      "Requirement already satisfied: huggingface-hub>=0.21.0 in /usr/local/lib/python3.10/dist-packages (from accelerate) (0.24.7)\n",
      "Requirement already satisfied: safetensors>=0.4.3 in /usr/local/lib/python3.10/dist-packages (from accelerate) (0.4.5)\n",
      "Requirement already satisfied: filelock in /usr/local/lib/python3.10/dist-packages (from huggingface-hub>=0.21.0->accelerate) (3.16.1)\n",
      "Requirement already satisfied: fsspec>=2023.5.0 in /usr/local/lib/python3.10/dist-packages (from huggingface-hub>=0.21.0->accelerate) (2024.6.1)\n",
      "Requirement already satisfied: requests in /usr/local/lib/python3.10/dist-packages (from huggingface-hub>=0.21.0->accelerate) (2.32.3)\n",
      "Requirement already satisfied: tqdm>=4.42.1 in /usr/local/lib/python3.10/dist-packages (from huggingface-hub>=0.21.0->accelerate) (4.66.5)\n",
      "Requirement already satisfied: typing-extensions>=3.7.4.3 in /usr/local/lib/python3.10/dist-packages (from huggingface-hub>=0.21.0->accelerate) (4.12.2)\n",
      "Requirement already satisfied: sympy in /usr/local/lib/python3.10/dist-packages (from torch>=2.0.0->accelerate) (1.13.3)\n",
      "Requirement already satisfied: networkx in /usr/local/lib/python3.10/dist-packages (from torch>=2.0.0->accelerate) (3.3)\n",
      "Requirement already satisfied: jinja2 in /usr/local/lib/python3.10/dist-packages (from torch>=2.0.0->accelerate) (3.1.4)\n",
      "Requirement already satisfied: MarkupSafe>=2.0 in /usr/local/lib/python3.10/dist-packages (from jinja2->torch>=2.0.0->accelerate) (2.1.5)\n",
      "Requirement already satisfied: charset-normalizer<4,>=2 in /usr/local/lib/python3.10/dist-packages (from requests->huggingface-hub>=0.21.0->accelerate) (3.3.2)\n",
      "Requirement already satisfied: idna<4,>=2.5 in /usr/local/lib/python3.10/dist-packages (from requests->huggingface-hub>=0.21.0->accelerate) (3.10)\n",
      "Requirement already satisfied: urllib3<3,>=1.21.1 in /usr/local/lib/python3.10/dist-packages (from requests->huggingface-hub>=0.21.0->accelerate) (2.2.3)\n",
      "Requirement already satisfied: certifi>=2017.4.17 in /usr/local/lib/python3.10/dist-packages (from requests->huggingface-hub>=0.21.0->accelerate) (2024.8.30)\n",
      "Requirement already satisfied: mpmath<1.4,>=1.1.0 in /usr/local/lib/python3.10/dist-packages (from sympy->torch>=2.0.0->accelerate) (1.3.0)\n",
      "Downloading accelerate-1.3.0-py3-none-any.whl (336 kB)\n",
      "\u001b[2K   \u001b[90m━━━━━━━━━━━━━━━━━━━━━━━━━━━━━━━━━━━━━━━━\u001b[0m \u001b[32m336.6/336.6 kB\u001b[0m \u001b[31m10.7 MB/s\u001b[0m eta \u001b[36m0:00:00\u001b[0m\n",
      "\u001b[?25hInstalling collected packages: accelerate\n",
      "  Attempting uninstall: accelerate\n",
      "    Found existing installation: accelerate 0.34.2\n",
      "    Uninstalling accelerate-0.34.2:\n",
      "      Successfully uninstalled accelerate-0.34.2\n",
      "Successfully installed accelerate-1.3.0\n"
     ]
    }
   ],
   "source": [
    "!pip install datasets evaluate transformers[sentencepiece]\n",
    "!pip install accelerate -U"
   ]
  },
  {
   "cell_type": "code",
   "execution_count": 3,
   "metadata": {
    "execution": {
     "iopub.execute_input": "2025-01-29T06:34:23.079020Z",
     "iopub.status.busy": "2025-01-29T06:34:23.078791Z",
     "iopub.status.idle": "2025-01-29T06:34:24.874767Z",
     "shell.execute_reply": "2025-01-29T06:34:24.873839Z",
     "shell.execute_reply.started": "2025-01-29T06:34:23.078999Z"
    },
    "trusted": true
   },
   "outputs": [],
   "source": [
    "import pandas as pd\n",
    "from datasets import load_dataset\n",
    "from transformers import AutoTokenizer, DataCollatorWithPadding\n",
    "import evaluate\n",
    "import numpy as np\n",
    "import matplotlib.pyplot as plt\n",
    "import seaborn as sns\n",
    "from datasets import Dataset\n",
    "from torch.cuda import amp\n",
    "from transformers import AutoModel, AutoTokenizer,AutoConfig\n",
    "from sklearn.metrics import classification_report, confusion_matrix, accuracy_score,f1_score\n",
    "import torch\n",
    "import warnings\n",
    "from sklearn.model_selection import StratifiedKFold\n",
    "import random\n",
    "warnings.filterwarnings('ignore')\n",
    "from collections import defaultdict\n",
    "import torch.nn as nn\n",
    "from transformers import get_scheduler\n",
    "from torch.utils.data import Dataset, DataLoader\n",
    "from tqdm.auto import tqdm\n",
    "from collections import defaultdict\n",
    "import gc\n",
    "gc.enable()"
   ]
  },
  {
   "cell_type": "code",
   "execution_count": 4,
   "metadata": {
    "execution": {
     "iopub.execute_input": "2025-01-29T06:34:24.876734Z",
     "iopub.status.busy": "2025-01-29T06:34:24.876247Z",
     "iopub.status.idle": "2025-01-29T06:34:25.474735Z",
     "shell.execute_reply": "2025-01-29T06:34:25.474041Z",
     "shell.execute_reply.started": "2025-01-29T06:34:24.876709Z"
    },
    "trusted": true
   },
   "outputs": [],
   "source": [
    "splits = {'train': 'cleaned_train_multi.csv', 'test': 'cleaned_test_multi.csv'}\n",
    "train_df = pd.read_csv(\"hf://datasets/kcrl/Shared_Task_Fake_News_Multi/\" + splits[\"train\"])\n",
    "test_df = pd.read_csv(\"hf://datasets/kcrl/Shared_Task_Fake_News_Multi/\" + splits[\"test\"])"
   ]
  },
  {
   "cell_type": "code",
   "execution_count": 22,
   "metadata": {
    "execution": {
     "iopub.execute_input": "2025-01-29T06:36:36.750701Z",
     "iopub.status.busy": "2025-01-29T06:36:36.750339Z",
     "iopub.status.idle": "2025-01-29T06:36:36.755644Z",
     "shell.execute_reply": "2025-01-29T06:36:36.754703Z",
     "shell.execute_reply.started": "2025-01-29T06:36:36.750675Z"
    },
    "trusted": true
   },
   "outputs": [],
   "source": [
    "labeling = {\n",
    "    'False': 0,\n",
    "    'HALF TRUE':1,\n",
    "    'MOSTLY FALSE':2,\n",
    "    'PARTLY FALSE':3\n",
    "}\n",
    "test_df['Label'] = test_df['Label'].apply(lambda x : labeling[x])"
   ]
  },
  {
   "cell_type": "code",
   "execution_count": 6,
   "metadata": {
    "execution": {
     "iopub.execute_input": "2025-01-29T06:34:28.123280Z",
     "iopub.status.busy": "2025-01-29T06:34:28.123021Z",
     "iopub.status.idle": "2025-01-29T06:34:28.181259Z",
     "shell.execute_reply": "2025-01-29T06:34:28.180292Z",
     "shell.execute_reply.started": "2025-01-29T06:34:28.123258Z"
    },
    "trusted": true
   },
   "outputs": [],
   "source": [
    "class Config:\n",
    "    NUM_EPOCHS = 10\n",
    "    NUM_FOLDS = 7\n",
    "    BATCH_SIZE = 32\n",
    "    MODEL_PATH = \"FacebookAI/xlm-roberta-base\"\n",
    "    LR = 2e-5\n",
    "    DROPOUT = 0.3\n",
    "    NUM_CLASSES = 4\n",
    "    SEED = 42\n",
    "    MAX_LEN = 80\n",
    "    DEVICE =  \"cuda\" if torch.cuda.is_available() else \"cpu\"\n",
    "\n",
    "config  = Config()"
   ]
  },
  {
   "cell_type": "code",
   "execution_count": 7,
   "metadata": {
    "execution": {
     "iopub.execute_input": "2025-01-29T06:34:30.173582Z",
     "iopub.status.busy": "2025-01-29T06:34:30.173222Z",
     "iopub.status.idle": "2025-01-29T06:34:33.955002Z",
     "shell.execute_reply": "2025-01-29T06:34:33.954057Z",
     "shell.execute_reply.started": "2025-01-29T06:34:30.173552Z"
    },
    "trusted": true
   },
   "outputs": [
    {
     "data": {
      "application/vnd.jupyter.widget-view+json": {
       "model_id": "0746331709ca4da0b4133d4ebaeca61b",
       "version_major": 2,
       "version_minor": 0
      },
      "text/plain": [
       "tokenizer_config.json:   0%|          | 0.00/25.0 [00:00<?, ?B/s]"
      ]
     },
     "metadata": {},
     "output_type": "display_data"
    },
    {
     "data": {
      "application/vnd.jupyter.widget-view+json": {
       "model_id": "98ba430c40ab46f683d067b11ffe0187",
       "version_major": 2,
       "version_minor": 0
      },
      "text/plain": [
       "config.json:   0%|          | 0.00/615 [00:00<?, ?B/s]"
      ]
     },
     "metadata": {},
     "output_type": "display_data"
    },
    {
     "data": {
      "application/vnd.jupyter.widget-view+json": {
       "model_id": "0e38699c8b864ac8a8121ff86cb845f5",
       "version_major": 2,
       "version_minor": 0
      },
      "text/plain": [
       "sentencepiece.bpe.model:   0%|          | 0.00/5.07M [00:00<?, ?B/s]"
      ]
     },
     "metadata": {},
     "output_type": "display_data"
    },
    {
     "data": {
      "application/vnd.jupyter.widget-view+json": {
       "model_id": "dee89604e17a45f98471edeb9e365e2f",
       "version_major": 2,
       "version_minor": 0
      },
      "text/plain": [
       "tokenizer.json:   0%|          | 0.00/9.10M [00:00<?, ?B/s]"
      ]
     },
     "metadata": {},
     "output_type": "display_data"
    }
   ],
   "source": [
    "tokenizer = AutoTokenizer.from_pretrained(config.MODEL_PATH)"
   ]
  },
  {
   "cell_type": "code",
   "execution_count": 8,
   "metadata": {
    "execution": {
     "iopub.execute_input": "2025-01-29T06:34:33.956358Z",
     "iopub.status.busy": "2025-01-29T06:34:33.956108Z",
     "iopub.status.idle": "2025-01-29T06:34:33.962509Z",
     "shell.execute_reply": "2025-01-29T06:34:33.961511Z",
     "shell.execute_reply.started": "2025-01-29T06:34:33.956336Z"
    },
    "trusted": true
   },
   "outputs": [],
   "source": [
    "class ClassifierDataset(Dataset):\n",
    "    def __init__(self, df,tokenizer):\n",
    "        super(ClassifierDataset, self).__init__()\n",
    "        self.df = df \n",
    "        self.tokenizer = tokenizer\n",
    "        self.max_length = config.MAX_LEN\n",
    "\n",
    "    def __len__(self):\n",
    "        return len(self.df)\n",
    "\n",
    "    def __getitem__(self, index):\n",
    "        text = str(self.df.iloc[index][\"News\"])\n",
    "        inputs = self.tokenizer(\n",
    "            text,\n",
    "            padding=True, \n",
    "            truncation=True,\n",
    "            max_length=self.max_length,\n",
    "            return_tensors=\"pt\"\n",
    "        )\n",
    "        input_ids = inputs[\"input_ids\"].squeeze(0)\n",
    "        attention_mask = inputs[\"attention_mask\"].squeeze(0)\n",
    "        return {\n",
    "            \"input_ids\": input_ids,\n",
    "            \"attention_mask\": attention_mask,\n",
    "        }"
   ]
  },
  {
   "cell_type": "code",
   "execution_count": 9,
   "metadata": {
    "execution": {
     "iopub.execute_input": "2025-01-29T06:34:33.964366Z",
     "iopub.status.busy": "2025-01-29T06:34:33.964113Z",
     "iopub.status.idle": "2025-01-29T06:34:33.985602Z",
     "shell.execute_reply": "2025-01-29T06:34:33.984711Z",
     "shell.execute_reply.started": "2025-01-29T06:34:33.964344Z"
    },
    "trusted": true
   },
   "outputs": [],
   "source": [
    "class ClassifierModel(nn.Module):\n",
    "    def __init__(self):\n",
    "        super(ClassifierModel,self).__init__()\n",
    "        self.model_config = AutoConfig.from_pretrained(config.MODEL_PATH)\n",
    "        self.model = AutoModel.from_pretrained(config.MODEL_PATH,config = self.model_config)\n",
    "        # Adjusting input size for three pooling methods\n",
    "        self.dense = torch.nn.Linear(self.model_config.hidden_size * 3, self.model_config.hidden_size)\n",
    "        self.dropout = torch.nn.Dropout(config.DROPOUT)\n",
    "        self.classifier = nn.Linear(self.model_config.hidden_size, config.NUM_CLASSES)\n",
    "        \n",
    "    def forward(self, input_ids, attention_mask):\n",
    "        output = self.model(input_ids=input_ids,attention_mask=attention_mask)\n",
    "        last_hidden_state = output[0]\n",
    "        \n",
    "        # CLS token\n",
    "        cls_token = last_hidden_state[:,0,:]\n",
    "        \n",
    "        # Mean pooling\n",
    "        input_mask_expanded = attention_mask.unsqueeze(-1).expand(last_hidden_state.size()).float()\n",
    "        sum_embeddings = torch.sum(last_hidden_state * input_mask_expanded, 1)\n",
    "        sum_mask = input_mask_expanded.sum(1)\n",
    "        sum_mask = torch.clamp(sum_mask, min=1e-9)\n",
    "        mean_embeddings = sum_embeddings / sum_mask\n",
    "        \n",
    "        # Max pooling\n",
    "        last_hidden_state[input_mask_expanded == 0] = -1e9 \n",
    "        max_embeddings = torch.max(last_hidden_state, 1)[0]\n",
    "        \n",
    "        # Concatenate all three embeddings\n",
    "        pooled = torch.cat((cls_token, mean_embeddings, max_embeddings), 1)\n",
    "        pooler = self.dense(pooled)\n",
    "        pooler = torch.nn.ReLU()(pooler)\n",
    "        pooler = self.dropout(pooler)\n",
    "        output = self.classifier(pooler)\n",
    "        return output"
   ]
  },
  {
   "cell_type": "code",
   "execution_count": 10,
   "metadata": {
    "execution": {
     "iopub.execute_input": "2025-01-29T06:34:33.986880Z",
     "iopub.status.busy": "2025-01-29T06:34:33.986646Z",
     "iopub.status.idle": "2025-01-29T06:34:34.003887Z",
     "shell.execute_reply": "2025-01-29T06:34:34.003016Z",
     "shell.execute_reply.started": "2025-01-29T06:34:33.986855Z"
    },
    "trusted": true
   },
   "outputs": [],
   "source": [
    "data_collator = DataCollatorWithPadding(tokenizer=tokenizer)"
   ]
  },
  {
   "cell_type": "code",
   "execution_count": 11,
   "metadata": {
    "execution": {
     "iopub.execute_input": "2025-01-29T06:34:35.080621Z",
     "iopub.status.busy": "2025-01-29T06:34:35.080278Z",
     "iopub.status.idle": "2025-01-29T06:34:35.085338Z",
     "shell.execute_reply": "2025-01-29T06:34:35.084522Z",
     "shell.execute_reply.started": "2025-01-29T06:34:35.080590Z"
    },
    "trusted": true
   },
   "outputs": [],
   "source": [
    "def predict(model, data_loader):\n",
    "    \"\"\"Returns an np.array with predictions of the |model| on |data_loader|\"\"\"\n",
    "    model.eval()\n",
    "    predictions = []\n",
    "    \n",
    "    with torch.no_grad():\n",
    "        for data in data_loader:\n",
    "            input_ids = data[\"input_ids\"].to(config.DEVICE)\n",
    "            attention_mask = data[\"attention_mask\"].to(config.DEVICE)\n",
    "            # Get predictions\n",
    "            outputs = model(input_ids, attention_mask)\n",
    "            \n",
    "            # Apply softmax to get probabilities\n",
    "            probs = torch.softmax(outputs, dim=1)\n",
    "            \n",
    "            predictions.append(probs.to(\"cpu\").numpy())\n",
    "    \n",
    "    return np.concatenate(predictions)"
   ]
  },
  {
   "cell_type": "code",
   "execution_count": 12,
   "metadata": {
    "execution": {
     "iopub.execute_input": "2025-01-29T06:34:37.267791Z",
     "iopub.status.busy": "2025-01-29T06:34:37.267503Z",
     "iopub.status.idle": "2025-01-29T06:34:37.272992Z",
     "shell.execute_reply": "2025-01-29T06:34:37.272044Z",
     "shell.execute_reply.started": "2025-01-29T06:34:37.267770Z"
    },
    "trusted": true
   },
   "outputs": [
    {
     "name": "stdout",
     "output_type": "stream",
     "text": [
      "Initializing array for 200 samples\n"
     ]
    }
   ],
   "source": [
    "test_dataset = ClassifierDataset(test_df, tokenizer)\n",
    "test_loader = DataLoader(test_dataset, \n",
    "                        batch_size=64, \n",
    "                        drop_last=False,\n",
    "                        collate_fn=data_collator, \n",
    "                        shuffle=False, \n",
    "                        num_workers=2)\n",
    "\n",
    "total_samples = len(test_dataset)  \n",
    "print(f\"Initializing array for {total_samples} samples\")"
   ]
  },
  {
   "cell_type": "code",
   "execution_count": null,
   "metadata": {
    "execution": {
     "iopub.execute_input": "2025-01-29T06:34:39.209985Z",
     "iopub.status.busy": "2025-01-29T06:34:39.209692Z",
     "iopub.status.idle": "2025-01-29T06:35:43.421801Z",
     "shell.execute_reply": "2025-01-29T06:35:43.420843Z",
     "shell.execute_reply.started": "2025-01-29T06:34:39.209962Z"
    },
    "trusted": true
   },
   "outputs": [
    {
     "name": "stdout",
     "output_type": "stream",
     "text": [
      "\n",
      "Using /kaggle/input/fake-news-multi-xlm-r-cls-mean-max/model_0.bin\n"
     ]
    },
    {
     "data": {
      "application/vnd.jupyter.widget-view+json": {
       "model_id": "1b357dbb215345b0aa3cff2da5861f99",
       "version_major": 2,
       "version_minor": 0
      },
      "text/plain": [
       "model.safetensors:   0%|          | 0.00/1.12G [00:00<?, ?B/s]"
      ]
     },
     "metadata": {},
     "output_type": "display_data"
    },
    {
     "name": "stdout",
     "output_type": "stream",
     "text": [
      "all_predictions shape: (7, 200, 4)\n",
      "fold_predictions shape: (200, 4)\n",
      "\n",
      "Using /kaggle/input/fake-news-multi-xlm-r-cls-mean-max/model_1.bin\n",
      "all_predictions shape: (7, 200, 4)\n",
      "fold_predictions shape: (200, 4)\n",
      "\n",
      "Using /kaggle/input/fake-news-multi-xlm-r-cls-mean-max/model_2.bin\n",
      "all_predictions shape: (7, 200, 4)\n",
      "fold_predictions shape: (200, 4)\n",
      "\n",
      "Using /kaggle/input/fake-news-multi-xlm-r-cls-mean-max/model_3.bin\n",
      "all_predictions shape: (7, 200, 4)\n",
      "fold_predictions shape: (200, 4)\n",
      "\n",
      "Using /kaggle/input/fake-news-multi-xlm-r-cls-mean-max/model_4.bin\n",
      "all_predictions shape: (7, 200, 4)\n",
      "fold_predictions shape: (200, 4)\n",
      "\n",
      "Using /kaggle/input/fake-news-multi-xlm-r-cls-mean-max/model_5.bin\n",
      "all_predictions shape: (7, 200, 4)\n",
      "fold_predictions shape: (200, 4)\n",
      "\n",
      "Using /kaggle/input/fake-news-multi-xlm-r-cls-mean-max/model_6.bin\n",
      "all_predictions shape: (7, 200, 4)\n",
      "fold_predictions shape: (200, 4)\n"
     ]
    }
   ],
   "source": [
    "num_classes = 4  \n",
    "all_predictions = np.zeros((config.NUM_FOLDS, total_samples, num_classes))\n",
    "\n",
    "for fold in range(config.NUM_FOLDS):            \n",
    "    model_path = f\"/kaggle/input/fake-news-multi-xlm-r-cls-mean-max/model_{fold}.bin\"\n",
    "    print(f\"\\nUsing {model_path}\")\n",
    "                        \n",
    "    model = ClassifierModel()\n",
    "    model.load_state_dict(torch.load(model_path))    \n",
    "    model.to(config.DEVICE)\n",
    "    \n",
    "    # Get predictions for current fold\n",
    "    fold_predictions = predict(model, test_loader)\n",
    "    \n",
    "    # Double check shapes before assignment\n",
    "    print(f\"all_predictions shape: {all_predictions.shape}\")\n",
    "    print(f\"fold_predictions shape: {fold_predictions.shape}\")\n",
    "    \n",
    "    assert fold_predictions.shape == (total_samples, num_classes), \\\n",
    "           f\"Prediction shape mismatch: got {fold_predictions.shape}, expected ({total_samples}, {num_classes})\"\n",
    "    \n",
    "    # Store predictions for this fold\n",
    "    all_predictions[fold] = fold_predictions\n",
    "    \n",
    "    # Free up memory\n",
    "    del model\n",
    "    gc.collect()\n",
    "\n",
    "# Calculate mean probabilities across all folds\n",
    "final_probabilities = all_predictions.mean(axis=0)\n",
    "\n",
    "# Get final class predictions from probabilities\n",
    "final_predictions = np.argmax(final_probabilities, axis=1)"
   ]
  },
  {
   "cell_type": "code",
   "execution_count": 14,
   "metadata": {
    "execution": {
     "iopub.execute_input": "2025-01-29T06:35:43.423292Z",
     "iopub.status.busy": "2025-01-29T06:35:43.422996Z",
     "iopub.status.idle": "2025-01-29T06:35:43.428263Z",
     "shell.execute_reply": "2025-01-29T06:35:43.427653Z",
     "shell.execute_reply.started": "2025-01-29T06:35:43.423266Z"
    },
    "trusted": true
   },
   "outputs": [
    {
     "data": {
      "text/plain": [
       "200"
      ]
     },
     "execution_count": 14,
     "metadata": {},
     "output_type": "execute_result"
    }
   ],
   "source": [
    "len(final_predictions)"
   ]
  },
  {
   "cell_type": "code",
   "execution_count": 23,
   "metadata": {
    "execution": {
     "iopub.execute_input": "2025-01-29T06:36:43.445913Z",
     "iopub.status.busy": "2025-01-29T06:36:43.445578Z",
     "iopub.status.idle": "2025-01-29T06:36:43.449637Z",
     "shell.execute_reply": "2025-01-29T06:36:43.448831Z",
     "shell.execute_reply.started": "2025-01-29T06:36:43.445883Z"
    },
    "trusted": true
   },
   "outputs": [],
   "source": [
    "y_true = test_df['Label'].values"
   ]
  },
  {
   "cell_type": "code",
   "execution_count": 24,
   "metadata": {
    "execution": {
     "iopub.execute_input": "2025-01-29T06:36:44.496398Z",
     "iopub.status.busy": "2025-01-29T06:36:44.496078Z",
     "iopub.status.idle": "2025-01-29T06:36:44.499821Z",
     "shell.execute_reply": "2025-01-29T06:36:44.499056Z",
     "shell.execute_reply.started": "2025-01-29T06:36:44.496364Z"
    },
    "trusted": true
   },
   "outputs": [],
   "source": [
    "y_pred = final_predictions"
   ]
  },
  {
   "cell_type": "code",
   "execution_count": 25,
   "metadata": {
    "execution": {
     "iopub.execute_input": "2025-01-29T06:36:45.190261Z",
     "iopub.status.busy": "2025-01-29T06:36:45.189982Z",
     "iopub.status.idle": "2025-01-29T06:36:45.220741Z",
     "shell.execute_reply": "2025-01-29T06:36:45.219908Z",
     "shell.execute_reply.started": "2025-01-29T06:36:45.190238Z"
    },
    "trusted": true
   },
   "outputs": [
    {
     "name": "stdout",
     "output_type": "stream",
     "text": [
      "Classification Report:\n",
      "               precision    recall  f1-score   support\n",
      "\n",
      "           0       0.74      0.84      0.79       100\n",
      "           1       0.65      0.41      0.50        37\n",
      "           2       0.55      0.57      0.56        56\n",
      "           3       0.80      0.57      0.67         7\n",
      "\n",
      "    accuracy                           0.68       200\n",
      "   macro avg       0.69      0.60      0.63       200\n",
      "weighted avg       0.67      0.68      0.67       200\n",
      "\n",
      "Confusion Matrix:\n",
      " [[84  0 15  1]\n",
      " [12 15 10  0]\n",
      " [16  8 32  0]\n",
      " [ 2  0  1  4]]\n",
      "Weighted F1 Score: 0.665549680275455\n",
      "Macro F1 Score: 0.6282792261026398\n",
      "Weighted Precision: 0.671555985165312\n",
      "Macro Precision: 0.6851850390594176\n",
      "Weighted Recall: 0.675\n",
      "Macro Recall: 0.5970656370656371\n",
      "Accuracy: 0.675\n"
     ]
    }
   ],
   "source": [
    "from sklearn.metrics import (\n",
    "    classification_report,\n",
    "    confusion_matrix,\n",
    "    f1_score,\n",
    "    accuracy_score,\n",
    "    precision_score,\n",
    "    recall_score\n",
    ")\n",
    "\n",
    "# Print the classification report\n",
    "print(\"Classification Report:\\n\", classification_report(y_true, y_pred))\n",
    "\n",
    "# Print the confusion matrix\n",
    "print(\"Confusion Matrix:\\n\", confusion_matrix(y_true, y_pred))\n",
    "\n",
    "# Calculate individual metrics for weighted and macro averages\n",
    "weighted_f1 = f1_score(y_true, y_pred, average='weighted')\n",
    "macro_f1 = f1_score(y_true, y_pred, average='macro')\n",
    "\n",
    "weighted_precision = precision_score(y_true, y_pred, average='weighted')\n",
    "macro_precision = precision_score(y_true, y_pred, average='macro')\n",
    "\n",
    "weighted_recall = recall_score(y_true, y_pred, average='weighted')\n",
    "macro_recall = recall_score(y_true, y_pred, average='macro')\n",
    "\n",
    "accuracy = accuracy_score(y_true, y_pred)\n",
    "\n",
    "# Print metrics\n",
    "print(\"Weighted F1 Score:\", weighted_f1)\n",
    "print(\"Macro F1 Score:\", macro_f1)\n",
    "print(\"Weighted Precision:\", weighted_precision)\n",
    "print(\"Macro Precision:\", macro_precision)\n",
    "print(\"Weighted Recall:\", weighted_recall)\n",
    "print(\"Macro Recall:\", macro_recall)\n",
    "print(\"Accuracy:\", accuracy)"
   ]
  },
  {
   "cell_type": "code",
   "execution_count": 26,
   "metadata": {
    "execution": {
     "iopub.execute_input": "2025-01-29T06:37:27.667525Z",
     "iopub.status.busy": "2025-01-29T06:37:27.667157Z",
     "iopub.status.idle": "2025-01-29T06:37:28.706685Z",
     "shell.execute_reply": "2025-01-29T06:37:28.705774Z",
     "shell.execute_reply.started": "2025-01-29T06:37:27.667500Z"
    },
    "trusted": true
   },
   "outputs": [
    {
     "data": {
      "image/png": "[encoded data removed]",
      "text/plain": [
       "<Figure size 640x480 with 2 Axes>"
      ]
     },
     "metadata": {},
     "output_type": "display_data"
    }
   ],
   "source": [
    "import torch\n",
    "import matplotlib.pyplot as plt\n",
    "from mlxtend.plotting import plot_confusion_matrix\n",
    "from torchmetrics import ConfusionMatrix\n",
    "y_pred = torch.tensor(y_pred)\n",
    "y_true = torch.tensor(y_true)\n",
    "\n",
    "cmat = ConfusionMatrix(task=\"MULTICLASS\", num_classes=4)\n",
    "confusion_matrix = cmat(y_pred, y_true)\n",
    "\n",
    "fig, ax = plot_confusion_matrix(conf_mat=confusion_matrix.cpu().numpy(),\n",
    "                                class_names=['FALSE','HALF TRUE','MOSTLY FALSE','PARTLY FALSE'],\n",
    "                                colorbar=True)\n",
    "\n",
    "# Rotate the x-axis labels\n",
    "plt.xticks(rotation=45, ha=\"right\", rotation_mode=\"anchor\")\n",
    "\n",
    "# Show the plot\n",
    "plt.show()"
   ]
  },
  {
   "cell_type": "code",
   "execution_count": null,
   "metadata": {
    "trusted": true
   },
   "outputs": [],
   "source": []
  }
 ],
 "metadata": {
  "kaggle": {
   "accelerator": "gpu",
   "dataSources": [
    {
     "sourceId": 216761627,
     "sourceType": "kernelVersion"
    }
   ],
   "dockerImageVersionId": 30823,
   "isGpuEnabled": true,
   "isInternetEnabled": true,
   "language": "python",
   "sourceType": "notebook"
  },
  "kernelspec": {
   "display_name": "Python 3",
   "language": "python",
   "name": "python3"
  },
  "language_info": {
   "codemirror_mode": {
    "name": "ipython",
    "version": 3
   },
   "file_extension": ".py",
   "mimetype": "text/x-python",
   "name": "python",
   "nbconvert_exporter": "python",
   "pygments_lexer": "ipython3",
   "version": "3.10.12"
  }
 },
 "nbformat": 4,
 "nbformat_minor": 4
}
