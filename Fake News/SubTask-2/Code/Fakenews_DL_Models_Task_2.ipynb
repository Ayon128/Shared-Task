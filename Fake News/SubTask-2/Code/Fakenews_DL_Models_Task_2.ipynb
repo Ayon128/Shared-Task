{
  "nbformat": 4,
  "nbformat_minor": 0,
  "metadata": {
    "colab": {
      "provenance": [],
      "gpuType": "T4"
    },
    "kernelspec": {
      "name": "python3",
      "display_name": "Python 3"
    },
    "language_info": {
      "name": "python"
    },
    "accelerator": "GPU"
  },
  "cells": [
    {
      "cell_type": "code",
      "execution_count": null,
      "metadata": {
        "colab": {
          "base_uri": "https://localhost:8080/"
        },
        "id": "TTfjT5_u58Mk",
        "outputId": "4ba21290-924d-4873-964e-59d96c6238f2"
      },
      "outputs": [
        {
          "output_type": "stream",
          "name": "stderr",
          "text": [
            "[nltk_data] Downloading package stopwords to /root/nltk_data...\n",
            "[nltk_data]   Package stopwords is already up-to-date!\n",
            "[nltk_data] Downloading package punkt to /root/nltk_data...\n",
            "[nltk_data]   Package punkt is already up-to-date!\n"
          ]
        }
      ],
      "source": [
        "import pandas as pd\n",
        "import numpy as np\n",
        "import matplotlib.pyplot as plt\n",
        "import seaborn as sns\n",
        "import nltk\n",
        "nltk.download('stopwords')\n",
        "nltk.download('punkt')\n",
        "import string\n",
        "from nltk.corpus import stopwords\n",
        "from nltk.stem import PorterStemmer\n",
        "from nltk.tokenize import sent_tokenize, word_tokenize\n",
        "from sklearn.preprocessing import LabelEncoder\n",
        "from sklearn.model_selection import train_test_split\n",
        "from sklearn.metrics import (\n",
        "    accuracy_score, f1_score, precision_score, recall_score, roc_auc_score,\n",
        "    confusion_matrix, classification_report\n",
        ")\n",
        "\n",
        "from tensorflow.keras.preprocessing.text import Tokenizer\n",
        "from tensorflow.keras.preprocessing.sequence import pad_sequences\n",
        "from tensorflow.keras import Sequential\n",
        "from tensorflow.keras.models import Model\n",
        "from keras import Input, Model\n",
        "from keras.layers import (\n",
        "    Embedding, Bidirectional, LSTM, Dropout, BatchNormalization,\n",
        "    Conv1D, MaxPooling1D, GlobalMaxPooling1D, Flatten, Dense, GRU\n",
        ")\n",
        "from tensorflow.keras.regularizers import l2\n",
        "from tensorflow.keras.layers import BatchNormalization\n",
        "from tensorflow.keras.callbacks import ModelCheckpoint, EarlyStopping\n",
        "import gc\n",
        "#warnings\n",
        "import warnings\n",
        "warnings.filterwarnings(\"ignore\")"
      ]
    },
    {
      "cell_type": "code",
      "source": [
        "splits = {'train': 'cleaned_train_multi.csv', 'test': 'cleaned_test_multi.csv'}\n",
        "train_df = pd.read_csv(\"hf://datasets/kcrl/Shared_Task_Fake_News_Multi/\" + splits[\"train\"])\n",
        "test_df = pd.read_csv(\"hf://datasets/kcrl/Shared_Task_Fake_News_Multi/\" + splits[\"test\"])"
      ],
      "metadata": {
        "id": "8-R7z-sI6HfN"
      },
      "execution_count": null,
      "outputs": []
    },
    {
      "cell_type": "code",
      "source": [
        "with pd.option_context('display.max_colwidth',0):\n",
        "    display(train_df.sample(n=10))"
      ],
      "metadata": {
        "colab": {
          "base_uri": "https://localhost:8080/",
          "height": 883
        },
        "id": "EoqnriW66Xn6",
        "outputId": "4378cb7b-dd99-4031-a064-f07a1c2e5330"
      },
      "execution_count": null,
      "outputs": [
        {
          "output_type": "display_data",
          "data": {
            "text/plain": [
              "                    ID  \\\n",
              "701   FAKE_MAL_TR_0702   \n",
              "61    FAKE_MAL_TR_0062   \n",
              "1061  FAKE_MAL_TR_1062   \n",
              "162   FAKE_MAL_TR_0163   \n",
              "163   FAKE_MAL_TR_0164   \n",
              "539   FAKE_MAL_TR_0540   \n",
              "1249  FAKE_MAL_TR_1250   \n",
              "145   FAKE_MAL_TR_0146   \n",
              "1019  FAKE_MAL_TR_1020   \n",
              "1001  FAKE_MAL_TR_1002   \n",
              "\n",
              "                                                                                                                                                                                                                                     News  \\\n",
              "701   കെഎസ്ആര്‍ടിസി ഫീഡര്‍ ബസ് കണ്ട് ഭയന്ന് ഓടി വീണ് മൂന്ന് പേര്‍ക്ക് പരുക്കേറ്റു                                                                                                                                                           \n",
              "61    യൂണിഫോമിനൊപ്പം താടി നീട്ടി വളര്‍ത്തിയ കേരള പൊലീസ് ഉദ്യോഗസ്ഥന്‍.                                                                                                                                                                      \n",
              "1061  പഴയ എഞ്ചിനുമായി വന്ദേ ഭാരത് എക്‌സ്പ്രസ്സ്                                                                                                                                                                                             \n",
              "162   കൊല്ലത്ത് ലെയ്‌സ് ചോദിച്ചിട്ട് നല്‍കിയില്ലെന്ന കാരണത്താല്‍ 19കാരനെ മര്‍ദ്ദിച്ച സംഘം സിപിഎം പ്രവര്‍ത്തകരാണ്                                                                                                                            \n",
              "163   തിരഞ്ഞെടുപ്പുസമയത്ത് ഉമ്മന്‍ചാണ്ടിക്കു വേണ്ടി പുതുപ്പള്ളിയിലും ബിന്ദു കൃഷ്ണയ്ക്കു വേണ്ടി കൊല്ലത്തും സംസാരിച്ച വനിതാ പ്രവര്‍ത്തകത്തന്നെയാണ് കെ-റെയില്‍ വിരുദ്ധ സമരത്തിനെത്തിയത്.                                                       \n",
              "539   അതിർത്തിയിൽ ഇന്ത്യൻ സൈനികരോട് കയർക്കുന്ന ചൈനീസ് പട്ടാളം; വീഡിയോയ്ക്ക് പിന്നിലെ സത്യമിത്                                                                                                                                               \n",
              "1249  കോവിഡ് -19 എംആർഎൻഎ വാക്സിനുകളിൽ നിന്നുള്ള സ്പൈക്ക് പ്രോട്ടീൻ അപകടകരമാണ്                                                                                                                                                               \n",
              "145   തള്ളിയിട്ട് 4 വര്‍ഷം, ഇപ്പോഴും നിപ വൈറസ് പരിശോധിക്കാന്‍ പൂനെയില്‍ ക്യൂ നില്‍ക്കണം'; സംഭവം എത്രത്തോളം ശരി?                                                                                                                             \n",
              "1019  claim by പീഡിപ്പിക്കപ്പെട്ട 5 വയസ്സുകാരിയേയും കൊണ്ട് പാർലിമെന്റിന് ചുറ്റും അലറി വിളിച്ചുകൊണ്ട് നടക്കേണ്ടി വരുന്ന ഒരു പിതാവിന്റെ അവസ്ഥ. ഈ രാജ്യത്ത് സാധാരണക്കാരന്റെ ജീവിതം എങ്ങോട്ടാണെന്നതിന്റെ വ്യക്തമായ സൂചനയാണ്. ബേട്ടീ ബച്ചാവോ :   \n",
              "1001  ഇ ശ്രീധരനെ ഐക്യരാഷ്ട്രസഭ ഉപദേശക സമിതി അംഗമായി നിയമിച്ചു                                                                                                                                                                               \n",
              "\n",
              "             Label  \n",
              "701   FALSE         \n",
              "61    FALSE         \n",
              "1061  FALSE         \n",
              "162   FALSE         \n",
              "163   FALSE         \n",
              "539   MOSTLY FALSE  \n",
              "1249  FALSE         \n",
              "145   FALSE         \n",
              "1019  FALSE         \n",
              "1001  HALF TRUE     "
            ],
            "text/html": [
              "\n",
              "  <div id=\"df-2250c6dc-86f0-48be-8481-bdbb820a7a50\" class=\"colab-df-container\">\n",
              "    <div>\n",
              "<style scoped>\n",
              "    .dataframe tbody tr th:only-of-type {\n",
              "        vertical-align: middle;\n",
              "    }\n",
              "\n",
              "    .dataframe tbody tr th {\n",
              "        vertical-align: top;\n",
              "    }\n",
              "\n",
              "    .dataframe thead th {\n",
              "        text-align: right;\n",
              "    }\n",
              "</style>\n",
              "<table border=\"1\" class=\"dataframe\">\n",
              "  <thead>\n",
              "    <tr style=\"text-align: right;\">\n",
              "      <th></th>\n",
              "      <th>ID</th>\n",
              "      <th>News</th>\n",
              "      <th>Label</th>\n",
              "    </tr>\n",
              "  </thead>\n",
              "  <tbody>\n",
              "    <tr>\n",
              "      <th>701</th>\n",
              "      <td>FAKE_MAL_TR_0702</td>\n",
              "      <td>കെഎസ്ആര്‍ടിസി ഫീഡര്‍ ബസ് കണ്ട് ഭയന്ന് ഓടി വീണ് മൂന്ന് പേര്‍ക്ക് പരുക്കേറ്റു</td>\n",
              "      <td>FALSE</td>\n",
              "    </tr>\n",
              "    <tr>\n",
              "      <th>61</th>\n",
              "      <td>FAKE_MAL_TR_0062</td>\n",
              "      <td>യൂണിഫോമിനൊപ്പം താടി നീട്ടി വളര്‍ത്തിയ കേരള പൊലീസ് ഉദ്യോഗസ്ഥന്‍.</td>\n",
              "      <td>FALSE</td>\n",
              "    </tr>\n",
              "    <tr>\n",
              "      <th>1061</th>\n",
              "      <td>FAKE_MAL_TR_1062</td>\n",
              "      <td>പഴയ എഞ്ചിനുമായി വന്ദേ ഭാരത് എക്‌സ്പ്രസ്സ്</td>\n",
              "      <td>FALSE</td>\n",
              "    </tr>\n",
              "    <tr>\n",
              "      <th>162</th>\n",
              "      <td>FAKE_MAL_TR_0163</td>\n",
              "      <td>കൊല്ലത്ത് ലെയ്‌സ് ചോദിച്ചിട്ട് നല്‍കിയില്ലെന്ന കാരണത്താല്‍ 19കാരനെ മര്‍ദ്ദിച്ച സംഘം സിപിഎം പ്രവര്‍ത്തകരാണ്</td>\n",
              "      <td>FALSE</td>\n",
              "    </tr>\n",
              "    <tr>\n",
              "      <th>163</th>\n",
              "      <td>FAKE_MAL_TR_0164</td>\n",
              "      <td>തിരഞ്ഞെടുപ്പുസമയത്ത് ഉമ്മന്‍ചാണ്ടിക്കു വേണ്ടി പുതുപ്പള്ളിയിലും ബിന്ദു കൃഷ്ണയ്ക്കു വേണ്ടി കൊല്ലത്തും സംസാരിച്ച വനിതാ പ്രവര്‍ത്തകത്തന്നെയാണ് കെ-റെയില്‍ വിരുദ്ധ സമരത്തിനെത്തിയത്.</td>\n",
              "      <td>FALSE</td>\n",
              "    </tr>\n",
              "    <tr>\n",
              "      <th>539</th>\n",
              "      <td>FAKE_MAL_TR_0540</td>\n",
              "      <td>അതിർത്തിയിൽ ഇന്ത്യൻ സൈനികരോട് കയർക്കുന്ന ചൈനീസ് പട്ടാളം; വീഡിയോയ്ക്ക് പിന്നിലെ സത്യമിത്</td>\n",
              "      <td>MOSTLY FALSE</td>\n",
              "    </tr>\n",
              "    <tr>\n",
              "      <th>1249</th>\n",
              "      <td>FAKE_MAL_TR_1250</td>\n",
              "      <td>കോവിഡ് -19 എംആർഎൻഎ വാക്സിനുകളിൽ നിന്നുള്ള സ്പൈക്ക് പ്രോട്ടീൻ അപകടകരമാണ്</td>\n",
              "      <td>FALSE</td>\n",
              "    </tr>\n",
              "    <tr>\n",
              "      <th>145</th>\n",
              "      <td>FAKE_MAL_TR_0146</td>\n",
              "      <td>തള്ളിയിട്ട് 4 വര്‍ഷം, ഇപ്പോഴും നിപ വൈറസ് പരിശോധിക്കാന്‍ പൂനെയില്‍ ക്യൂ നില്‍ക്കണം'; സംഭവം എത്രത്തോളം ശരി?</td>\n",
              "      <td>FALSE</td>\n",
              "    </tr>\n",
              "    <tr>\n",
              "      <th>1019</th>\n",
              "      <td>FAKE_MAL_TR_1020</td>\n",
              "      <td>claim by പീഡിപ്പിക്കപ്പെട്ട 5 വയസ്സുകാരിയേയും കൊണ്ട് പാർലിമെന്റിന് ചുറ്റും അലറി വിളിച്ചുകൊണ്ട് നടക്കേണ്ടി വരുന്ന ഒരു പിതാവിന്റെ അവസ്ഥ. ഈ രാജ്യത്ത് സാധാരണക്കാരന്റെ ജീവിതം എങ്ങോട്ടാണെന്നതിന്റെ വ്യക്തമായ സൂചനയാണ്. ബേട്ടീ ബച്ചാവോ :</td>\n",
              "      <td>FALSE</td>\n",
              "    </tr>\n",
              "    <tr>\n",
              "      <th>1001</th>\n",
              "      <td>FAKE_MAL_TR_1002</td>\n",
              "      <td>ഇ ശ്രീധരനെ ഐക്യരാഷ്ട്രസഭ ഉപദേശക സമിതി അംഗമായി നിയമിച്ചു</td>\n",
              "      <td>HALF TRUE</td>\n",
              "    </tr>\n",
              "  </tbody>\n",
              "</table>\n",
              "</div>\n",
              "    <div class=\"colab-df-buttons\">\n",
              "\n",
              "  <div class=\"colab-df-container\">\n",
              "    <button class=\"colab-df-convert\" onclick=\"convertToInteractive('df-2250c6dc-86f0-48be-8481-bdbb820a7a50')\"\n",
              "            title=\"Convert this dataframe to an interactive table.\"\n",
              "            style=\"display:none;\">\n",
              "\n",
              "  <svg xmlns=\"http://www.w3.org/2000/svg\" height=\"24px\" viewBox=\"0 -960 960 960\">\n",
              "    <path d=\"M120-120v-720h720v720H120Zm60-500h600v-160H180v160Zm220 220h160v-160H400v160Zm0 220h160v-160H400v160ZM180-400h160v-160H180v160Zm440 0h160v-160H620v160ZM180-180h160v-160H180v160Zm440 0h160v-160H620v160Z\"/>\n",
              "  </svg>\n",
              "    </button>\n",
              "\n",
              "  <style>\n",
              "    .colab-df-container {\n",
              "      display:flex;\n",
              "      gap: 12px;\n",
              "    }\n",
              "\n",
              "    .colab-df-convert {\n",
              "      background-color: #E8F0FE;\n",
              "      border: none;\n",
              "      border-radius: 50%;\n",
              "      cursor: pointer;\n",
              "      display: none;\n",
              "      fill: #1967D2;\n",
              "      height: 32px;\n",
              "      padding: 0 0 0 0;\n",
              "      width: 32px;\n",
              "    }\n",
              "\n",
              "    .colab-df-convert:hover {\n",
              "      background-color: #E2EBFA;\n",
              "      box-shadow: 0px 1px 2px rgba(60, 64, 67, 0.3), 0px 1px 3px 1px rgba(60, 64, 67, 0.15);\n",
              "      fill: #174EA6;\n",
              "    }\n",
              "\n",
              "    .colab-df-buttons div {\n",
              "      margin-bottom: 4px;\n",
              "    }\n",
              "\n",
              "    [theme=dark] .colab-df-convert {\n",
              "      background-color: #3B4455;\n",
              "      fill: #D2E3FC;\n",
              "    }\n",
              "\n",
              "    [theme=dark] .colab-df-convert:hover {\n",
              "      background-color: #434B5C;\n",
              "      box-shadow: 0px 1px 3px 1px rgba(0, 0, 0, 0.15);\n",
              "      filter: drop-shadow(0px 1px 2px rgba(0, 0, 0, 0.3));\n",
              "      fill: #FFFFFF;\n",
              "    }\n",
              "  </style>\n",
              "\n",
              "    <script>\n",
              "      const buttonEl =\n",
              "        document.querySelector('#df-2250c6dc-86f0-48be-8481-bdbb820a7a50 button.colab-df-convert');\n",
              "      buttonEl.style.display =\n",
              "        google.colab.kernel.accessAllowed ? 'block' : 'none';\n",
              "\n",
              "      async function convertToInteractive(key) {\n",
              "        const element = document.querySelector('#df-2250c6dc-86f0-48be-8481-bdbb820a7a50');\n",
              "        const dataTable =\n",
              "          await google.colab.kernel.invokeFunction('convertToInteractive',\n",
              "                                                    [key], {});\n",
              "        if (!dataTable) return;\n",
              "\n",
              "        const docLinkHtml = 'Like what you see? Visit the ' +\n",
              "          '<a target=\"_blank\" href=https://colab.research.google.com/notebooks/data_table.ipynb>data table notebook</a>'\n",
              "          + ' to learn more about interactive tables.';\n",
              "        element.innerHTML = '';\n",
              "        dataTable['output_type'] = 'display_data';\n",
              "        await google.colab.output.renderOutput(dataTable, element);\n",
              "        const docLink = document.createElement('div');\n",
              "        docLink.innerHTML = docLinkHtml;\n",
              "        element.appendChild(docLink);\n",
              "      }\n",
              "    </script>\n",
              "  </div>\n",
              "\n",
              "\n",
              "<div id=\"df-bfd0542a-e74e-4a7b-81a2-db15b37ce1df\">\n",
              "  <button class=\"colab-df-quickchart\" onclick=\"quickchart('df-bfd0542a-e74e-4a7b-81a2-db15b37ce1df')\"\n",
              "            title=\"Suggest charts\"\n",
              "            style=\"display:none;\">\n",
              "\n",
              "<svg xmlns=\"http://www.w3.org/2000/svg\" height=\"24px\"viewBox=\"0 0 24 24\"\n",
              "     width=\"24px\">\n",
              "    <g>\n",
              "        <path d=\"M19 3H5c-1.1 0-2 .9-2 2v14c0 1.1.9 2 2 2h14c1.1 0 2-.9 2-2V5c0-1.1-.9-2-2-2zM9 17H7v-7h2v7zm4 0h-2V7h2v10zm4 0h-2v-4h2v4z\"/>\n",
              "    </g>\n",
              "</svg>\n",
              "  </button>\n",
              "\n",
              "<style>\n",
              "  .colab-df-quickchart {\n",
              "      --bg-color: #E8F0FE;\n",
              "      --fill-color: #1967D2;\n",
              "      --hover-bg-color: #E2EBFA;\n",
              "      --hover-fill-color: #174EA6;\n",
              "      --disabled-fill-color: #AAA;\n",
              "      --disabled-bg-color: #DDD;\n",
              "  }\n",
              "\n",
              "  [theme=dark] .colab-df-quickchart {\n",
              "      --bg-color: #3B4455;\n",
              "      --fill-color: #D2E3FC;\n",
              "      --hover-bg-color: #434B5C;\n",
              "      --hover-fill-color: #FFFFFF;\n",
              "      --disabled-bg-color: #3B4455;\n",
              "      --disabled-fill-color: #666;\n",
              "  }\n",
              "\n",
              "  .colab-df-quickchart {\n",
              "    background-color: var(--bg-color);\n",
              "    border: none;\n",
              "    border-radius: 50%;\n",
              "    cursor: pointer;\n",
              "    display: none;\n",
              "    fill: var(--fill-color);\n",
              "    height: 32px;\n",
              "    padding: 0;\n",
              "    width: 32px;\n",
              "  }\n",
              "\n",
              "  .colab-df-quickchart:hover {\n",
              "    background-color: var(--hover-bg-color);\n",
              "    box-shadow: 0 1px 2px rgba(60, 64, 67, 0.3), 0 1px 3px 1px rgba(60, 64, 67, 0.15);\n",
              "    fill: var(--button-hover-fill-color);\n",
              "  }\n",
              "\n",
              "  .colab-df-quickchart-complete:disabled,\n",
              "  .colab-df-quickchart-complete:disabled:hover {\n",
              "    background-color: var(--disabled-bg-color);\n",
              "    fill: var(--disabled-fill-color);\n",
              "    box-shadow: none;\n",
              "  }\n",
              "\n",
              "  .colab-df-spinner {\n",
              "    border: 2px solid var(--fill-color);\n",
              "    border-color: transparent;\n",
              "    border-bottom-color: var(--fill-color);\n",
              "    animation:\n",
              "      spin 1s steps(1) infinite;\n",
              "  }\n",
              "\n",
              "  @keyframes spin {\n",
              "    0% {\n",
              "      border-color: transparent;\n",
              "      border-bottom-color: var(--fill-color);\n",
              "      border-left-color: var(--fill-color);\n",
              "    }\n",
              "    20% {\n",
              "      border-color: transparent;\n",
              "      border-left-color: var(--fill-color);\n",
              "      border-top-color: var(--fill-color);\n",
              "    }\n",
              "    30% {\n",
              "      border-color: transparent;\n",
              "      border-left-color: var(--fill-color);\n",
              "      border-top-color: var(--fill-color);\n",
              "      border-right-color: var(--fill-color);\n",
              "    }\n",
              "    40% {\n",
              "      border-color: transparent;\n",
              "      border-right-color: var(--fill-color);\n",
              "      border-top-color: var(--fill-color);\n",
              "    }\n",
              "    60% {\n",
              "      border-color: transparent;\n",
              "      border-right-color: var(--fill-color);\n",
              "    }\n",
              "    80% {\n",
              "      border-color: transparent;\n",
              "      border-right-color: var(--fill-color);\n",
              "      border-bottom-color: var(--fill-color);\n",
              "    }\n",
              "    90% {\n",
              "      border-color: transparent;\n",
              "      border-bottom-color: var(--fill-color);\n",
              "    }\n",
              "  }\n",
              "</style>\n",
              "\n",
              "  <script>\n",
              "    async function quickchart(key) {\n",
              "      const quickchartButtonEl =\n",
              "        document.querySelector('#' + key + ' button');\n",
              "      quickchartButtonEl.disabled = true;  // To prevent multiple clicks.\n",
              "      quickchartButtonEl.classList.add('colab-df-spinner');\n",
              "      try {\n",
              "        const charts = await google.colab.kernel.invokeFunction(\n",
              "            'suggestCharts', [key], {});\n",
              "      } catch (error) {\n",
              "        console.error('Error during call to suggestCharts:', error);\n",
              "      }\n",
              "      quickchartButtonEl.classList.remove('colab-df-spinner');\n",
              "      quickchartButtonEl.classList.add('colab-df-quickchart-complete');\n",
              "    }\n",
              "    (() => {\n",
              "      let quickchartButtonEl =\n",
              "        document.querySelector('#df-bfd0542a-e74e-4a7b-81a2-db15b37ce1df button');\n",
              "      quickchartButtonEl.style.display =\n",
              "        google.colab.kernel.accessAllowed ? 'block' : 'none';\n",
              "    })();\n",
              "  </script>\n",
              "</div>\n",
              "\n",
              "    </div>\n",
              "  </div>\n"
            ],
            "application/vnd.google.colaboratory.intrinsic+json": {
              "type": "dataframe",
              "summary": "{\n  \"name\": \"    display(train_df\",\n  \"rows\": 10,\n  \"fields\": [\n    {\n      \"column\": \"ID\",\n      \"properties\": {\n        \"dtype\": \"string\",\n        \"num_unique_values\": 10,\n        \"samples\": [\n          \"FAKE_MAL_TR_1020\",\n          \"FAKE_MAL_TR_0062\",\n          \"FAKE_MAL_TR_0540\"\n        ],\n        \"semantic_type\": \"\",\n        \"description\": \"\"\n      }\n    },\n    {\n      \"column\": \"News\",\n      \"properties\": {\n        \"dtype\": \"string\",\n        \"num_unique_values\": 10,\n        \"samples\": [\n          \"claim by \\u0d2a\\u0d40\\u0d21\\u0d3f\\u0d2a\\u0d4d\\u0d2a\\u0d3f\\u0d15\\u0d4d\\u0d15\\u0d2a\\u0d4d\\u0d2a\\u0d46\\u0d1f\\u0d4d\\u0d1f 5 \\u0d35\\u0d2f\\u0d38\\u0d4d\\u0d38\\u0d41\\u0d15\\u0d3e\\u0d30\\u0d3f\\u0d2f\\u0d47\\u0d2f\\u0d41\\u0d02 \\u0d15\\u0d4a\\u0d23\\u0d4d\\u0d1f\\u0d4d \\u0d2a\\u0d3e\\u0d7c\\u0d32\\u0d3f\\u0d2e\\u0d46\\u0d28\\u0d4d\\u0d31\\u0d3f\\u0d28\\u0d4d \\u0d1a\\u0d41\\u0d31\\u0d4d\\u0d31\\u0d41\\u0d02 \\u0d05\\u0d32\\u0d31\\u0d3f \\u0d35\\u0d3f\\u0d33\\u0d3f\\u0d1a\\u0d4d\\u0d1a\\u0d41\\u0d15\\u0d4a\\u0d23\\u0d4d\\u0d1f\\u0d4d \\u0d28\\u0d1f\\u0d15\\u0d4d\\u0d15\\u0d47\\u0d23\\u0d4d\\u0d1f\\u0d3f \\u0d35\\u0d30\\u0d41\\u0d28\\u0d4d\\u0d28 \\u0d12\\u0d30\\u0d41 \\u0d2a\\u0d3f\\u0d24\\u0d3e\\u0d35\\u0d3f\\u0d28\\u0d4d\\u0d31\\u0d46 \\u0d05\\u0d35\\u0d38\\u0d4d\\u0d25. \\u0d08 \\u0d30\\u0d3e\\u0d1c\\u0d4d\\u0d2f\\u0d24\\u0d4d\\u0d24\\u0d4d \\u0d38\\u0d3e\\u0d27\\u0d3e\\u0d30\\u0d23\\u0d15\\u0d4d\\u0d15\\u0d3e\\u0d30\\u0d28\\u0d4d\\u0d31\\u0d46 \\u0d1c\\u0d40\\u0d35\\u0d3f\\u0d24\\u0d02 \\u0d0e\\u0d19\\u0d4d\\u0d19\\u0d4b\\u0d1f\\u0d4d\\u0d1f\\u0d3e\\u0d23\\u0d46\\u0d28\\u0d4d\\u0d28\\u0d24\\u0d3f\\u0d28\\u0d4d\\u0d31\\u0d46 \\u0d35\\u0d4d\\u0d2f\\u0d15\\u0d4d\\u0d24\\u0d2e\\u0d3e\\u0d2f \\u0d38\\u0d42\\u0d1a\\u0d28\\u0d2f\\u0d3e\\u0d23\\u0d4d. \\u0d2c\\u0d47\\u0d1f\\u0d4d\\u0d1f\\u0d40 \\u0d2c\\u0d1a\\u0d4d\\u0d1a\\u0d3e\\u0d35\\u0d4b :\",\n          \"\\u0d2f\\u0d42\\u0d23\\u0d3f\\u0d2b\\u0d4b\\u0d2e\\u0d3f\\u0d28\\u0d4a\\u0d2a\\u0d4d\\u0d2a\\u0d02 \\u0d24\\u0d3e\\u0d1f\\u0d3f \\u0d28\\u0d40\\u0d1f\\u0d4d\\u0d1f\\u0d3f \\u0d35\\u0d33\\u0d30\\u0d4d\\u200d\\u0d24\\u0d4d\\u0d24\\u0d3f\\u0d2f \\u0d15\\u0d47\\u0d30\\u0d33 \\u0d2a\\u0d4a\\u0d32\\u0d40\\u0d38\\u0d4d \\u0d09\\u0d26\\u0d4d\\u0d2f\\u0d47\\u0d3e\\u0d17\\u0d38\\u0d4d\\u0d25\\u0d28\\u0d4d\\u200d.\",\n          \"\\u0d05\\u0d24\\u0d3f\\u0d7c\\u0d24\\u0d4d\\u0d24\\u0d3f\\u0d2f\\u0d3f\\u0d7d \\u0d07\\u0d28\\u0d4d\\u0d24\\u0d4d\\u0d2f\\u0d7b \\u0d38\\u0d48\\u0d28\\u0d3f\\u0d15\\u0d30\\u0d4b\\u0d1f\\u0d4d \\u0d15\\u0d2f\\u0d7c\\u0d15\\u0d4d\\u0d15\\u0d41\\u0d28\\u0d4d\\u0d28 \\u0d1a\\u0d48\\u0d28\\u0d40\\u0d38\\u0d4d \\u0d2a\\u0d1f\\u0d4d\\u0d1f\\u0d3e\\u0d33\\u0d02; \\u0d35\\u0d40\\u0d21\\u0d3f\\u0d2f\\u0d4b\\u0d2f\\u0d4d\\u0d15\\u0d4d\\u0d15\\u0d4d \\u0d2a\\u0d3f\\u0d28\\u0d4d\\u0d28\\u0d3f\\u0d32\\u0d46 \\u0d38\\u0d24\\u0d4d\\u0d2f\\u0d2e\\u0d3f\\u0d24\\u0d4d\"\n        ],\n        \"semantic_type\": \"\",\n        \"description\": \"\"\n      }\n    },\n    {\n      \"column\": \"Label\",\n      \"properties\": {\n        \"dtype\": \"category\",\n        \"num_unique_values\": 3,\n        \"samples\": [\n          \"FALSE\",\n          \"MOSTLY FALSE\",\n          \"HALF TRUE\"\n        ],\n        \"semantic_type\": \"\",\n        \"description\": \"\"\n      }\n    }\n  ]\n}"
            }
          },
          "metadata": {}
        }
      ]
    },
    {
      "cell_type": "code",
      "source": [
        "train_df.Label.unique()"
      ],
      "metadata": {
        "colab": {
          "base_uri": "https://localhost:8080/"
        },
        "id": "08FfPlqE6b8-",
        "outputId": "2ac2f978-63c1-412b-83a4-1ef0f00a5879"
      },
      "execution_count": null,
      "outputs": [
        {
          "output_type": "execute_result",
          "data": {
            "text/plain": [
              "array(['FALSE', 'HALF TRUE', 'MOSTLY FALSE', 'PARTLY FALSE'], dtype=object)"
            ]
          },
          "metadata": {},
          "execution_count": 5
        }
      ]
    },
    {
      "cell_type": "code",
      "source": [
        "labeling = {\n",
        "    'FALSE': 0,\n",
        "    'HALF TRUE': 1,\n",
        "    'MOSTLY FALSE': 2,\n",
        "    'PARTLY FALSE': 3,\n",
        "    'False': 0\n",
        "}\n",
        "# Convert 'Label' column to string type to ensure consistency\n",
        "train_df['Label'] = train_df['Label'].astype(str)\n",
        "test_df['Label'] = test_df['Label'].astype(str)\n",
        "# Apply the mapping only to non-numeric labels\n",
        "train_df['Label'] = train_df['Label'].apply(lambda x: labeling[x] if x in labeling else x)\n",
        "test_df['Label'] = test_df['Label'].apply(lambda x: labeling[x] if x in labeling else x)"
      ],
      "metadata": {
        "id": "2UA24ovf6fed"
      },
      "execution_count": null,
      "outputs": []
    },
    {
      "cell_type": "code",
      "source": [
        "with pd.option_context('display.max_colwidth',0):\n",
        "    display(train_df.sample(n=5))"
      ],
      "metadata": {
        "colab": {
          "base_uri": "https://localhost:8080/",
          "height": 379
        },
        "id": "GfswU6zX6iLD",
        "outputId": "54ac3633-b057-4ad5-8893-324cd9b4b194"
      },
      "execution_count": null,
      "outputs": [
        {
          "output_type": "display_data",
          "data": {
            "text/plain": [
              "                    ID  \\\n",
              "1268  FAKE_MAL_TR_1269   \n",
              "727   FAKE_MAL_TR_0728   \n",
              "292   FAKE_MAL_TR_0293   \n",
              "542   FAKE_MAL_TR_0543   \n",
              "1462  FAKE_MAL_TR_1463   \n",
              "\n",
              "                                                                                                                                                News  \\\n",
              "1268  സ്ത്രീ സുരക്ഷ അടിയന്തര പ്രമേയത്തിന് നോട്ടീസ് നല്‍കിയത് എൽദോസ് കുന്നപ്പിള്ളി പി കെ കുഞ്ഞാലികുട്ടി, എം വിൻസെന്റ് എന്നീ എംഎൽഎമാരോ? വസ്തുത അറിയുക    \n",
              "727   പോപ്പുലര്‍ ഫ്രണ്ട് ഹര്‍ത്താല്‍ പിന്‍വലിച്ചു                                                                                                      \n",
              "292   ഏഴാം അറിവിൽ ജൂനിയർ ആർട്ടിസ്റ്റായി അപർണ്ണ ബാലമുരളി അഭിനയിച്ചിട്ടുണ്ട്.                                                                            \n",
              "542   വെന്‍റിലേറ്ററിലേക്ക് മാറ്റും മുൻപുള്ള ഡോ.അയിഷയുടെ വാക്കുകൾ; വൈറലായ സന്ദേശം വ്യാജം                                                                \n",
              "1462  കുരുക്ഷേത്രയിൽ ആരതി നടത്തുന്നതിനിടെ ഫോട്ടോഗ്രാഫർമാർക്കായി രാഹുൽ ഗാന്ധി നിർത്തി                                                                   \n",
              "\n",
              "      Label  \n",
              "1268  0      \n",
              "727   0      \n",
              "292   0      \n",
              "542   0      \n",
              "1462  0      "
            ],
            "text/html": [
              "\n",
              "  <div id=\"df-2fa5fce6-b722-4109-bccc-cf6a806bc397\" class=\"colab-df-container\">\n",
              "    <div>\n",
              "<style scoped>\n",
              "    .dataframe tbody tr th:only-of-type {\n",
              "        vertical-align: middle;\n",
              "    }\n",
              "\n",
              "    .dataframe tbody tr th {\n",
              "        vertical-align: top;\n",
              "    }\n",
              "\n",
              "    .dataframe thead th {\n",
              "        text-align: right;\n",
              "    }\n",
              "</style>\n",
              "<table border=\"1\" class=\"dataframe\">\n",
              "  <thead>\n",
              "    <tr style=\"text-align: right;\">\n",
              "      <th></th>\n",
              "      <th>ID</th>\n",
              "      <th>News</th>\n",
              "      <th>Label</th>\n",
              "    </tr>\n",
              "  </thead>\n",
              "  <tbody>\n",
              "    <tr>\n",
              "      <th>1268</th>\n",
              "      <td>FAKE_MAL_TR_1269</td>\n",
              "      <td>സ്ത്രീ സുരക്ഷ അടിയന്തര പ്രമേയത്തിന് നോട്ടീസ് നല്‍കിയത് എൽദോസ് കുന്നപ്പിള്ളി പി കെ കുഞ്ഞാലികുട്ടി, എം വിൻസെന്റ് എന്നീ എംഎൽഎമാരോ? വസ്തുത അറിയുക</td>\n",
              "      <td>0</td>\n",
              "    </tr>\n",
              "    <tr>\n",
              "      <th>727</th>\n",
              "      <td>FAKE_MAL_TR_0728</td>\n",
              "      <td>പോപ്പുലര്‍ ഫ്രണ്ട് ഹര്‍ത്താല്‍ പിന്‍വലിച്ചു</td>\n",
              "      <td>0</td>\n",
              "    </tr>\n",
              "    <tr>\n",
              "      <th>292</th>\n",
              "      <td>FAKE_MAL_TR_0293</td>\n",
              "      <td>ഏഴാം അറിവിൽ ജൂനിയർ ആർട്ടിസ്റ്റായി അപർണ്ണ ബാലമുരളി അഭിനയിച്ചിട്ടുണ്ട്.</td>\n",
              "      <td>0</td>\n",
              "    </tr>\n",
              "    <tr>\n",
              "      <th>542</th>\n",
              "      <td>FAKE_MAL_TR_0543</td>\n",
              "      <td>വെന്‍റിലേറ്ററിലേക്ക് മാറ്റും മുൻപുള്ള ഡോ.അയിഷയുടെ വാക്കുകൾ; വൈറലായ സന്ദേശം വ്യാജം</td>\n",
              "      <td>0</td>\n",
              "    </tr>\n",
              "    <tr>\n",
              "      <th>1462</th>\n",
              "      <td>FAKE_MAL_TR_1463</td>\n",
              "      <td>കുരുക്ഷേത്രയിൽ ആരതി നടത്തുന്നതിനിടെ ഫോട്ടോഗ്രാഫർമാർക്കായി രാഹുൽ ഗാന്ധി നിർത്തി</td>\n",
              "      <td>0</td>\n",
              "    </tr>\n",
              "  </tbody>\n",
              "</table>\n",
              "</div>\n",
              "    <div class=\"colab-df-buttons\">\n",
              "\n",
              "  <div class=\"colab-df-container\">\n",
              "    <button class=\"colab-df-convert\" onclick=\"convertToInteractive('df-2fa5fce6-b722-4109-bccc-cf6a806bc397')\"\n",
              "            title=\"Convert this dataframe to an interactive table.\"\n",
              "            style=\"display:none;\">\n",
              "\n",
              "  <svg xmlns=\"http://www.w3.org/2000/svg\" height=\"24px\" viewBox=\"0 -960 960 960\">\n",
              "    <path d=\"M120-120v-720h720v720H120Zm60-500h600v-160H180v160Zm220 220h160v-160H400v160Zm0 220h160v-160H400v160ZM180-400h160v-160H180v160Zm440 0h160v-160H620v160ZM180-180h160v-160H180v160Zm440 0h160v-160H620v160Z\"/>\n",
              "  </svg>\n",
              "    </button>\n",
              "\n",
              "  <style>\n",
              "    .colab-df-container {\n",
              "      display:flex;\n",
              "      gap: 12px;\n",
              "    }\n",
              "\n",
              "    .colab-df-convert {\n",
              "      background-color: #E8F0FE;\n",
              "      border: none;\n",
              "      border-radius: 50%;\n",
              "      cursor: pointer;\n",
              "      display: none;\n",
              "      fill: #1967D2;\n",
              "      height: 32px;\n",
              "      padding: 0 0 0 0;\n",
              "      width: 32px;\n",
              "    }\n",
              "\n",
              "    .colab-df-convert:hover {\n",
              "      background-color: #E2EBFA;\n",
              "      box-shadow: 0px 1px 2px rgba(60, 64, 67, 0.3), 0px 1px 3px 1px rgba(60, 64, 67, 0.15);\n",
              "      fill: #174EA6;\n",
              "    }\n",
              "\n",
              "    .colab-df-buttons div {\n",
              "      margin-bottom: 4px;\n",
              "    }\n",
              "\n",
              "    [theme=dark] .colab-df-convert {\n",
              "      background-color: #3B4455;\n",
              "      fill: #D2E3FC;\n",
              "    }\n",
              "\n",
              "    [theme=dark] .colab-df-convert:hover {\n",
              "      background-color: #434B5C;\n",
              "      box-shadow: 0px 1px 3px 1px rgba(0, 0, 0, 0.15);\n",
              "      filter: drop-shadow(0px 1px 2px rgba(0, 0, 0, 0.3));\n",
              "      fill: #FFFFFF;\n",
              "    }\n",
              "  </style>\n",
              "\n",
              "    <script>\n",
              "      const buttonEl =\n",
              "        document.querySelector('#df-2fa5fce6-b722-4109-bccc-cf6a806bc397 button.colab-df-convert');\n",
              "      buttonEl.style.display =\n",
              "        google.colab.kernel.accessAllowed ? 'block' : 'none';\n",
              "\n",
              "      async function convertToInteractive(key) {\n",
              "        const element = document.querySelector('#df-2fa5fce6-b722-4109-bccc-cf6a806bc397');\n",
              "        const dataTable =\n",
              "          await google.colab.kernel.invokeFunction('convertToInteractive',\n",
              "                                                    [key], {});\n",
              "        if (!dataTable) return;\n",
              "\n",
              "        const docLinkHtml = 'Like what you see? Visit the ' +\n",
              "          '<a target=\"_blank\" href=https://colab.research.google.com/notebooks/data_table.ipynb>data table notebook</a>'\n",
              "          + ' to learn more about interactive tables.';\n",
              "        element.innerHTML = '';\n",
              "        dataTable['output_type'] = 'display_data';\n",
              "        await google.colab.output.renderOutput(dataTable, element);\n",
              "        const docLink = document.createElement('div');\n",
              "        docLink.innerHTML = docLinkHtml;\n",
              "        element.appendChild(docLink);\n",
              "      }\n",
              "    </script>\n",
              "  </div>\n",
              "\n",
              "\n",
              "<div id=\"df-3d7b7522-0cf4-4f2c-9cdd-d8ea7a03a045\">\n",
              "  <button class=\"colab-df-quickchart\" onclick=\"quickchart('df-3d7b7522-0cf4-4f2c-9cdd-d8ea7a03a045')\"\n",
              "            title=\"Suggest charts\"\n",
              "            style=\"display:none;\">\n",
              "\n",
              "<svg xmlns=\"http://www.w3.org/2000/svg\" height=\"24px\"viewBox=\"0 0 24 24\"\n",
              "     width=\"24px\">\n",
              "    <g>\n",
              "        <path d=\"M19 3H5c-1.1 0-2 .9-2 2v14c0 1.1.9 2 2 2h14c1.1 0 2-.9 2-2V5c0-1.1-.9-2-2-2zM9 17H7v-7h2v7zm4 0h-2V7h2v10zm4 0h-2v-4h2v4z\"/>\n",
              "    </g>\n",
              "</svg>\n",
              "  </button>\n",
              "\n",
              "<style>\n",
              "  .colab-df-quickchart {\n",
              "      --bg-color: #E8F0FE;\n",
              "      --fill-color: #1967D2;\n",
              "      --hover-bg-color: #E2EBFA;\n",
              "      --hover-fill-color: #174EA6;\n",
              "      --disabled-fill-color: #AAA;\n",
              "      --disabled-bg-color: #DDD;\n",
              "  }\n",
              "\n",
              "  [theme=dark] .colab-df-quickchart {\n",
              "      --bg-color: #3B4455;\n",
              "      --fill-color: #D2E3FC;\n",
              "      --hover-bg-color: #434B5C;\n",
              "      --hover-fill-color: #FFFFFF;\n",
              "      --disabled-bg-color: #3B4455;\n",
              "      --disabled-fill-color: #666;\n",
              "  }\n",
              "\n",
              "  .colab-df-quickchart {\n",
              "    background-color: var(--bg-color);\n",
              "    border: none;\n",
              "    border-radius: 50%;\n",
              "    cursor: pointer;\n",
              "    display: none;\n",
              "    fill: var(--fill-color);\n",
              "    height: 32px;\n",
              "    padding: 0;\n",
              "    width: 32px;\n",
              "  }\n",
              "\n",
              "  .colab-df-quickchart:hover {\n",
              "    background-color: var(--hover-bg-color);\n",
              "    box-shadow: 0 1px 2px rgba(60, 64, 67, 0.3), 0 1px 3px 1px rgba(60, 64, 67, 0.15);\n",
              "    fill: var(--button-hover-fill-color);\n",
              "  }\n",
              "\n",
              "  .colab-df-quickchart-complete:disabled,\n",
              "  .colab-df-quickchart-complete:disabled:hover {\n",
              "    background-color: var(--disabled-bg-color);\n",
              "    fill: var(--disabled-fill-color);\n",
              "    box-shadow: none;\n",
              "  }\n",
              "\n",
              "  .colab-df-spinner {\n",
              "    border: 2px solid var(--fill-color);\n",
              "    border-color: transparent;\n",
              "    border-bottom-color: var(--fill-color);\n",
              "    animation:\n",
              "      spin 1s steps(1) infinite;\n",
              "  }\n",
              "\n",
              "  @keyframes spin {\n",
              "    0% {\n",
              "      border-color: transparent;\n",
              "      border-bottom-color: var(--fill-color);\n",
              "      border-left-color: var(--fill-color);\n",
              "    }\n",
              "    20% {\n",
              "      border-color: transparent;\n",
              "      border-left-color: var(--fill-color);\n",
              "      border-top-color: var(--fill-color);\n",
              "    }\n",
              "    30% {\n",
              "      border-color: transparent;\n",
              "      border-left-color: var(--fill-color);\n",
              "      border-top-color: var(--fill-color);\n",
              "      border-right-color: var(--fill-color);\n",
              "    }\n",
              "    40% {\n",
              "      border-color: transparent;\n",
              "      border-right-color: var(--fill-color);\n",
              "      border-top-color: var(--fill-color);\n",
              "    }\n",
              "    60% {\n",
              "      border-color: transparent;\n",
              "      border-right-color: var(--fill-color);\n",
              "    }\n",
              "    80% {\n",
              "      border-color: transparent;\n",
              "      border-right-color: var(--fill-color);\n",
              "      border-bottom-color: var(--fill-color);\n",
              "    }\n",
              "    90% {\n",
              "      border-color: transparent;\n",
              "      border-bottom-color: var(--fill-color);\n",
              "    }\n",
              "  }\n",
              "</style>\n",
              "\n",
              "  <script>\n",
              "    async function quickchart(key) {\n",
              "      const quickchartButtonEl =\n",
              "        document.querySelector('#' + key + ' button');\n",
              "      quickchartButtonEl.disabled = true;  // To prevent multiple clicks.\n",
              "      quickchartButtonEl.classList.add('colab-df-spinner');\n",
              "      try {\n",
              "        const charts = await google.colab.kernel.invokeFunction(\n",
              "            'suggestCharts', [key], {});\n",
              "      } catch (error) {\n",
              "        console.error('Error during call to suggestCharts:', error);\n",
              "      }\n",
              "      quickchartButtonEl.classList.remove('colab-df-spinner');\n",
              "      quickchartButtonEl.classList.add('colab-df-quickchart-complete');\n",
              "    }\n",
              "    (() => {\n",
              "      let quickchartButtonEl =\n",
              "        document.querySelector('#df-3d7b7522-0cf4-4f2c-9cdd-d8ea7a03a045 button');\n",
              "      quickchartButtonEl.style.display =\n",
              "        google.colab.kernel.accessAllowed ? 'block' : 'none';\n",
              "    })();\n",
              "  </script>\n",
              "</div>\n",
              "\n",
              "    </div>\n",
              "  </div>\n"
            ],
            "application/vnd.google.colaboratory.intrinsic+json": {
              "type": "dataframe",
              "summary": "{\n  \"name\": \"    display(train_df\",\n  \"rows\": 5,\n  \"fields\": [\n    {\n      \"column\": \"ID\",\n      \"properties\": {\n        \"dtype\": \"string\",\n        \"num_unique_values\": 5,\n        \"samples\": [\n          \"FAKE_MAL_TR_0728\",\n          \"FAKE_MAL_TR_1463\",\n          \"FAKE_MAL_TR_0293\"\n        ],\n        \"semantic_type\": \"\",\n        \"description\": \"\"\n      }\n    },\n    {\n      \"column\": \"News\",\n      \"properties\": {\n        \"dtype\": \"string\",\n        \"num_unique_values\": 5,\n        \"samples\": [\n          \"\\u0d2a\\u0d4b\\u0d2a\\u0d4d\\u0d2a\\u0d41\\u0d32\\u0d30\\u0d4d\\u200d \\u0d2b\\u0d4d\\u0d30\\u0d23\\u0d4d\\u0d1f\\u0d4d \\u0d39\\u0d30\\u0d4d\\u200d\\u0d24\\u0d4d\\u0d24\\u0d3e\\u0d32\\u0d4d\\u200d \\u0d2a\\u0d3f\\u0d28\\u0d4d\\u200d\\u0d35\\u0d32\\u0d3f\\u0d1a\\u0d4d\\u0d1a\\u0d41\",\n          \"\\u0d15\\u0d41\\u0d30\\u0d41\\u0d15\\u0d4d\\u0d37\\u0d47\\u0d24\\u0d4d\\u0d30\\u0d2f\\u0d3f\\u0d7d \\u0d06\\u0d30\\u0d24\\u0d3f \\u0d28\\u0d1f\\u0d24\\u0d4d\\u0d24\\u0d41\\u0d28\\u0d4d\\u0d28\\u0d24\\u0d3f\\u0d28\\u0d3f\\u0d1f\\u0d46 \\u0d2b\\u0d4b\\u0d1f\\u0d4d\\u0d1f\\u0d4b\\u0d17\\u0d4d\\u0d30\\u0d3e\\u0d2b\\u0d7c\\u0d2e\\u0d3e\\u0d7c\\u0d15\\u0d4d\\u0d15\\u0d3e\\u0d2f\\u0d3f \\u0d30\\u0d3e\\u0d39\\u0d41\\u0d7d \\u0d17\\u0d3e\\u0d28\\u0d4d\\u0d27\\u0d3f \\u0d28\\u0d3f\\u0d7c\\u0d24\\u0d4d\\u0d24\\u0d3f\",\n          \"\\u0d0f\\u0d34\\u0d3e\\u0d02 \\u0d05\\u0d31\\u0d3f\\u0d35\\u0d3f\\u0d7d \\u0d1c\\u0d42\\u0d28\\u0d3f\\u0d2f\\u0d7c \\u0d06\\u0d7c\\u0d1f\\u0d4d\\u0d1f\\u0d3f\\u0d38\\u0d4d\\u0d31\\u0d4d\\u0d31\\u0d3e\\u0d2f\\u0d3f \\u0d05\\u0d2a\\u0d7c\\u0d23\\u0d4d\\u0d23 \\u0d2c\\u0d3e\\u0d32\\u0d2e\\u0d41\\u0d30\\u0d33\\u0d3f \\u0d05\\u0d2d\\u0d3f\\u0d28\\u0d2f\\u0d3f\\u0d1a\\u0d4d\\u0d1a\\u0d3f\\u0d1f\\u0d4d\\u0d1f\\u0d41\\u0d23\\u0d4d\\u0d1f\\u0d4d.\"\n        ],\n        \"semantic_type\": \"\",\n        \"description\": \"\"\n      }\n    },\n    {\n      \"column\": \"Label\",\n      \"properties\": {\n        \"dtype\": \"number\",\n        \"std\": 0,\n        \"min\": 0,\n        \"max\": 0,\n        \"num_unique_values\": 1,\n        \"samples\": [\n          0\n        ],\n        \"semantic_type\": \"\",\n        \"description\": \"\"\n      }\n    }\n  ]\n}"
            }
          },
          "metadata": {}
        }
      ]
    },
    {
      "cell_type": "code",
      "source": [
        "from sklearn.utils import resample\n",
        "\n",
        "# Set the target number of instances for minority classes\n",
        "target_minority_count = 200\n",
        "\n",
        "for minority_class in [1,2,3]:\n",
        "\n",
        "  # Check if the minority class exists in the DataFrame\n",
        "  if train_df['Label'].isin([minority_class]).any():\n",
        "    minority_indices = train_df[train_df['Label'] == minority_class].index\n",
        "    minority_data = train_df.loc[minority_indices]\n",
        "\n",
        "    minority_oversampled = resample(\n",
        "        minority_data,\n",
        "        replace=True,\n",
        "        n_samples=target_minority_count,\n",
        "        random_state=42\n",
        "    )\n",
        "\n",
        "    train_df = pd.concat([train_df, minority_oversampled], ignore_index=True)"
      ],
      "metadata": {
        "id": "obABQzeX6mbO"
      },
      "execution_count": null,
      "outputs": []
    },
    {
      "cell_type": "code",
      "source": [
        "\n",
        "X = train_df['News']\n",
        "y = train_df['Label']\n",
        "X_train, X_val, y_train, y_val = train_test_split(X, y, test_size=0.2, random_state=42)"
      ],
      "metadata": {
        "id": "dr-BtD8CuAC1"
      },
      "execution_count": null,
      "outputs": []
    },
    {
      "cell_type": "code",
      "source": [
        "\n",
        "X_test = test_df['News']\n",
        "y_test = test_df['Label']"
      ],
      "metadata": {
        "id": "plR4UF5E6q5W"
      },
      "execution_count": null,
      "outputs": []
    },
    {
      "cell_type": "code",
      "source": [
        "# Tokenizing the text data\n",
        "tokenizer = Tokenizer()\n",
        "tokenizer.fit_on_texts(X_train)\n",
        "vocab=tokenizer.word_index"
      ],
      "metadata": {
        "id": "Y4jNtLM86Tgn"
      },
      "execution_count": null,
      "outputs": []
    },
    {
      "cell_type": "code",
      "source": [
        "train_sequence = tokenizer.texts_to_sequences(X_train)\n",
        "val_sequence = tokenizer.texts_to_sequences(X_val)\n",
        "test_sequence = tokenizer.texts_to_sequences(X_test)"
      ],
      "metadata": {
        "id": "-KLtkcva66MP"
      },
      "execution_count": null,
      "outputs": []
    },
    {
      "cell_type": "code",
      "source": [
        "maxlen = 120\n",
        "train_data = pad_sequences(train_sequence, maxlen=maxlen,  padding='post')\n",
        "val_data = pad_sequences(val_sequence, maxlen=maxlen,  padding='post')\n",
        "test_data = pad_sequences(test_sequence, maxlen=maxlen,  padding='post')"
      ],
      "metadata": {
        "id": "wdpZC3em68GV"
      },
      "execution_count": null,
      "outputs": []
    },
    {
      "cell_type": "code",
      "source": [
        "train_labels = y_train\n",
        "val_labels = y_val\n",
        "test_labels = y_test"
      ],
      "metadata": {
        "id": "jxUEIVSu7A8E"
      },
      "execution_count": null,
      "outputs": []
    },
    {
      "cell_type": "code",
      "source": [
        "train_labels_reshaped = np.expand_dims(train_labels, axis=-1)\n",
        "val_labels_reshaped = np.expand_dims(val_labels, axis=-1)\n",
        "test_labels_reshaped = np.expand_dims(test_labels, axis=-1)"
      ],
      "metadata": {
        "id": "fd53j4Vf7CbJ"
      },
      "execution_count": null,
      "outputs": []
    },
    {
      "cell_type": "code",
      "source": [
        "vocab_size = len(tokenizer.word_index) + 1\n",
        "input_shape = (maxlen,)"
      ],
      "metadata": {
        "id": "6D6u4haP7EOQ"
      },
      "execution_count": null,
      "outputs": []
    },
    {
      "cell_type": "code",
      "source": [
        "from keras.models import Model\n",
        "from keras.layers import Input, Embedding, LSTM, Dropout, BatchNormalization, Dense, Flatten\n",
        "from keras.regularizers import l2\n",
        "\n",
        "# Define the embedding layer\n",
        "embedding_layer = Embedding(\n",
        "    input_dim=vocab_size,\n",
        "    output_dim=300,\n",
        "    input_length=maxlen,\n",
        "    trainable=True  # Allow fine-tuning of embeddings\n",
        ")\n",
        "\n",
        "# Define the input layer\n",
        "email_input = Input(shape=(maxlen,), name='Email_input')\n",
        "\n",
        "# Apply the embedding layer to the input\n",
        "embedded_email = embedding_layer(email_input)\n",
        "\n",
        "# Define the Bidirectional LSTM layers\n",
        "lstm_layer1 = LSTM(units=64, return_sequences=True)\n",
        "lstm_layer2 = LSTM(units=32, return_sequences=True)\n",
        "\n",
        "# Apply the first LSTM layer\n",
        "lstm_output1 = lstm_layer1(embedded_email)\n",
        "\n",
        "# Apply dropout after the first LSTM layer\n",
        "dropout1 = Dropout(0.25)(lstm_output1)\n",
        "\n",
        "# Apply batch normalization\n",
        "bn1 = BatchNormalization()(dropout1)\n",
        "\n",
        "# Apply the second LSTM layer\n",
        "lstm_output2 = lstm_layer2(bn1)\n",
        "\n",
        "# Flatten the output\n",
        "flatten_output = Flatten()(lstm_output2)\n",
        "\n",
        "# Add a dense layer for multiclass classification\n",
        "output = Dense(4, activation='softmax', kernel_regularizer=l2(0.01))(flatten_output)\n",
        "\n",
        "# Create the model\n",
        "lstm_model = Model(inputs=email_input, outputs=output)\n",
        "\n",
        "# Compile the model\n",
        "lstm_model.compile(optimizer='adam', loss='sparse_categorical_crossentropy', metrics=['accuracy'])\n",
        "\n",
        "# Display the model summary\n",
        "lstm_model.summary()\n"
      ],
      "metadata": {
        "colab": {
          "base_uri": "https://localhost:8080/",
          "height": 434
        },
        "id": "Q3s2khDg7PZD",
        "outputId": "996f4a0b-22e1-4c58-e787-240f2944172a"
      },
      "execution_count": null,
      "outputs": [
        {
          "output_type": "display_data",
          "data": {
            "text/plain": [
              "\u001b[1mModel: \"functional_3\"\u001b[0m\n"
            ],
            "text/html": [
              "<pre style=\"white-space:pre;overflow-x:auto;line-height:normal;font-family:Menlo,'DejaVu Sans Mono',consolas,'Courier New',monospace\"><span style=\"font-weight: bold\">Model: \"functional_3\"</span>\n",
              "</pre>\n"
            ]
          },
          "metadata": {}
        },
        {
          "output_type": "display_data",
          "data": {
            "text/plain": [
              "┏━━━━━━━━━━━━━━━━━━━━━━━━━━━━━━━━━━━━━━┳━━━━━━━━━━━━━━━━━━━━━━━━━━━━━┳━━━━━━━━━━━━━━━━━┓\n",
              "┃\u001b[1m \u001b[0m\u001b[1mLayer (type)                        \u001b[0m\u001b[1m \u001b[0m┃\u001b[1m \u001b[0m\u001b[1mOutput Shape               \u001b[0m\u001b[1m \u001b[0m┃\u001b[1m \u001b[0m\u001b[1m        Param #\u001b[0m\u001b[1m \u001b[0m┃\n",
              "┡━━━━━━━━━━━━━━━━━━━━━━━━━━━━━━━━━━━━━━╇━━━━━━━━━━━━━━━━━━━━━━━━━━━━━╇━━━━━━━━━━━━━━━━━┩\n",
              "│ Email_input (\u001b[38;5;33mInputLayer\u001b[0m)             │ (\u001b[38;5;45mNone\u001b[0m, \u001b[38;5;34m120\u001b[0m)                 │               \u001b[38;5;34m0\u001b[0m │\n",
              "├──────────────────────────────────────┼─────────────────────────────┼─────────────────┤\n",
              "│ embedding_3 (\u001b[38;5;33mEmbedding\u001b[0m)              │ (\u001b[38;5;45mNone\u001b[0m, \u001b[38;5;34m120\u001b[0m, \u001b[38;5;34m300\u001b[0m)            │       \u001b[38;5;34m2,607,300\u001b[0m │\n",
              "├──────────────────────────────────────┼─────────────────────────────┼─────────────────┤\n",
              "│ lstm_6 (\u001b[38;5;33mLSTM\u001b[0m)                        │ (\u001b[38;5;45mNone\u001b[0m, \u001b[38;5;34m120\u001b[0m, \u001b[38;5;34m64\u001b[0m)             │          \u001b[38;5;34m93,440\u001b[0m │\n",
              "├──────────────────────────────────────┼─────────────────────────────┼─────────────────┤\n",
              "│ dropout_3 (\u001b[38;5;33mDropout\u001b[0m)                  │ (\u001b[38;5;45mNone\u001b[0m, \u001b[38;5;34m120\u001b[0m, \u001b[38;5;34m64\u001b[0m)             │               \u001b[38;5;34m0\u001b[0m │\n",
              "├──────────────────────────────────────┼─────────────────────────────┼─────────────────┤\n",
              "│ batch_normalization_3                │ (\u001b[38;5;45mNone\u001b[0m, \u001b[38;5;34m120\u001b[0m, \u001b[38;5;34m64\u001b[0m)             │             \u001b[38;5;34m256\u001b[0m │\n",
              "│ (\u001b[38;5;33mBatchNormalization\u001b[0m)                 │                             │                 │\n",
              "├──────────────────────────────────────┼─────────────────────────────┼─────────────────┤\n",
              "│ lstm_7 (\u001b[38;5;33mLSTM\u001b[0m)                        │ (\u001b[38;5;45mNone\u001b[0m, \u001b[38;5;34m120\u001b[0m, \u001b[38;5;34m32\u001b[0m)             │          \u001b[38;5;34m12,416\u001b[0m │\n",
              "├──────────────────────────────────────┼─────────────────────────────┼─────────────────┤\n",
              "│ flatten_3 (\u001b[38;5;33mFlatten\u001b[0m)                  │ (\u001b[38;5;45mNone\u001b[0m, \u001b[38;5;34m3840\u001b[0m)                │               \u001b[38;5;34m0\u001b[0m │\n",
              "├──────────────────────────────────────┼─────────────────────────────┼─────────────────┤\n",
              "│ dense_3 (\u001b[38;5;33mDense\u001b[0m)                      │ (\u001b[38;5;45mNone\u001b[0m, \u001b[38;5;34m4\u001b[0m)                   │          \u001b[38;5;34m15,364\u001b[0m │\n",
              "└──────────────────────────────────────┴─────────────────────────────┴─────────────────┘\n"
            ],
            "text/html": [
              "<pre style=\"white-space:pre;overflow-x:auto;line-height:normal;font-family:Menlo,'DejaVu Sans Mono',consolas,'Courier New',monospace\">┏━━━━━━━━━━━━━━━━━━━━━━━━━━━━━━━━━━━━━━┳━━━━━━━━━━━━━━━━━━━━━━━━━━━━━┳━━━━━━━━━━━━━━━━━┓\n",
              "┃<span style=\"font-weight: bold\"> Layer (type)                         </span>┃<span style=\"font-weight: bold\"> Output Shape                </span>┃<span style=\"font-weight: bold\">         Param # </span>┃\n",
              "┡━━━━━━━━━━━━━━━━━━━━━━━━━━━━━━━━━━━━━━╇━━━━━━━━━━━━━━━━━━━━━━━━━━━━━╇━━━━━━━━━━━━━━━━━┩\n",
              "│ Email_input (<span style=\"color: #0087ff; text-decoration-color: #0087ff\">InputLayer</span>)             │ (<span style=\"color: #00d7ff; text-decoration-color: #00d7ff\">None</span>, <span style=\"color: #00af00; text-decoration-color: #00af00\">120</span>)                 │               <span style=\"color: #00af00; text-decoration-color: #00af00\">0</span> │\n",
              "├──────────────────────────────────────┼─────────────────────────────┼─────────────────┤\n",
              "│ embedding_3 (<span style=\"color: #0087ff; text-decoration-color: #0087ff\">Embedding</span>)              │ (<span style=\"color: #00d7ff; text-decoration-color: #00d7ff\">None</span>, <span style=\"color: #00af00; text-decoration-color: #00af00\">120</span>, <span style=\"color: #00af00; text-decoration-color: #00af00\">300</span>)            │       <span style=\"color: #00af00; text-decoration-color: #00af00\">2,607,300</span> │\n",
              "├──────────────────────────────────────┼─────────────────────────────┼─────────────────┤\n",
              "│ lstm_6 (<span style=\"color: #0087ff; text-decoration-color: #0087ff\">LSTM</span>)                        │ (<span style=\"color: #00d7ff; text-decoration-color: #00d7ff\">None</span>, <span style=\"color: #00af00; text-decoration-color: #00af00\">120</span>, <span style=\"color: #00af00; text-decoration-color: #00af00\">64</span>)             │          <span style=\"color: #00af00; text-decoration-color: #00af00\">93,440</span> │\n",
              "├──────────────────────────────────────┼─────────────────────────────┼─────────────────┤\n",
              "│ dropout_3 (<span style=\"color: #0087ff; text-decoration-color: #0087ff\">Dropout</span>)                  │ (<span style=\"color: #00d7ff; text-decoration-color: #00d7ff\">None</span>, <span style=\"color: #00af00; text-decoration-color: #00af00\">120</span>, <span style=\"color: #00af00; text-decoration-color: #00af00\">64</span>)             │               <span style=\"color: #00af00; text-decoration-color: #00af00\">0</span> │\n",
              "├──────────────────────────────────────┼─────────────────────────────┼─────────────────┤\n",
              "│ batch_normalization_3                │ (<span style=\"color: #00d7ff; text-decoration-color: #00d7ff\">None</span>, <span style=\"color: #00af00; text-decoration-color: #00af00\">120</span>, <span style=\"color: #00af00; text-decoration-color: #00af00\">64</span>)             │             <span style=\"color: #00af00; text-decoration-color: #00af00\">256</span> │\n",
              "│ (<span style=\"color: #0087ff; text-decoration-color: #0087ff\">BatchNormalization</span>)                 │                             │                 │\n",
              "├──────────────────────────────────────┼─────────────────────────────┼─────────────────┤\n",
              "│ lstm_7 (<span style=\"color: #0087ff; text-decoration-color: #0087ff\">LSTM</span>)                        │ (<span style=\"color: #00d7ff; text-decoration-color: #00d7ff\">None</span>, <span style=\"color: #00af00; text-decoration-color: #00af00\">120</span>, <span style=\"color: #00af00; text-decoration-color: #00af00\">32</span>)             │          <span style=\"color: #00af00; text-decoration-color: #00af00\">12,416</span> │\n",
              "├──────────────────────────────────────┼─────────────────────────────┼─────────────────┤\n",
              "│ flatten_3 (<span style=\"color: #0087ff; text-decoration-color: #0087ff\">Flatten</span>)                  │ (<span style=\"color: #00d7ff; text-decoration-color: #00d7ff\">None</span>, <span style=\"color: #00af00; text-decoration-color: #00af00\">3840</span>)                │               <span style=\"color: #00af00; text-decoration-color: #00af00\">0</span> │\n",
              "├──────────────────────────────────────┼─────────────────────────────┼─────────────────┤\n",
              "│ dense_3 (<span style=\"color: #0087ff; text-decoration-color: #0087ff\">Dense</span>)                      │ (<span style=\"color: #00d7ff; text-decoration-color: #00d7ff\">None</span>, <span style=\"color: #00af00; text-decoration-color: #00af00\">4</span>)                   │          <span style=\"color: #00af00; text-decoration-color: #00af00\">15,364</span> │\n",
              "└──────────────────────────────────────┴─────────────────────────────┴─────────────────┘\n",
              "</pre>\n"
            ]
          },
          "metadata": {}
        },
        {
          "output_type": "display_data",
          "data": {
            "text/plain": [
              "\u001b[1m Total params: \u001b[0m\u001b[38;5;34m2,728,776\u001b[0m (10.41 MB)\n"
            ],
            "text/html": [
              "<pre style=\"white-space:pre;overflow-x:auto;line-height:normal;font-family:Menlo,'DejaVu Sans Mono',consolas,'Courier New',monospace\"><span style=\"font-weight: bold\"> Total params: </span><span style=\"color: #00af00; text-decoration-color: #00af00\">2,728,776</span> (10.41 MB)\n",
              "</pre>\n"
            ]
          },
          "metadata": {}
        },
        {
          "output_type": "display_data",
          "data": {
            "text/plain": [
              "\u001b[1m Trainable params: \u001b[0m\u001b[38;5;34m2,728,648\u001b[0m (10.41 MB)\n"
            ],
            "text/html": [
              "<pre style=\"white-space:pre;overflow-x:auto;line-height:normal;font-family:Menlo,'DejaVu Sans Mono',consolas,'Courier New',monospace\"><span style=\"font-weight: bold\"> Trainable params: </span><span style=\"color: #00af00; text-decoration-color: #00af00\">2,728,648</span> (10.41 MB)\n",
              "</pre>\n"
            ]
          },
          "metadata": {}
        },
        {
          "output_type": "display_data",
          "data": {
            "text/plain": [
              "\u001b[1m Non-trainable params: \u001b[0m\u001b[38;5;34m128\u001b[0m (512.00 B)\n"
            ],
            "text/html": [
              "<pre style=\"white-space:pre;overflow-x:auto;line-height:normal;font-family:Menlo,'DejaVu Sans Mono',consolas,'Courier New',monospace\"><span style=\"font-weight: bold\"> Non-trainable params: </span><span style=\"color: #00af00; text-decoration-color: #00af00\">128</span> (512.00 B)\n",
              "</pre>\n"
            ]
          },
          "metadata": {}
        }
      ]
    },
    {
      "cell_type": "code",
      "source": [
        "stopper= EarlyStopping(patience=5, monitor='val_accuracy')\n",
        "checkpointer = ModelCheckpoint(filepath='model.weights.best.keras', verbose=3, save_best_only=True)\n",
        "\n",
        "history=lstm_model.fit(\n",
        "         train_data, train_labels_reshaped,\n",
        "         batch_size=64,\n",
        "         epochs=15,\n",
        "         validation_data=(val_data, val_labels_reshaped),\n",
        "         callbacks=[stopper, checkpointer],\n",
        "         )"
      ],
      "metadata": {
        "colab": {
          "base_uri": "https://localhost:8080/"
        },
        "id": "Rxw7yHvA7nQ5",
        "outputId": "49b5187f-b6de-44c3-d3bd-afe7bf1423f4"
      },
      "execution_count": null,
      "outputs": [
        {
          "output_type": "stream",
          "name": "stdout",
          "text": [
            "Epoch 1/15\n",
            "\u001b[1m30/32\u001b[0m \u001b[32m━━━━━━━━━━━━━━━━━━\u001b[0m\u001b[37m━━\u001b[0m \u001b[1m0s\u001b[0m 18ms/step - accuracy: 0.5470 - loss: 1.2300\n",
            "Epoch 1: val_loss improved from inf to 1.34869, saving model to model.weights.best.keras\n",
            "\u001b[1m32/32\u001b[0m \u001b[32m━━━━━━━━━━━━━━━━━━━━\u001b[0m\u001b[37m\u001b[0m \u001b[1m4s\u001b[0m 39ms/step - accuracy: 0.5505 - loss: 1.2213 - val_accuracy: 0.5600 - val_loss: 1.3487\n",
            "Epoch 2/15\n",
            "\u001b[1m31/32\u001b[0m \u001b[32m━━━━━━━━━━━━━━━━━━━\u001b[0m\u001b[37m━\u001b[0m \u001b[1m0s\u001b[0m 24ms/step - accuracy: 0.8924 - loss: 0.4433\n",
            "Epoch 2: val_loss improved from 1.34869 to 1.18215, saving model to model.weights.best.keras\n",
            "\u001b[1m32/32\u001b[0m \u001b[32m━━━━━━━━━━━━━━━━━━━━\u001b[0m\u001b[37m\u001b[0m \u001b[1m2s\u001b[0m 35ms/step - accuracy: 0.8936 - loss: 0.4384 - val_accuracy: 0.8220 - val_loss: 1.1821\n",
            "Epoch 3/15\n",
            "\u001b[1m31/32\u001b[0m \u001b[32m━━━━━━━━━━━━━━━━━━━\u001b[0m\u001b[37m━\u001b[0m \u001b[1m0s\u001b[0m 21ms/step - accuracy: 0.9927 - loss: 0.1150\n",
            "Epoch 3: val_loss improved from 1.18215 to 1.06992, saving model to model.weights.best.keras\n",
            "\u001b[1m32/32\u001b[0m \u001b[32m━━━━━━━━━━━━━━━━━━━━\u001b[0m\u001b[37m\u001b[0m \u001b[1m1s\u001b[0m 32ms/step - accuracy: 0.9926 - loss: 0.1145 - val_accuracy: 0.8520 - val_loss: 1.0699\n",
            "Epoch 4/15\n",
            "\u001b[1m31/32\u001b[0m \u001b[32m━━━━━━━━━━━━━━━━━━━\u001b[0m\u001b[37m━\u001b[0m \u001b[1m0s\u001b[0m 23ms/step - accuracy: 0.9978 - loss: 0.0660\n",
            "Epoch 4: val_loss improved from 1.06992 to 0.91965, saving model to model.weights.best.keras\n",
            "\u001b[1m32/32\u001b[0m \u001b[32m━━━━━━━━━━━━━━━━━━━━\u001b[0m\u001b[37m\u001b[0m \u001b[1m1s\u001b[0m 34ms/step - accuracy: 0.9978 - loss: 0.0660 - val_accuracy: 0.8720 - val_loss: 0.9196\n",
            "Epoch 5/15\n",
            "\u001b[1m31/32\u001b[0m \u001b[32m━━━━━━━━━━━━━━━━━━━\u001b[0m\u001b[37m━\u001b[0m \u001b[1m0s\u001b[0m 16ms/step - accuracy: 0.9983 - loss: 0.0556\n",
            "Epoch 5: val_loss did not improve from 0.91965\n",
            "\u001b[1m32/32\u001b[0m \u001b[32m━━━━━━━━━━━━━━━━━━━━\u001b[0m\u001b[37m\u001b[0m \u001b[1m1s\u001b[0m 18ms/step - accuracy: 0.9982 - loss: 0.0556 - val_accuracy: 0.7120 - val_loss: 0.9586\n",
            "Epoch 6/15\n",
            "\u001b[1m29/32\u001b[0m \u001b[32m━━━━━━━━━━━━━━━━━━\u001b[0m\u001b[37m━━\u001b[0m \u001b[1m0s\u001b[0m 17ms/step - accuracy: 0.9929 - loss: 0.0549\n",
            "Epoch 6: val_loss improved from 0.91965 to 0.82321, saving model to model.weights.best.keras\n",
            "\u001b[1m32/32\u001b[0m \u001b[32m━━━━━━━━━━━━━━━━━━━━\u001b[0m\u001b[37m\u001b[0m \u001b[1m1s\u001b[0m 25ms/step - accuracy: 0.9932 - loss: 0.0540 - val_accuracy: 0.8620 - val_loss: 0.8232\n",
            "Epoch 7/15\n",
            "\u001b[1m31/32\u001b[0m \u001b[32m━━━━━━━━━━━━━━━━━━━\u001b[0m\u001b[37m━\u001b[0m \u001b[1m0s\u001b[0m 15ms/step - accuracy: 0.9938 - loss: 0.0395\n",
            "Epoch 7: val_loss improved from 0.82321 to 0.67544, saving model to model.weights.best.keras\n",
            "\u001b[1m32/32\u001b[0m \u001b[32m━━━━━━━━━━━━━━━━━━━━\u001b[0m\u001b[37m\u001b[0m \u001b[1m1s\u001b[0m 23ms/step - accuracy: 0.9939 - loss: 0.0393 - val_accuracy: 0.8900 - val_loss: 0.6754\n",
            "Epoch 8/15\n",
            "\u001b[1m29/32\u001b[0m \u001b[32m━━━━━━━━━━━━━━━━━━\u001b[0m\u001b[37m━━\u001b[0m \u001b[1m0s\u001b[0m 15ms/step - accuracy: 0.9987 - loss: 0.0305\n",
            "Epoch 8: val_loss did not improve from 0.67544\n",
            "\u001b[1m32/32\u001b[0m \u001b[32m━━━━━━━━━━━━━━━━━━━━\u001b[0m\u001b[37m\u001b[0m \u001b[1m1s\u001b[0m 17ms/step - accuracy: 0.9986 - loss: 0.0305 - val_accuracy: 0.8120 - val_loss: 0.7038\n",
            "Epoch 9/15\n",
            "\u001b[1m29/32\u001b[0m \u001b[32m━━━━━━━━━━━━━━━━━━\u001b[0m\u001b[37m━━\u001b[0m \u001b[1m0s\u001b[0m 16ms/step - accuracy: 0.9963 - loss: 0.0287\n",
            "Epoch 9: val_loss improved from 0.67544 to 0.58086, saving model to model.weights.best.keras\n",
            "\u001b[1m32/32\u001b[0m \u001b[32m━━━━━━━━━━━━━━━━━━━━\u001b[0m\u001b[37m\u001b[0m \u001b[1m1s\u001b[0m 24ms/step - accuracy: 0.9965 - loss: 0.0283 - val_accuracy: 0.8900 - val_loss: 0.5809\n",
            "Epoch 10/15\n",
            "\u001b[1m32/32\u001b[0m \u001b[32m━━━━━━━━━━━━━━━━━━━━\u001b[0m\u001b[37m\u001b[0m \u001b[1m0s\u001b[0m 15ms/step - accuracy: 0.9991 - loss: 0.0199\n",
            "Epoch 10: val_loss improved from 0.58086 to 0.54149, saving model to model.weights.best.keras\n",
            "\u001b[1m32/32\u001b[0m \u001b[32m━━━━━━━━━━━━━━━━━━━━\u001b[0m\u001b[37m\u001b[0m \u001b[1m1s\u001b[0m 24ms/step - accuracy: 0.9991 - loss: 0.0200 - val_accuracy: 0.8820 - val_loss: 0.5415\n",
            "Epoch 11/15\n",
            "\u001b[1m31/32\u001b[0m \u001b[32m━━━━━━━━━━━━━━━━━━━\u001b[0m\u001b[37m━\u001b[0m \u001b[1m0s\u001b[0m 16ms/step - accuracy: 0.9976 - loss: 0.0200\n",
            "Epoch 11: val_loss improved from 0.54149 to 0.51622, saving model to model.weights.best.keras\n",
            "\u001b[1m32/32\u001b[0m \u001b[32m━━━━━━━━━━━━━━━━━━━━\u001b[0m\u001b[37m\u001b[0m \u001b[1m1s\u001b[0m 24ms/step - accuracy: 0.9976 - loss: 0.0200 - val_accuracy: 0.8840 - val_loss: 0.5162\n",
            "Epoch 12/15\n",
            "\u001b[1m31/32\u001b[0m \u001b[32m━━━━━━━━━━━━━━━━━━━\u001b[0m\u001b[37m━\u001b[0m \u001b[1m0s\u001b[0m 16ms/step - accuracy: 0.9976 - loss: 0.0177\n",
            "Epoch 12: val_loss improved from 0.51622 to 0.48451, saving model to model.weights.best.keras\n",
            "\u001b[1m32/32\u001b[0m \u001b[32m━━━━━━━━━━━━━━━━━━━━\u001b[0m\u001b[37m\u001b[0m \u001b[1m1s\u001b[0m 24ms/step - accuracy: 0.9976 - loss: 0.0176 - val_accuracy: 0.8900 - val_loss: 0.4845\n"
          ]
        }
      ]
    },
    {
      "cell_type": "code",
      "source": [
        "from sklearn.metrics import precision_score, recall_score, f1_score, accuracy_score\n",
        "\n",
        "# Get predictions (class indices for each sample)\n",
        "pred = lstm_model.predict(test_data)\n",
        "y_pred = np.argmax(pred, axis=1)  # Get the class with the highest probability\n",
        "\n",
        "# Calculate metrics\n",
        "precision = precision_score(y_test, y_pred, average='micro')  # Micro-average precision\n",
        "recall = recall_score(y_test, y_pred, average='micro')        # Micro-average recall\n",
        "f1 = f1_score(y_test, y_pred, average='micro')                # Micro-average F1 score\n",
        "accuracy = accuracy_score(y_test, y_pred)                     # Accuracy\n",
        "\n",
        "# Print results\n",
        "print(\"Precision (Micro):\", precision)\n",
        "print(\"Recall (Micro):\", recall)\n",
        "print(\"F1 Score (Micro):\", f1)\n",
        "print(\"Accuracy:\", accuracy)\n"
      ],
      "metadata": {
        "id": "6AjsmgCu7sCv",
        "colab": {
          "base_uri": "https://localhost:8080/"
        },
        "outputId": "c7dc4755-2f48-4149-98d5-51955f764c45"
      },
      "execution_count": null,
      "outputs": [
        {
          "output_type": "stream",
          "name": "stdout",
          "text": [
            "\u001b[1m7/7\u001b[0m \u001b[32m━━━━━━━━━━━━━━━━━━━━\u001b[0m\u001b[37m\u001b[0m \u001b[1m0s\u001b[0m 39ms/step\n",
            "Precision (Micro): 0.62\n",
            "Recall (Micro): 0.62\n",
            "F1 Score (Micro): 0.62\n",
            "Accuracy: 0.62\n"
          ]
        }
      ]
    },
    {
      "cell_type": "code",
      "source": [
        "embedding_layer = Embedding(\n",
        "    input_dim=vocab_size,\n",
        "    output_dim=300,\n",
        "    input_length=maxlen,\n",
        "    trainable=True  # Allow fine-tuning of embeddings\n",
        ")\n",
        "# Define the input layer\n",
        "email_input = Input(shape=(maxlen,), name='Email_input')\n",
        "\n",
        "# Apply the embedding layer to the input\n",
        "embedded_email = embedding_layer(email_input)\n",
        "\n",
        "# Define the Bidirectional LSTM layers\n",
        "lstm_layer1 = Bidirectional(LSTM(units=256, return_sequences=True))\n",
        "lstm_layer2 =Bidirectional(LSTM(units=128, return_sequences=True))\n",
        "\n",
        "# Apply the first LSTM layer\n",
        "lstm_output1 = lstm_layer1(embedded_email)\n",
        "\n",
        "# Apply dropout after the first LSTM layer\n",
        "dropout1 = Dropout(0.25)(lstm_output1)\n",
        "\n",
        "# Apply batch normalization\n",
        "bn1 = BatchNormalization()(dropout1)\n",
        "\n",
        "# Apply the second LSTM layer\n",
        "lstm_output2 = lstm_layer2(bn1)\n",
        "\n",
        "flatten_output = Flatten()(lstm_output2)\n",
        "\n",
        "# Add a dense layer for binary classification\n",
        "output = Dense(7, activation='softmax', kernel_regularizer=l2(0.001))(flatten_output)\n",
        "\n",
        "# Create the model\n",
        "bilstm_model = Model(inputs=email_input, outputs=output)\n",
        "\n",
        "# Compile the model\n",
        "bilstm_model.compile(optimizer='adam', loss='sparse_categorical_crossentropy', metrics=['accuracy'])\n",
        "\n",
        "# Display the model summary\n",
        "bilstm_model.summary()\n"
      ],
      "metadata": {
        "id": "ZZRFBxBu8BGy",
        "colab": {
          "base_uri": "https://localhost:8080/",
          "height": 434
        },
        "outputId": "8bfc909d-28b0-4b44-f55c-2f38d3ab771d"
      },
      "execution_count": null,
      "outputs": [
        {
          "output_type": "display_data",
          "data": {
            "text/plain": [
              "\u001b[1mModel: \"functional_4\"\u001b[0m\n"
            ],
            "text/html": [
              "<pre style=\"white-space:pre;overflow-x:auto;line-height:normal;font-family:Menlo,'DejaVu Sans Mono',consolas,'Courier New',monospace\"><span style=\"font-weight: bold\">Model: \"functional_4\"</span>\n",
              "</pre>\n"
            ]
          },
          "metadata": {}
        },
        {
          "output_type": "display_data",
          "data": {
            "text/plain": [
              "┏━━━━━━━━━━━━━━━━━━━━━━━━━━━━━━━━━━━━━━┳━━━━━━━━━━━━━━━━━━━━━━━━━━━━━┳━━━━━━━━━━━━━━━━━┓\n",
              "┃\u001b[1m \u001b[0m\u001b[1mLayer (type)                        \u001b[0m\u001b[1m \u001b[0m┃\u001b[1m \u001b[0m\u001b[1mOutput Shape               \u001b[0m\u001b[1m \u001b[0m┃\u001b[1m \u001b[0m\u001b[1m        Param #\u001b[0m\u001b[1m \u001b[0m┃\n",
              "┡━━━━━━━━━━━━━━━━━━━━━━━━━━━━━━━━━━━━━━╇━━━━━━━━━━━━━━━━━━━━━━━━━━━━━╇━━━━━━━━━━━━━━━━━┩\n",
              "│ Email_input (\u001b[38;5;33mInputLayer\u001b[0m)             │ (\u001b[38;5;45mNone\u001b[0m, \u001b[38;5;34m120\u001b[0m)                 │               \u001b[38;5;34m0\u001b[0m │\n",
              "├──────────────────────────────────────┼─────────────────────────────┼─────────────────┤\n",
              "│ embedding_4 (\u001b[38;5;33mEmbedding\u001b[0m)              │ (\u001b[38;5;45mNone\u001b[0m, \u001b[38;5;34m120\u001b[0m, \u001b[38;5;34m300\u001b[0m)            │       \u001b[38;5;34m2,607,300\u001b[0m │\n",
              "├──────────────────────────────────────┼─────────────────────────────┼─────────────────┤\n",
              "│ bidirectional_2 (\u001b[38;5;33mBidirectional\u001b[0m)      │ (\u001b[38;5;45mNone\u001b[0m, \u001b[38;5;34m120\u001b[0m, \u001b[38;5;34m512\u001b[0m)            │       \u001b[38;5;34m1,140,736\u001b[0m │\n",
              "├──────────────────────────────────────┼─────────────────────────────┼─────────────────┤\n",
              "│ dropout_4 (\u001b[38;5;33mDropout\u001b[0m)                  │ (\u001b[38;5;45mNone\u001b[0m, \u001b[38;5;34m120\u001b[0m, \u001b[38;5;34m512\u001b[0m)            │               \u001b[38;5;34m0\u001b[0m │\n",
              "├──────────────────────────────────────┼─────────────────────────────┼─────────────────┤\n",
              "│ batch_normalization_4                │ (\u001b[38;5;45mNone\u001b[0m, \u001b[38;5;34m120\u001b[0m, \u001b[38;5;34m512\u001b[0m)            │           \u001b[38;5;34m2,048\u001b[0m │\n",
              "│ (\u001b[38;5;33mBatchNormalization\u001b[0m)                 │                             │                 │\n",
              "├──────────────────────────────────────┼─────────────────────────────┼─────────────────┤\n",
              "│ bidirectional_3 (\u001b[38;5;33mBidirectional\u001b[0m)      │ (\u001b[38;5;45mNone\u001b[0m, \u001b[38;5;34m120\u001b[0m, \u001b[38;5;34m256\u001b[0m)            │         \u001b[38;5;34m656,384\u001b[0m │\n",
              "├──────────────────────────────────────┼─────────────────────────────┼─────────────────┤\n",
              "│ flatten_4 (\u001b[38;5;33mFlatten\u001b[0m)                  │ (\u001b[38;5;45mNone\u001b[0m, \u001b[38;5;34m30720\u001b[0m)               │               \u001b[38;5;34m0\u001b[0m │\n",
              "├──────────────────────────────────────┼─────────────────────────────┼─────────────────┤\n",
              "│ dense_4 (\u001b[38;5;33mDense\u001b[0m)                      │ (\u001b[38;5;45mNone\u001b[0m, \u001b[38;5;34m7\u001b[0m)                   │         \u001b[38;5;34m215,047\u001b[0m │\n",
              "└──────────────────────────────────────┴─────────────────────────────┴─────────────────┘\n"
            ],
            "text/html": [
              "<pre style=\"white-space:pre;overflow-x:auto;line-height:normal;font-family:Menlo,'DejaVu Sans Mono',consolas,'Courier New',monospace\">┏━━━━━━━━━━━━━━━━━━━━━━━━━━━━━━━━━━━━━━┳━━━━━━━━━━━━━━━━━━━━━━━━━━━━━┳━━━━━━━━━━━━━━━━━┓\n",
              "┃<span style=\"font-weight: bold\"> Layer (type)                         </span>┃<span style=\"font-weight: bold\"> Output Shape                </span>┃<span style=\"font-weight: bold\">         Param # </span>┃\n",
              "┡━━━━━━━━━━━━━━━━━━━━━━━━━━━━━━━━━━━━━━╇━━━━━━━━━━━━━━━━━━━━━━━━━━━━━╇━━━━━━━━━━━━━━━━━┩\n",
              "│ Email_input (<span style=\"color: #0087ff; text-decoration-color: #0087ff\">InputLayer</span>)             │ (<span style=\"color: #00d7ff; text-decoration-color: #00d7ff\">None</span>, <span style=\"color: #00af00; text-decoration-color: #00af00\">120</span>)                 │               <span style=\"color: #00af00; text-decoration-color: #00af00\">0</span> │\n",
              "├──────────────────────────────────────┼─────────────────────────────┼─────────────────┤\n",
              "│ embedding_4 (<span style=\"color: #0087ff; text-decoration-color: #0087ff\">Embedding</span>)              │ (<span style=\"color: #00d7ff; text-decoration-color: #00d7ff\">None</span>, <span style=\"color: #00af00; text-decoration-color: #00af00\">120</span>, <span style=\"color: #00af00; text-decoration-color: #00af00\">300</span>)            │       <span style=\"color: #00af00; text-decoration-color: #00af00\">2,607,300</span> │\n",
              "├──────────────────────────────────────┼─────────────────────────────┼─────────────────┤\n",
              "│ bidirectional_2 (<span style=\"color: #0087ff; text-decoration-color: #0087ff\">Bidirectional</span>)      │ (<span style=\"color: #00d7ff; text-decoration-color: #00d7ff\">None</span>, <span style=\"color: #00af00; text-decoration-color: #00af00\">120</span>, <span style=\"color: #00af00; text-decoration-color: #00af00\">512</span>)            │       <span style=\"color: #00af00; text-decoration-color: #00af00\">1,140,736</span> │\n",
              "├──────────────────────────────────────┼─────────────────────────────┼─────────────────┤\n",
              "│ dropout_4 (<span style=\"color: #0087ff; text-decoration-color: #0087ff\">Dropout</span>)                  │ (<span style=\"color: #00d7ff; text-decoration-color: #00d7ff\">None</span>, <span style=\"color: #00af00; text-decoration-color: #00af00\">120</span>, <span style=\"color: #00af00; text-decoration-color: #00af00\">512</span>)            │               <span style=\"color: #00af00; text-decoration-color: #00af00\">0</span> │\n",
              "├──────────────────────────────────────┼─────────────────────────────┼─────────────────┤\n",
              "│ batch_normalization_4                │ (<span style=\"color: #00d7ff; text-decoration-color: #00d7ff\">None</span>, <span style=\"color: #00af00; text-decoration-color: #00af00\">120</span>, <span style=\"color: #00af00; text-decoration-color: #00af00\">512</span>)            │           <span style=\"color: #00af00; text-decoration-color: #00af00\">2,048</span> │\n",
              "│ (<span style=\"color: #0087ff; text-decoration-color: #0087ff\">BatchNormalization</span>)                 │                             │                 │\n",
              "├──────────────────────────────────────┼─────────────────────────────┼─────────────────┤\n",
              "│ bidirectional_3 (<span style=\"color: #0087ff; text-decoration-color: #0087ff\">Bidirectional</span>)      │ (<span style=\"color: #00d7ff; text-decoration-color: #00d7ff\">None</span>, <span style=\"color: #00af00; text-decoration-color: #00af00\">120</span>, <span style=\"color: #00af00; text-decoration-color: #00af00\">256</span>)            │         <span style=\"color: #00af00; text-decoration-color: #00af00\">656,384</span> │\n",
              "├──────────────────────────────────────┼─────────────────────────────┼─────────────────┤\n",
              "│ flatten_4 (<span style=\"color: #0087ff; text-decoration-color: #0087ff\">Flatten</span>)                  │ (<span style=\"color: #00d7ff; text-decoration-color: #00d7ff\">None</span>, <span style=\"color: #00af00; text-decoration-color: #00af00\">30720</span>)               │               <span style=\"color: #00af00; text-decoration-color: #00af00\">0</span> │\n",
              "├──────────────────────────────────────┼─────────────────────────────┼─────────────────┤\n",
              "│ dense_4 (<span style=\"color: #0087ff; text-decoration-color: #0087ff\">Dense</span>)                      │ (<span style=\"color: #00d7ff; text-decoration-color: #00d7ff\">None</span>, <span style=\"color: #00af00; text-decoration-color: #00af00\">7</span>)                   │         <span style=\"color: #00af00; text-decoration-color: #00af00\">215,047</span> │\n",
              "└──────────────────────────────────────┴─────────────────────────────┴─────────────────┘\n",
              "</pre>\n"
            ]
          },
          "metadata": {}
        },
        {
          "output_type": "display_data",
          "data": {
            "text/plain": [
              "\u001b[1m Total params: \u001b[0m\u001b[38;5;34m4,621,515\u001b[0m (17.63 MB)\n"
            ],
            "text/html": [
              "<pre style=\"white-space:pre;overflow-x:auto;line-height:normal;font-family:Menlo,'DejaVu Sans Mono',consolas,'Courier New',monospace\"><span style=\"font-weight: bold\"> Total params: </span><span style=\"color: #00af00; text-decoration-color: #00af00\">4,621,515</span> (17.63 MB)\n",
              "</pre>\n"
            ]
          },
          "metadata": {}
        },
        {
          "output_type": "display_data",
          "data": {
            "text/plain": [
              "\u001b[1m Trainable params: \u001b[0m\u001b[38;5;34m4,620,491\u001b[0m (17.63 MB)\n"
            ],
            "text/html": [
              "<pre style=\"white-space:pre;overflow-x:auto;line-height:normal;font-family:Menlo,'DejaVu Sans Mono',consolas,'Courier New',monospace\"><span style=\"font-weight: bold\"> Trainable params: </span><span style=\"color: #00af00; text-decoration-color: #00af00\">4,620,491</span> (17.63 MB)\n",
              "</pre>\n"
            ]
          },
          "metadata": {}
        },
        {
          "output_type": "display_data",
          "data": {
            "text/plain": [
              "\u001b[1m Non-trainable params: \u001b[0m\u001b[38;5;34m1,024\u001b[0m (4.00 KB)\n"
            ],
            "text/html": [
              "<pre style=\"white-space:pre;overflow-x:auto;line-height:normal;font-family:Menlo,'DejaVu Sans Mono',consolas,'Courier New',monospace\"><span style=\"font-weight: bold\"> Non-trainable params: </span><span style=\"color: #00af00; text-decoration-color: #00af00\">1,024</span> (4.00 KB)\n",
              "</pre>\n"
            ]
          },
          "metadata": {}
        }
      ]
    },
    {
      "cell_type": "code",
      "source": [
        "stopper= EarlyStopping(patience=5, monitor='val_accuracy')\n",
        "checkpointer = ModelCheckpoint(filepath='model.weights.best.keras', verbose=3, save_best_only=True)\n",
        "\n",
        "history=bilstm_model.fit(\n",
        "         train_data, train_labels_reshaped,\n",
        "         batch_size=64,\n",
        "         epochs=15,\n",
        "         validation_data=(val_data, val_labels_reshaped),\n",
        "         callbacks=[stopper, checkpointer],\n",
        "         )"
      ],
      "metadata": {
        "id": "kcrLr6ei8jF2",
        "colab": {
          "base_uri": "https://localhost:8080/"
        },
        "outputId": "b50db600-a72c-465d-a93f-18e59b84743b"
      },
      "execution_count": null,
      "outputs": [
        {
          "output_type": "stream",
          "name": "stdout",
          "text": [
            "Epoch 1/15\n",
            "\u001b[1m32/32\u001b[0m \u001b[32m━━━━━━━━━━━━━━━━━━━━\u001b[0m\u001b[37m\u001b[0m \u001b[1m0s\u001b[0m 81ms/step - accuracy: 0.4409 - loss: 1.4022\n",
            "Epoch 1: val_loss improved from inf to 1.40786, saving model to model.weights.best.keras\n",
            "\u001b[1m32/32\u001b[0m \u001b[32m━━━━━━━━━━━━━━━━━━━━\u001b[0m\u001b[37m\u001b[0m \u001b[1m11s\u001b[0m 146ms/step - accuracy: 0.4435 - loss: 1.3966 - val_accuracy: 0.5620 - val_loss: 1.4079\n",
            "Epoch 2/15\n",
            "\u001b[1m31/32\u001b[0m \u001b[32m━━━━━━━━━━━━━━━━━━━\u001b[0m\u001b[37m━\u001b[0m \u001b[1m0s\u001b[0m 57ms/step - accuracy: 0.8610 - loss: 0.3998\n",
            "Epoch 2: val_loss did not improve from 1.40786\n",
            "\u001b[1m32/32\u001b[0m \u001b[32m━━━━━━━━━━━━━━━━━━━━\u001b[0m\u001b[37m\u001b[0m \u001b[1m2s\u001b[0m 62ms/step - accuracy: 0.8638 - loss: 0.3944 - val_accuracy: 0.5780 - val_loss: 1.6661\n",
            "Epoch 3/15\n",
            "\u001b[1m31/32\u001b[0m \u001b[32m━━━━━━━━━━━━━━━━━━━\u001b[0m\u001b[37m━\u001b[0m \u001b[1m0s\u001b[0m 57ms/step - accuracy: 0.9843 - loss: 0.0755\n",
            "Epoch 3: val_loss improved from 1.40786 to 1.26374, saving model to model.weights.best.keras\n",
            "\u001b[1m32/32\u001b[0m \u001b[32m━━━━━━━━━━━━━━━━━━━━\u001b[0m\u001b[37m\u001b[0m \u001b[1m2s\u001b[0m 72ms/step - accuracy: 0.9842 - loss: 0.0757 - val_accuracy: 0.5540 - val_loss: 1.2637\n",
            "Epoch 4/15\n",
            "\u001b[1m31/32\u001b[0m \u001b[32m━━━━━━━━━━━━━━━━━━━\u001b[0m\u001b[37m━\u001b[0m \u001b[1m0s\u001b[0m 57ms/step - accuracy: 0.9971 - loss: 0.0327\n",
            "Epoch 4: val_loss did not improve from 1.26374\n",
            "\u001b[1m32/32\u001b[0m \u001b[32m━━━━━━━━━━━━━━━━━━━━\u001b[0m\u001b[37m\u001b[0m \u001b[1m2s\u001b[0m 62ms/step - accuracy: 0.9970 - loss: 0.0330 - val_accuracy: 0.5800 - val_loss: 1.3038\n",
            "Epoch 5/15\n",
            "\u001b[1m31/32\u001b[0m \u001b[32m━━━━━━━━━━━━━━━━━━━\u001b[0m\u001b[37m━\u001b[0m \u001b[1m0s\u001b[0m 58ms/step - accuracy: 0.9959 - loss: 0.0415\n",
            "Epoch 5: val_loss did not improve from 1.26374\n",
            "\u001b[1m32/32\u001b[0m \u001b[32m━━━━━━━━━━━━━━━━━━━━\u001b[0m\u001b[37m\u001b[0m \u001b[1m3s\u001b[0m 63ms/step - accuracy: 0.9959 - loss: 0.0414 - val_accuracy: 0.7120 - val_loss: 1.3378\n",
            "Epoch 6/15\n",
            "\u001b[1m31/32\u001b[0m \u001b[32m━━━━━━━━━━━━━━━━━━━\u001b[0m\u001b[37m━\u001b[0m \u001b[1m0s\u001b[0m 60ms/step - accuracy: 0.9995 - loss: 0.0201\n",
            "Epoch 6: val_loss improved from 1.26374 to 1.03329, saving model to model.weights.best.keras\n",
            "\u001b[1m32/32\u001b[0m \u001b[32m━━━━━━━━━━━━━━━━━━━━\u001b[0m\u001b[37m\u001b[0m \u001b[1m3s\u001b[0m 83ms/step - accuracy: 0.9994 - loss: 0.0204 - val_accuracy: 0.8660 - val_loss: 1.0333\n",
            "Epoch 7/15\n",
            "\u001b[1m31/32\u001b[0m \u001b[32m━━━━━━━━━━━━━━━━━━━\u001b[0m\u001b[37m━\u001b[0m \u001b[1m0s\u001b[0m 60ms/step - accuracy: 0.9989 - loss: 0.0212\n",
            "Epoch 7: val_loss improved from 1.03329 to 0.92741, saving model to model.weights.best.keras\n",
            "\u001b[1m32/32\u001b[0m \u001b[32m━━━━━━━━━━━━━━━━━━━━\u001b[0m\u001b[37m\u001b[0m \u001b[1m5s\u001b[0m 74ms/step - accuracy: 0.9989 - loss: 0.0214 - val_accuracy: 0.7400 - val_loss: 0.9274\n",
            "Epoch 8/15\n",
            "\u001b[1m31/32\u001b[0m \u001b[32m━━━━━━━━━━━━━━━━━━━\u001b[0m\u001b[37m━\u001b[0m \u001b[1m0s\u001b[0m 57ms/step - accuracy: 0.9943 - loss: 0.0404\n",
            "Epoch 8: val_loss improved from 0.92741 to 0.92203, saving model to model.weights.best.keras\n",
            "\u001b[1m32/32\u001b[0m \u001b[32m━━━━━━━━━━━━━━━━━━━━\u001b[0m\u001b[37m\u001b[0m \u001b[1m2s\u001b[0m 72ms/step - accuracy: 0.9944 - loss: 0.0397 - val_accuracy: 0.8020 - val_loss: 0.9220\n",
            "Epoch 9/15\n",
            "\u001b[1m31/32\u001b[0m \u001b[32m━━━━━━━━━━━━━━━━━━━\u001b[0m\u001b[37m━\u001b[0m \u001b[1m0s\u001b[0m 57ms/step - accuracy: 0.9967 - loss: 0.0206\n",
            "Epoch 9: val_loss improved from 0.92203 to 0.78770, saving model to model.weights.best.keras\n",
            "\u001b[1m32/32\u001b[0m \u001b[32m━━━━━━━━━━━━━━━━━━━━\u001b[0m\u001b[37m\u001b[0m \u001b[1m3s\u001b[0m 72ms/step - accuracy: 0.9967 - loss: 0.0206 - val_accuracy: 0.8840 - val_loss: 0.7877\n",
            "Epoch 10/15\n",
            "\u001b[1m31/32\u001b[0m \u001b[32m━━━━━━━━━━━━━━━━━━━\u001b[0m\u001b[37m━\u001b[0m \u001b[1m0s\u001b[0m 59ms/step - accuracy: 0.9981 - loss: 0.0170\n",
            "Epoch 10: val_loss improved from 0.78770 to 0.77349, saving model to model.weights.best.keras\n",
            "\u001b[1m32/32\u001b[0m \u001b[32m━━━━━━━━━━━━━━━━━━━━\u001b[0m\u001b[37m\u001b[0m \u001b[1m3s\u001b[0m 78ms/step - accuracy: 0.9980 - loss: 0.0172 - val_accuracy: 0.7340 - val_loss: 0.7735\n",
            "Epoch 11/15\n",
            "\u001b[1m31/32\u001b[0m \u001b[32m━━━━━━━━━━━━━━━━━━━\u001b[0m\u001b[37m━\u001b[0m \u001b[1m0s\u001b[0m 66ms/step - accuracy: 0.9989 - loss: 0.0149\n",
            "Epoch 11: val_loss improved from 0.77349 to 0.63919, saving model to model.weights.best.keras\n",
            "\u001b[1m32/32\u001b[0m \u001b[32m━━━━━━━━━━━━━━━━━━━━\u001b[0m\u001b[37m\u001b[0m \u001b[1m3s\u001b[0m 85ms/step - accuracy: 0.9989 - loss: 0.0150 - val_accuracy: 0.8880 - val_loss: 0.6392\n",
            "Epoch 12/15\n",
            "\u001b[1m31/32\u001b[0m \u001b[32m━━━━━━━━━━━━━━━━━━━\u001b[0m\u001b[37m━\u001b[0m \u001b[1m0s\u001b[0m 59ms/step - accuracy: 0.9974 - loss: 0.0173\n",
            "Epoch 12: val_loss improved from 0.63919 to 0.59891, saving model to model.weights.best.keras\n",
            "\u001b[1m32/32\u001b[0m \u001b[32m━━━━━━━━━━━━━━━━━━━━\u001b[0m\u001b[37m\u001b[0m \u001b[1m5s\u001b[0m 73ms/step - accuracy: 0.9974 - loss: 0.0172 - val_accuracy: 0.8760 - val_loss: 0.5989\n",
            "Epoch 13/15\n",
            "\u001b[1m31/32\u001b[0m \u001b[32m━━━━━━━━━━━━━━━━━━━\u001b[0m\u001b[37m━\u001b[0m \u001b[1m0s\u001b[0m 57ms/step - accuracy: 0.9978 - loss: 0.0151\n",
            "Epoch 13: val_loss improved from 0.59891 to 0.58034, saving model to model.weights.best.keras\n",
            "\u001b[1m32/32\u001b[0m \u001b[32m━━━━━━━━━━━━━━━━━━━━\u001b[0m\u001b[37m\u001b[0m \u001b[1m2s\u001b[0m 71ms/step - accuracy: 0.9978 - loss: 0.0154 - val_accuracy: 0.8860 - val_loss: 0.5803\n",
            "Epoch 14/15\n",
            "\u001b[1m31/32\u001b[0m \u001b[32m━━━━━━━━━━━━━━━━━━━\u001b[0m\u001b[37m━\u001b[0m \u001b[1m0s\u001b[0m 58ms/step - accuracy: 0.9969 - loss: 0.0180\n",
            "Epoch 14: val_loss did not improve from 0.58034\n",
            "\u001b[1m32/32\u001b[0m \u001b[32m━━━━━━━━━━━━━━━━━━━━\u001b[0m\u001b[37m\u001b[0m \u001b[1m2s\u001b[0m 63ms/step - accuracy: 0.9969 - loss: 0.0180 - val_accuracy: 0.5000 - val_loss: 1.5446\n",
            "Epoch 15/15\n",
            "\u001b[1m31/32\u001b[0m \u001b[32m━━━━━━━━━━━━━━━━━━━\u001b[0m\u001b[37m━\u001b[0m \u001b[1m0s\u001b[0m 59ms/step - accuracy: 0.9955 - loss: 0.0183\n",
            "Epoch 15: val_loss did not improve from 0.58034\n",
            "\u001b[1m32/32\u001b[0m \u001b[32m━━━━━━━━━━━━━━━━━━━━\u001b[0m\u001b[37m\u001b[0m \u001b[1m3s\u001b[0m 64ms/step - accuracy: 0.9955 - loss: 0.0183 - val_accuracy: 0.7860 - val_loss: 0.9485\n"
          ]
        }
      ]
    },
    {
      "cell_type": "code",
      "source": [
        "from sklearn.metrics import precision_score, recall_score, f1_score, accuracy_score\n",
        "\n",
        "# Get predictions (class indices for each sample)\n",
        "pred = bilstm_model.predict(test_data)\n",
        "y_pred = np.argmax(pred, axis=1)  # Get the class with the highest probability\n",
        "\n",
        "# Calculate metrics\n",
        "precision = precision_score(y_test, y_pred, average='micro')  # Micro-average precision\n",
        "recall = recall_score(y_test, y_pred, average='micro')        # Micro-average recall\n",
        "f1 = f1_score(y_test, y_pred, average='micro')                # Micro-average F1 score\n",
        "accuracy = accuracy_score(y_test, y_pred)                     # Accuracy\n",
        "\n",
        "# Print results\n",
        "print(\"Precision (Micro):\", precision)\n",
        "print(\"Recall (Micro):\", recall)\n",
        "print(\"F1 Score (Micro):\", f1)\n",
        "print(\"Accuracy:\", accuracy)\n"
      ],
      "metadata": {
        "id": "yiXpTvl48lgg",
        "colab": {
          "base_uri": "https://localhost:8080/"
        },
        "outputId": "5cf8117b-2aa1-4ffa-f93a-03fc00719fab"
      },
      "execution_count": null,
      "outputs": [
        {
          "output_type": "stream",
          "name": "stderr",
          "text": [
            "WARNING:tensorflow:5 out of the last 15 calls to <function TensorFlowTrainer.make_predict_function.<locals>.one_step_on_data_distributed at 0x7d69be217560> triggered tf.function retracing. Tracing is expensive and the excessive number of tracings could be due to (1) creating @tf.function repeatedly in a loop, (2) passing tensors with different shapes, (3) passing Python objects instead of tensors. For (1), please define your @tf.function outside of the loop. For (2), @tf.function has reduce_retracing=True option that can avoid unnecessary retracing. For (3), please refer to https://www.tensorflow.org/guide/function#controlling_retracing and https://www.tensorflow.org/api_docs/python/tf/function for  more details.\n"
          ]
        },
        {
          "output_type": "stream",
          "name": "stdout",
          "text": [
            "\u001b[1m7/7\u001b[0m \u001b[32m━━━━━━━━━━━━━━━━━━━━\u001b[0m\u001b[37m\u001b[0m \u001b[1m1s\u001b[0m 92ms/step\n",
            "Precision (Micro): 0.505\n",
            "Recall (Micro): 0.505\n",
            "F1 Score (Micro): 0.505\n",
            "Accuracy: 0.505\n"
          ]
        }
      ]
    },
    {
      "cell_type": "code",
      "source": [
        "embedding_layer = Embedding(\n",
        "    input_dim=vocab_size,\n",
        "    output_dim=300,\n",
        "    input_length=maxlen,\n",
        "    trainable=True  # Allow fine-tuning of embeddings\n",
        ")\n",
        "email_input = Input(shape=(maxlen,), name='Email_input')\n",
        "\n",
        "# Apply the embedding layer to the input\n",
        "embedded_email = embedding_layer(email_input)\n",
        "\n",
        "# Define and apply the Bidirectional LSTM layer\n",
        "lstm_layer = Bidirectional(LSTM(units=256, return_sequences=True))(embedded_email)\n",
        "\n",
        "# Apply dropout after LSTM\n",
        "dropout1 = Dropout(0.25)(lstm_layer)\n",
        "\n",
        "# Apply batch normalization\n",
        "bn1 = BatchNormalization()(dropout1)\n",
        "\n",
        "# Add CNN layers after BiLSTM\n",
        "# First CNN block\n",
        "conv1 = Conv1D(filters=64, kernel_size=3, activation='relu', padding='same')(bn1)\n",
        "pool1 = MaxPooling1D(pool_size=2)(conv1)\n",
        "\n",
        "# Second CNN block\n",
        "conv2 = Conv1D(filters=64, kernel_size=3, activation='relu', padding='same')(pool1)\n",
        "pool2 = MaxPooling1D(pool_size=2)(conv2)\n",
        "\n",
        "# Apply global max pooling\n",
        "global_pool = GlobalMaxPooling1D()(pool2)\n",
        "\n",
        "# Add dropout for regularization\n",
        "dropout2 = Dropout(0.25)(global_pool)\n",
        "\n",
        "# Add batch normalization\n",
        "bn2 = BatchNormalization()(dropout2)\n",
        "\n",
        "# Add a dense layer for binary classification\n",
        "output = Dense(7, activation='softmax', kernel_regularizer=l2(0.001))(bn2)\n",
        "\n",
        "# Create the model\n",
        "bilstm_cnn_model = Model(inputs=email_input, outputs=output)\n",
        "\n",
        "# Compile the model\n",
        "bilstm_cnn_model.compile(\n",
        "    optimizer='adam',\n",
        "    loss='sparse_categorical_crossentropy',\n",
        "    metrics=['accuracy']\n",
        ")\n",
        "\n",
        "# Display the model summary\n",
        "bilstm_cnn_model.summary()"
      ],
      "metadata": {
        "id": "DfNBJJOy8sLW",
        "colab": {
          "base_uri": "https://localhost:8080/",
          "height": 634
        },
        "outputId": "05c67a75-6892-469f-a405-1f9634b300de"
      },
      "execution_count": null,
      "outputs": [
        {
          "output_type": "display_data",
          "data": {
            "text/plain": [
              "\u001b[1mModel: \"functional_6\"\u001b[0m\n"
            ],
            "text/html": [
              "<pre style=\"white-space:pre;overflow-x:auto;line-height:normal;font-family:Menlo,'DejaVu Sans Mono',consolas,'Courier New',monospace\"><span style=\"font-weight: bold\">Model: \"functional_6\"</span>\n",
              "</pre>\n"
            ]
          },
          "metadata": {}
        },
        {
          "output_type": "display_data",
          "data": {
            "text/plain": [
              "┏━━━━━━━━━━━━━━━━━━━━━━━━━━━━━━━━━━━━━━┳━━━━━━━━━━━━━━━━━━━━━━━━━━━━━┳━━━━━━━━━━━━━━━━━┓\n",
              "┃\u001b[1m \u001b[0m\u001b[1mLayer (type)                        \u001b[0m\u001b[1m \u001b[0m┃\u001b[1m \u001b[0m\u001b[1mOutput Shape               \u001b[0m\u001b[1m \u001b[0m┃\u001b[1m \u001b[0m\u001b[1m        Param #\u001b[0m\u001b[1m \u001b[0m┃\n",
              "┡━━━━━━━━━━━━━━━━━━━━━━━━━━━━━━━━━━━━━━╇━━━━━━━━━━━━━━━━━━━━━━━━━━━━━╇━━━━━━━━━━━━━━━━━┩\n",
              "│ Email_input (\u001b[38;5;33mInputLayer\u001b[0m)             │ (\u001b[38;5;45mNone\u001b[0m, \u001b[38;5;34m120\u001b[0m)                 │               \u001b[38;5;34m0\u001b[0m │\n",
              "├──────────────────────────────────────┼─────────────────────────────┼─────────────────┤\n",
              "│ embedding_6 (\u001b[38;5;33mEmbedding\u001b[0m)              │ (\u001b[38;5;45mNone\u001b[0m, \u001b[38;5;34m120\u001b[0m, \u001b[38;5;34m300\u001b[0m)            │       \u001b[38;5;34m2,607,300\u001b[0m │\n",
              "├──────────────────────────────────────┼─────────────────────────────┼─────────────────┤\n",
              "│ bidirectional_5 (\u001b[38;5;33mBidirectional\u001b[0m)      │ (\u001b[38;5;45mNone\u001b[0m, \u001b[38;5;34m120\u001b[0m, \u001b[38;5;34m512\u001b[0m)            │       \u001b[38;5;34m1,140,736\u001b[0m │\n",
              "├──────────────────────────────────────┼─────────────────────────────┼─────────────────┤\n",
              "│ dropout_7 (\u001b[38;5;33mDropout\u001b[0m)                  │ (\u001b[38;5;45mNone\u001b[0m, \u001b[38;5;34m120\u001b[0m, \u001b[38;5;34m512\u001b[0m)            │               \u001b[38;5;34m0\u001b[0m │\n",
              "├──────────────────────────────────────┼─────────────────────────────┼─────────────────┤\n",
              "│ batch_normalization_7                │ (\u001b[38;5;45mNone\u001b[0m, \u001b[38;5;34m120\u001b[0m, \u001b[38;5;34m512\u001b[0m)            │           \u001b[38;5;34m2,048\u001b[0m │\n",
              "│ (\u001b[38;5;33mBatchNormalization\u001b[0m)                 │                             │                 │\n",
              "├──────────────────────────────────────┼─────────────────────────────┼─────────────────┤\n",
              "│ conv1d_2 (\u001b[38;5;33mConv1D\u001b[0m)                    │ (\u001b[38;5;45mNone\u001b[0m, \u001b[38;5;34m120\u001b[0m, \u001b[38;5;34m64\u001b[0m)             │          \u001b[38;5;34m98,368\u001b[0m │\n",
              "├──────────────────────────────────────┼─────────────────────────────┼─────────────────┤\n",
              "│ max_pooling1d_2 (\u001b[38;5;33mMaxPooling1D\u001b[0m)       │ (\u001b[38;5;45mNone\u001b[0m, \u001b[38;5;34m60\u001b[0m, \u001b[38;5;34m64\u001b[0m)              │               \u001b[38;5;34m0\u001b[0m │\n",
              "├──────────────────────────────────────┼─────────────────────────────┼─────────────────┤\n",
              "│ conv1d_3 (\u001b[38;5;33mConv1D\u001b[0m)                    │ (\u001b[38;5;45mNone\u001b[0m, \u001b[38;5;34m60\u001b[0m, \u001b[38;5;34m64\u001b[0m)              │          \u001b[38;5;34m12,352\u001b[0m │\n",
              "├──────────────────────────────────────┼─────────────────────────────┼─────────────────┤\n",
              "│ max_pooling1d_3 (\u001b[38;5;33mMaxPooling1D\u001b[0m)       │ (\u001b[38;5;45mNone\u001b[0m, \u001b[38;5;34m30\u001b[0m, \u001b[38;5;34m64\u001b[0m)              │               \u001b[38;5;34m0\u001b[0m │\n",
              "├──────────────────────────────────────┼─────────────────────────────┼─────────────────┤\n",
              "│ global_max_pooling1d_1               │ (\u001b[38;5;45mNone\u001b[0m, \u001b[38;5;34m64\u001b[0m)                  │               \u001b[38;5;34m0\u001b[0m │\n",
              "│ (\u001b[38;5;33mGlobalMaxPooling1D\u001b[0m)                 │                             │                 │\n",
              "├──────────────────────────────────────┼─────────────────────────────┼─────────────────┤\n",
              "│ dropout_8 (\u001b[38;5;33mDropout\u001b[0m)                  │ (\u001b[38;5;45mNone\u001b[0m, \u001b[38;5;34m64\u001b[0m)                  │               \u001b[38;5;34m0\u001b[0m │\n",
              "├──────────────────────────────────────┼─────────────────────────────┼─────────────────┤\n",
              "│ batch_normalization_8                │ (\u001b[38;5;45mNone\u001b[0m, \u001b[38;5;34m64\u001b[0m)                  │             \u001b[38;5;34m256\u001b[0m │\n",
              "│ (\u001b[38;5;33mBatchNormalization\u001b[0m)                 │                             │                 │\n",
              "├──────────────────────────────────────┼─────────────────────────────┼─────────────────┤\n",
              "│ dense_6 (\u001b[38;5;33mDense\u001b[0m)                      │ (\u001b[38;5;45mNone\u001b[0m, \u001b[38;5;34m7\u001b[0m)                   │             \u001b[38;5;34m455\u001b[0m │\n",
              "└──────────────────────────────────────┴─────────────────────────────┴─────────────────┘\n"
            ],
            "text/html": [
              "<pre style=\"white-space:pre;overflow-x:auto;line-height:normal;font-family:Menlo,'DejaVu Sans Mono',consolas,'Courier New',monospace\">┏━━━━━━━━━━━━━━━━━━━━━━━━━━━━━━━━━━━━━━┳━━━━━━━━━━━━━━━━━━━━━━━━━━━━━┳━━━━━━━━━━━━━━━━━┓\n",
              "┃<span style=\"font-weight: bold\"> Layer (type)                         </span>┃<span style=\"font-weight: bold\"> Output Shape                </span>┃<span style=\"font-weight: bold\">         Param # </span>┃\n",
              "┡━━━━━━━━━━━━━━━━━━━━━━━━━━━━━━━━━━━━━━╇━━━━━━━━━━━━━━━━━━━━━━━━━━━━━╇━━━━━━━━━━━━━━━━━┩\n",
              "│ Email_input (<span style=\"color: #0087ff; text-decoration-color: #0087ff\">InputLayer</span>)             │ (<span style=\"color: #00d7ff; text-decoration-color: #00d7ff\">None</span>, <span style=\"color: #00af00; text-decoration-color: #00af00\">120</span>)                 │               <span style=\"color: #00af00; text-decoration-color: #00af00\">0</span> │\n",
              "├──────────────────────────────────────┼─────────────────────────────┼─────────────────┤\n",
              "│ embedding_6 (<span style=\"color: #0087ff; text-decoration-color: #0087ff\">Embedding</span>)              │ (<span style=\"color: #00d7ff; text-decoration-color: #00d7ff\">None</span>, <span style=\"color: #00af00; text-decoration-color: #00af00\">120</span>, <span style=\"color: #00af00; text-decoration-color: #00af00\">300</span>)            │       <span style=\"color: #00af00; text-decoration-color: #00af00\">2,607,300</span> │\n",
              "├──────────────────────────────────────┼─────────────────────────────┼─────────────────┤\n",
              "│ bidirectional_5 (<span style=\"color: #0087ff; text-decoration-color: #0087ff\">Bidirectional</span>)      │ (<span style=\"color: #00d7ff; text-decoration-color: #00d7ff\">None</span>, <span style=\"color: #00af00; text-decoration-color: #00af00\">120</span>, <span style=\"color: #00af00; text-decoration-color: #00af00\">512</span>)            │       <span style=\"color: #00af00; text-decoration-color: #00af00\">1,140,736</span> │\n",
              "├──────────────────────────────────────┼─────────────────────────────┼─────────────────┤\n",
              "│ dropout_7 (<span style=\"color: #0087ff; text-decoration-color: #0087ff\">Dropout</span>)                  │ (<span style=\"color: #00d7ff; text-decoration-color: #00d7ff\">None</span>, <span style=\"color: #00af00; text-decoration-color: #00af00\">120</span>, <span style=\"color: #00af00; text-decoration-color: #00af00\">512</span>)            │               <span style=\"color: #00af00; text-decoration-color: #00af00\">0</span> │\n",
              "├──────────────────────────────────────┼─────────────────────────────┼─────────────────┤\n",
              "│ batch_normalization_7                │ (<span style=\"color: #00d7ff; text-decoration-color: #00d7ff\">None</span>, <span style=\"color: #00af00; text-decoration-color: #00af00\">120</span>, <span style=\"color: #00af00; text-decoration-color: #00af00\">512</span>)            │           <span style=\"color: #00af00; text-decoration-color: #00af00\">2,048</span> │\n",
              "│ (<span style=\"color: #0087ff; text-decoration-color: #0087ff\">BatchNormalization</span>)                 │                             │                 │\n",
              "├──────────────────────────────────────┼─────────────────────────────┼─────────────────┤\n",
              "│ conv1d_2 (<span style=\"color: #0087ff; text-decoration-color: #0087ff\">Conv1D</span>)                    │ (<span style=\"color: #00d7ff; text-decoration-color: #00d7ff\">None</span>, <span style=\"color: #00af00; text-decoration-color: #00af00\">120</span>, <span style=\"color: #00af00; text-decoration-color: #00af00\">64</span>)             │          <span style=\"color: #00af00; text-decoration-color: #00af00\">98,368</span> │\n",
              "├──────────────────────────────────────┼─────────────────────────────┼─────────────────┤\n",
              "│ max_pooling1d_2 (<span style=\"color: #0087ff; text-decoration-color: #0087ff\">MaxPooling1D</span>)       │ (<span style=\"color: #00d7ff; text-decoration-color: #00d7ff\">None</span>, <span style=\"color: #00af00; text-decoration-color: #00af00\">60</span>, <span style=\"color: #00af00; text-decoration-color: #00af00\">64</span>)              │               <span style=\"color: #00af00; text-decoration-color: #00af00\">0</span> │\n",
              "├──────────────────────────────────────┼─────────────────────────────┼─────────────────┤\n",
              "│ conv1d_3 (<span style=\"color: #0087ff; text-decoration-color: #0087ff\">Conv1D</span>)                    │ (<span style=\"color: #00d7ff; text-decoration-color: #00d7ff\">None</span>, <span style=\"color: #00af00; text-decoration-color: #00af00\">60</span>, <span style=\"color: #00af00; text-decoration-color: #00af00\">64</span>)              │          <span style=\"color: #00af00; text-decoration-color: #00af00\">12,352</span> │\n",
              "├──────────────────────────────────────┼─────────────────────────────┼─────────────────┤\n",
              "│ max_pooling1d_3 (<span style=\"color: #0087ff; text-decoration-color: #0087ff\">MaxPooling1D</span>)       │ (<span style=\"color: #00d7ff; text-decoration-color: #00d7ff\">None</span>, <span style=\"color: #00af00; text-decoration-color: #00af00\">30</span>, <span style=\"color: #00af00; text-decoration-color: #00af00\">64</span>)              │               <span style=\"color: #00af00; text-decoration-color: #00af00\">0</span> │\n",
              "├──────────────────────────────────────┼─────────────────────────────┼─────────────────┤\n",
              "│ global_max_pooling1d_1               │ (<span style=\"color: #00d7ff; text-decoration-color: #00d7ff\">None</span>, <span style=\"color: #00af00; text-decoration-color: #00af00\">64</span>)                  │               <span style=\"color: #00af00; text-decoration-color: #00af00\">0</span> │\n",
              "│ (<span style=\"color: #0087ff; text-decoration-color: #0087ff\">GlobalMaxPooling1D</span>)                 │                             │                 │\n",
              "├──────────────────────────────────────┼─────────────────────────────┼─────────────────┤\n",
              "│ dropout_8 (<span style=\"color: #0087ff; text-decoration-color: #0087ff\">Dropout</span>)                  │ (<span style=\"color: #00d7ff; text-decoration-color: #00d7ff\">None</span>, <span style=\"color: #00af00; text-decoration-color: #00af00\">64</span>)                  │               <span style=\"color: #00af00; text-decoration-color: #00af00\">0</span> │\n",
              "├──────────────────────────────────────┼─────────────────────────────┼─────────────────┤\n",
              "│ batch_normalization_8                │ (<span style=\"color: #00d7ff; text-decoration-color: #00d7ff\">None</span>, <span style=\"color: #00af00; text-decoration-color: #00af00\">64</span>)                  │             <span style=\"color: #00af00; text-decoration-color: #00af00\">256</span> │\n",
              "│ (<span style=\"color: #0087ff; text-decoration-color: #0087ff\">BatchNormalization</span>)                 │                             │                 │\n",
              "├──────────────────────────────────────┼─────────────────────────────┼─────────────────┤\n",
              "│ dense_6 (<span style=\"color: #0087ff; text-decoration-color: #0087ff\">Dense</span>)                      │ (<span style=\"color: #00d7ff; text-decoration-color: #00d7ff\">None</span>, <span style=\"color: #00af00; text-decoration-color: #00af00\">7</span>)                   │             <span style=\"color: #00af00; text-decoration-color: #00af00\">455</span> │\n",
              "└──────────────────────────────────────┴─────────────────────────────┴─────────────────┘\n",
              "</pre>\n"
            ]
          },
          "metadata": {}
        },
        {
          "output_type": "display_data",
          "data": {
            "text/plain": [
              "\u001b[1m Total params: \u001b[0m\u001b[38;5;34m3,861,515\u001b[0m (14.73 MB)\n"
            ],
            "text/html": [
              "<pre style=\"white-space:pre;overflow-x:auto;line-height:normal;font-family:Menlo,'DejaVu Sans Mono',consolas,'Courier New',monospace\"><span style=\"font-weight: bold\"> Total params: </span><span style=\"color: #00af00; text-decoration-color: #00af00\">3,861,515</span> (14.73 MB)\n",
              "</pre>\n"
            ]
          },
          "metadata": {}
        },
        {
          "output_type": "display_data",
          "data": {
            "text/plain": [
              "\u001b[1m Trainable params: \u001b[0m\u001b[38;5;34m3,860,363\u001b[0m (14.73 MB)\n"
            ],
            "text/html": [
              "<pre style=\"white-space:pre;overflow-x:auto;line-height:normal;font-family:Menlo,'DejaVu Sans Mono',consolas,'Courier New',monospace\"><span style=\"font-weight: bold\"> Trainable params: </span><span style=\"color: #00af00; text-decoration-color: #00af00\">3,860,363</span> (14.73 MB)\n",
              "</pre>\n"
            ]
          },
          "metadata": {}
        },
        {
          "output_type": "display_data",
          "data": {
            "text/plain": [
              "\u001b[1m Non-trainable params: \u001b[0m\u001b[38;5;34m1,152\u001b[0m (4.50 KB)\n"
            ],
            "text/html": [
              "<pre style=\"white-space:pre;overflow-x:auto;line-height:normal;font-family:Menlo,'DejaVu Sans Mono',consolas,'Courier New',monospace\"><span style=\"font-weight: bold\"> Non-trainable params: </span><span style=\"color: #00af00; text-decoration-color: #00af00\">1,152</span> (4.50 KB)\n",
              "</pre>\n"
            ]
          },
          "metadata": {}
        }
      ]
    },
    {
      "cell_type": "code",
      "source": [
        "stopper= EarlyStopping(patience=5, monitor='val_accuracy')\n",
        "checkpointer = ModelCheckpoint(filepath='model.weights.best.keras', verbose=3, save_best_only=True)\n",
        "\n",
        "history=bilstm_cnn_model.fit(\n",
        "         train_data, train_labels_reshaped,\n",
        "         batch_size=64,\n",
        "         epochs=15,\n",
        "         validation_data=(val_data, val_labels_reshaped),\n",
        "         callbacks=[stopper, checkpointer],\n",
        "         )"
      ],
      "metadata": {
        "id": "N3PHlZ15900s",
        "colab": {
          "base_uri": "https://localhost:8080/"
        },
        "outputId": "3200d505-84b7-483a-ddef-281d2aa8e8a1"
      },
      "execution_count": null,
      "outputs": [
        {
          "output_type": "stream",
          "name": "stdout",
          "text": [
            "Epoch 1/15\n",
            "\u001b[1m32/32\u001b[0m \u001b[32m━━━━━━━━━━━━━━━━━━━━\u001b[0m\u001b[37m\u001b[0m \u001b[1m0s\u001b[0m 41ms/step - accuracy: 0.1675 - loss: 2.6136\n",
            "Epoch 1: val_loss improved from inf to 1.91667, saving model to model.weights.best.keras\n",
            "\u001b[1m32/32\u001b[0m \u001b[32m━━━━━━━━━━━━━━━━━━━━\u001b[0m\u001b[37m\u001b[0m \u001b[1m12s\u001b[0m 78ms/step - accuracy: 0.1676 - loss: 2.6116 - val_accuracy: 0.1800 - val_loss: 1.9167\n",
            "Epoch 2/15\n",
            "\u001b[1m31/32\u001b[0m \u001b[32m━━━━━━━━━━━━━━━━━━━\u001b[0m\u001b[37m━\u001b[0m \u001b[1m0s\u001b[0m 40ms/step - accuracy: 0.2169 - loss: 2.3090\n",
            "Epoch 2: val_loss did not improve from 1.91667\n",
            "\u001b[1m32/32\u001b[0m \u001b[32m━━━━━━━━━━━━━━━━━━━━\u001b[0m\u001b[37m\u001b[0m \u001b[1m1s\u001b[0m 44ms/step - accuracy: 0.2178 - loss: 2.3056 - val_accuracy: 0.1800 - val_loss: 2.0258\n",
            "Epoch 3/15\n",
            "\u001b[1m31/32\u001b[0m \u001b[32m━━━━━━━━━━━━━━━━━━━\u001b[0m\u001b[37m━\u001b[0m \u001b[1m0s\u001b[0m 40ms/step - accuracy: 0.4057 - loss: 1.6494\n",
            "Epoch 3: val_loss did not improve from 1.91667\n",
            "\u001b[1m32/32\u001b[0m \u001b[32m━━━━━━━━━━━━━━━━━━━━\u001b[0m\u001b[37m\u001b[0m \u001b[1m3s\u001b[0m 44ms/step - accuracy: 0.4105 - loss: 1.6368 - val_accuracy: 0.1980 - val_loss: 2.0526\n",
            "Epoch 4/15\n",
            "\u001b[1m31/32\u001b[0m \u001b[32m━━━━━━━━━━━━━━━━━━━\u001b[0m\u001b[37m━\u001b[0m \u001b[1m0s\u001b[0m 41ms/step - accuracy: 0.6617 - loss: 0.8892\n",
            "Epoch 4: val_loss did not improve from 1.91667\n",
            "\u001b[1m32/32\u001b[0m \u001b[32m━━━━━━━━━━━━━━━━━━━━\u001b[0m\u001b[37m\u001b[0m \u001b[1m1s\u001b[0m 44ms/step - accuracy: 0.6635 - loss: 0.8852 - val_accuracy: 0.2640 - val_loss: 1.9742\n",
            "Epoch 5/15\n",
            "\u001b[1m31/32\u001b[0m \u001b[32m━━━━━━━━━━━━━━━━━━━\u001b[0m\u001b[37m━\u001b[0m \u001b[1m0s\u001b[0m 42ms/step - accuracy: 0.7793 - loss: 0.6092\n",
            "Epoch 5: val_loss did not improve from 1.91667\n",
            "\u001b[1m32/32\u001b[0m \u001b[32m━━━━━━━━━━━━━━━━━━━━\u001b[0m\u001b[37m\u001b[0m \u001b[1m3s\u001b[0m 48ms/step - accuracy: 0.7809 - loss: 0.6066 - val_accuracy: 0.2160 - val_loss: 2.0201\n",
            "Epoch 6/15\n",
            "\u001b[1m31/32\u001b[0m \u001b[32m━━━━━━━━━━━━━━━━━━━\u001b[0m\u001b[37m━\u001b[0m \u001b[1m0s\u001b[0m 40ms/step - accuracy: 0.9227 - loss: 0.3477\n",
            "Epoch 6: val_loss did not improve from 1.91667\n",
            "\u001b[1m32/32\u001b[0m \u001b[32m━━━━━━━━━━━━━━━━━━━━\u001b[0m\u001b[37m\u001b[0m \u001b[1m2s\u001b[0m 44ms/step - accuracy: 0.9237 - loss: 0.3453 - val_accuracy: 0.2900 - val_loss: 2.4792\n",
            "Epoch 7/15\n",
            "\u001b[1m31/32\u001b[0m \u001b[32m━━━━━━━━━━━━━━━━━━━\u001b[0m\u001b[37m━\u001b[0m \u001b[1m0s\u001b[0m 41ms/step - accuracy: 0.9845 - loss: 0.1595\n",
            "Epoch 7: val_loss did not improve from 1.91667\n",
            "\u001b[1m32/32\u001b[0m \u001b[32m━━━━━━━━━━━━━━━━━━━━\u001b[0m\u001b[37m\u001b[0m \u001b[1m1s\u001b[0m 45ms/step - accuracy: 0.9845 - loss: 0.1592 - val_accuracy: 0.4080 - val_loss: 1.9399\n",
            "Epoch 8/15\n",
            "\u001b[1m31/32\u001b[0m \u001b[32m━━━━━━━━━━━━━━━━━━━\u001b[0m\u001b[37m━\u001b[0m \u001b[1m0s\u001b[0m 41ms/step - accuracy: 0.9913 - loss: 0.0963\n",
            "Epoch 8: val_loss improved from 1.91667 to 1.66202, saving model to model.weights.best.keras\n",
            "\u001b[1m32/32\u001b[0m \u001b[32m━━━━━━━━━━━━━━━━━━━━\u001b[0m\u001b[37m\u001b[0m \u001b[1m3s\u001b[0m 54ms/step - accuracy: 0.9911 - loss: 0.0970 - val_accuracy: 0.5040 - val_loss: 1.6620\n",
            "Epoch 9/15\n",
            "\u001b[1m31/32\u001b[0m \u001b[32m━━━━━━━━━━━━━━━━━━━\u001b[0m\u001b[37m━\u001b[0m \u001b[1m0s\u001b[0m 41ms/step - accuracy: 0.9935 - loss: 0.0663\n",
            "Epoch 9: val_loss improved from 1.66202 to 1.46159, saving model to model.weights.best.keras\n",
            "\u001b[1m32/32\u001b[0m \u001b[32m━━━━━━━━━━━━━━━━━━━━\u001b[0m\u001b[37m\u001b[0m \u001b[1m2s\u001b[0m 53ms/step - accuracy: 0.9935 - loss: 0.0664 - val_accuracy: 0.6400 - val_loss: 1.4616\n",
            "Epoch 10/15\n",
            "\u001b[1m31/32\u001b[0m \u001b[32m━━━━━━━━━━━━━━━━━━━\u001b[0m\u001b[37m━\u001b[0m \u001b[1m0s\u001b[0m 41ms/step - accuracy: 0.9917 - loss: 0.0658\n",
            "Epoch 10: val_loss improved from 1.46159 to 1.29614, saving model to model.weights.best.keras\n",
            "\u001b[1m32/32\u001b[0m \u001b[32m━━━━━━━━━━━━━━━━━━━━\u001b[0m\u001b[37m\u001b[0m \u001b[1m2s\u001b[0m 53ms/step - accuracy: 0.9917 - loss: 0.0659 - val_accuracy: 0.6860 - val_loss: 1.2961\n",
            "Epoch 11/15\n",
            "\u001b[1m32/32\u001b[0m \u001b[32m━━━━━━━━━━━━━━━━━━━━\u001b[0m\u001b[37m\u001b[0m \u001b[1m0s\u001b[0m 43ms/step - accuracy: 0.9941 - loss: 0.0810\n",
            "Epoch 11: val_loss improved from 1.29614 to 1.25668, saving model to model.weights.best.keras\n",
            "\u001b[1m32/32\u001b[0m \u001b[32m━━━━━━━━━━━━━━━━━━━━\u001b[0m\u001b[37m\u001b[0m \u001b[1m3s\u001b[0m 60ms/step - accuracy: 0.9941 - loss: 0.0808 - val_accuracy: 0.6840 - val_loss: 1.2567\n",
            "Epoch 12/15\n",
            "\u001b[1m32/32\u001b[0m \u001b[32m━━━━━━━━━━━━━━━━━━━━\u001b[0m\u001b[37m\u001b[0m \u001b[1m0s\u001b[0m 42ms/step - accuracy: 0.9955 - loss: 0.0510\n",
            "Epoch 12: val_loss improved from 1.25668 to 1.21550, saving model to model.weights.best.keras\n",
            "\u001b[1m32/32\u001b[0m \u001b[32m━━━━━━━━━━━━━━━━━━━━\u001b[0m\u001b[37m\u001b[0m \u001b[1m2s\u001b[0m 55ms/step - accuracy: 0.9955 - loss: 0.0511 - val_accuracy: 0.6980 - val_loss: 1.2155\n",
            "Epoch 13/15\n",
            "\u001b[1m31/32\u001b[0m \u001b[32m━━━━━━━━━━━━━━━━━━━\u001b[0m\u001b[37m━\u001b[0m \u001b[1m0s\u001b[0m 41ms/step - accuracy: 0.9957 - loss: 0.0404\n",
            "Epoch 13: val_loss improved from 1.21550 to 1.05448, saving model to model.weights.best.keras\n",
            "\u001b[1m32/32\u001b[0m \u001b[32m━━━━━━━━━━━━━━━━━━━━\u001b[0m\u001b[37m\u001b[0m \u001b[1m2s\u001b[0m 53ms/step - accuracy: 0.9956 - loss: 0.0407 - val_accuracy: 0.7640 - val_loss: 1.0545\n",
            "Epoch 14/15\n",
            "\u001b[1m31/32\u001b[0m \u001b[32m━━━━━━━━━━━━━━━━━━━\u001b[0m\u001b[37m━\u001b[0m \u001b[1m0s\u001b[0m 41ms/step - accuracy: 0.9922 - loss: 0.0648\n",
            "Epoch 14: val_loss did not improve from 1.05448\n",
            "\u001b[1m32/32\u001b[0m \u001b[32m━━━━━━━━━━━━━━━━━━━━\u001b[0m\u001b[37m\u001b[0m \u001b[1m2s\u001b[0m 46ms/step - accuracy: 0.9922 - loss: 0.0645 - val_accuracy: 0.6780 - val_loss: 1.4883\n",
            "Epoch 15/15\n",
            "\u001b[1m31/32\u001b[0m \u001b[32m━━━━━━━━━━━━━━━━━━━\u001b[0m\u001b[37m━\u001b[0m \u001b[1m0s\u001b[0m 41ms/step - accuracy: 0.9964 - loss: 0.0436\n",
            "Epoch 15: val_loss improved from 1.05448 to 0.75276, saving model to model.weights.best.keras\n",
            "\u001b[1m32/32\u001b[0m \u001b[32m━━━━━━━━━━━━━━━━━━━━\u001b[0m\u001b[37m\u001b[0m \u001b[1m3s\u001b[0m 52ms/step - accuracy: 0.9964 - loss: 0.0436 - val_accuracy: 0.8360 - val_loss: 0.7528\n"
          ]
        }
      ]
    },
    {
      "cell_type": "code",
      "source": [
        "from sklearn.metrics import precision_score, recall_score, f1_score, accuracy_score\n",
        "\n",
        "# Get predictions (class indices for each sample)\n",
        "pred = bilstm_cnn_model.predict(test_data)\n",
        "y_pred = np.argmax(pred, axis=1)  # Get the class with the highest probability\n",
        "\n",
        "# Calculate metrics\n",
        "precision = precision_score(y_test, y_pred, average='micro')  # Micro-average precision\n",
        "recall = recall_score(y_test, y_pred, average='micro')        # Micro-average recall\n",
        "f1 = f1_score(y_test, y_pred, average='micro')                # Micro-average F1 score\n",
        "accuracy = accuracy_score(y_test, y_pred)                     # Accuracy\n",
        "\n",
        "# Print results\n",
        "print(\"Precision (Micro):\", precision)\n",
        "print(\"Recall (Micro):\", recall)\n",
        "print(\"F1 Score (Micro):\", f1)\n",
        "print(\"Accuracy:\", accuracy)\n"
      ],
      "metadata": {
        "id": "wAilTtFd94lG",
        "colab": {
          "base_uri": "https://localhost:8080/"
        },
        "outputId": "91c769c6-56d8-43d1-c230-d12ce07f0318"
      },
      "execution_count": null,
      "outputs": [
        {
          "output_type": "stream",
          "name": "stderr",
          "text": [
            "WARNING:tensorflow:5 out of the last 15 calls to <function TensorFlowTrainer.make_predict_function.<locals>.one_step_on_data_distributed at 0x7d6a204e0720> triggered tf.function retracing. Tracing is expensive and the excessive number of tracings could be due to (1) creating @tf.function repeatedly in a loop, (2) passing tensors with different shapes, (3) passing Python objects instead of tensors. For (1), please define your @tf.function outside of the loop. For (2), @tf.function has reduce_retracing=True option that can avoid unnecessary retracing. For (3), please refer to https://www.tensorflow.org/guide/function#controlling_retracing and https://www.tensorflow.org/api_docs/python/tf/function for  more details.\n"
          ]
        },
        {
          "output_type": "stream",
          "name": "stdout",
          "text": [
            "\u001b[1m7/7\u001b[0m \u001b[32m━━━━━━━━━━━━━━━━━━━━\u001b[0m\u001b[37m\u001b[0m \u001b[1m1s\u001b[0m 75ms/step\n",
            "Precision (Micro): 0.61\n",
            "Recall (Micro): 0.61\n",
            "F1 Score (Micro): 0.61\n",
            "Accuracy: 0.61\n"
          ]
        }
      ]
    },
    {
      "cell_type": "code",
      "source": [
        "embedding_layer = Embedding(\n",
        "    input_dim=vocab_size,\n",
        "    output_dim=300,\n",
        "    input_length=maxlen,\n",
        "    trainable=True  # Allow fine-tuning of embeddings\n",
        ")\n",
        "email_input = Input(shape=(maxlen,), name='Email_input')\n",
        "\n",
        "# Apply the embedding layer to the input\n",
        "embedded_email = embedding_layer(email_input)\n",
        "\n",
        "# Define and apply the Bidirectional LSTM layer\n",
        "lstm_layer = Bidirectional(GRU(units=128, return_sequences=True))(embedded_email)\n",
        "\n",
        "# Apply dropout after LSTM\n",
        "dropout1 = Dropout(0.25)(lstm_layer)\n",
        "\n",
        "# Apply batch normalization\n",
        "bn1 = BatchNormalization()(dropout1)\n",
        "\n",
        "# Add CNN layers after BiLSTM\n",
        "# First CNN block\n",
        "conv1 = Conv1D(filters=128, kernel_size=3, activation='relu', padding='same')(bn1)\n",
        "pool1 = MaxPooling1D(pool_size=2)(conv1)\n",
        "\n",
        "# Second CNN block\n",
        "conv2 = Conv1D(filters=64, kernel_size=3, activation='relu', padding='same')(pool1)\n",
        "pool2 = MaxPooling1D(pool_size=2)(conv2)\n",
        "\n",
        "# Apply global max pooling\n",
        "global_pool = GlobalMaxPooling1D()(pool2)\n",
        "\n",
        "# Add dropout for regularization\n",
        "dropout2 = Dropout(0.25)(global_pool)\n",
        "\n",
        "# Add batch normalization\n",
        "bn2 = BatchNormalization()(dropout2)\n",
        "\n",
        "# Add a dense layer for binary classification\n",
        "output = Dense(7, activation='softmax', kernel_regularizer=l2(0.001))(bn2)\n",
        "\n",
        "# Create the model\n",
        "bigru_cnn_model = Model(inputs=email_input, outputs=output)\n",
        "\n",
        "# Compile the model\n",
        "bigru_cnn_model.compile(\n",
        "    optimizer='adam',\n",
        "    loss='sparse_categorical_crossentropy',\n",
        "    metrics=['accuracy']\n",
        ")\n",
        "\n",
        "# Display the model summary\n",
        "bigru_cnn_model.summary()"
      ],
      "metadata": {
        "id": "cauNElUm98dE",
        "colab": {
          "base_uri": "https://localhost:8080/",
          "height": 634
        },
        "outputId": "7461aca5-b29e-4bd1-f1e9-b344bb32ae87"
      },
      "execution_count": null,
      "outputs": [
        {
          "output_type": "display_data",
          "data": {
            "text/plain": [
              "\u001b[1mModel: \"functional_7\"\u001b[0m\n"
            ],
            "text/html": [
              "<pre style=\"white-space:pre;overflow-x:auto;line-height:normal;font-family:Menlo,'DejaVu Sans Mono',consolas,'Courier New',monospace\"><span style=\"font-weight: bold\">Model: \"functional_7\"</span>\n",
              "</pre>\n"
            ]
          },
          "metadata": {}
        },
        {
          "output_type": "display_data",
          "data": {
            "text/plain": [
              "┏━━━━━━━━━━━━━━━━━━━━━━━━━━━━━━━━━━━━━━┳━━━━━━━━━━━━━━━━━━━━━━━━━━━━━┳━━━━━━━━━━━━━━━━━┓\n",
              "┃\u001b[1m \u001b[0m\u001b[1mLayer (type)                        \u001b[0m\u001b[1m \u001b[0m┃\u001b[1m \u001b[0m\u001b[1mOutput Shape               \u001b[0m\u001b[1m \u001b[0m┃\u001b[1m \u001b[0m\u001b[1m        Param #\u001b[0m\u001b[1m \u001b[0m┃\n",
              "┡━━━━━━━━━━━━━━━━━━━━━━━━━━━━━━━━━━━━━━╇━━━━━━━━━━━━━━━━━━━━━━━━━━━━━╇━━━━━━━━━━━━━━━━━┩\n",
              "│ Email_input (\u001b[38;5;33mInputLayer\u001b[0m)             │ (\u001b[38;5;45mNone\u001b[0m, \u001b[38;5;34m120\u001b[0m)                 │               \u001b[38;5;34m0\u001b[0m │\n",
              "├──────────────────────────────────────┼─────────────────────────────┼─────────────────┤\n",
              "│ embedding_7 (\u001b[38;5;33mEmbedding\u001b[0m)              │ (\u001b[38;5;45mNone\u001b[0m, \u001b[38;5;34m120\u001b[0m, \u001b[38;5;34m300\u001b[0m)            │       \u001b[38;5;34m2,607,300\u001b[0m │\n",
              "├──────────────────────────────────────┼─────────────────────────────┼─────────────────┤\n",
              "│ bidirectional_6 (\u001b[38;5;33mBidirectional\u001b[0m)      │ (\u001b[38;5;45mNone\u001b[0m, \u001b[38;5;34m120\u001b[0m, \u001b[38;5;34m256\u001b[0m)            │         \u001b[38;5;34m330,240\u001b[0m │\n",
              "├──────────────────────────────────────┼─────────────────────────────┼─────────────────┤\n",
              "│ dropout_9 (\u001b[38;5;33mDropout\u001b[0m)                  │ (\u001b[38;5;45mNone\u001b[0m, \u001b[38;5;34m120\u001b[0m, \u001b[38;5;34m256\u001b[0m)            │               \u001b[38;5;34m0\u001b[0m │\n",
              "├──────────────────────────────────────┼─────────────────────────────┼─────────────────┤\n",
              "│ batch_normalization_9                │ (\u001b[38;5;45mNone\u001b[0m, \u001b[38;5;34m120\u001b[0m, \u001b[38;5;34m256\u001b[0m)            │           \u001b[38;5;34m1,024\u001b[0m │\n",
              "│ (\u001b[38;5;33mBatchNormalization\u001b[0m)                 │                             │                 │\n",
              "├──────────────────────────────────────┼─────────────────────────────┼─────────────────┤\n",
              "│ conv1d_4 (\u001b[38;5;33mConv1D\u001b[0m)                    │ (\u001b[38;5;45mNone\u001b[0m, \u001b[38;5;34m120\u001b[0m, \u001b[38;5;34m128\u001b[0m)            │          \u001b[38;5;34m98,432\u001b[0m │\n",
              "├──────────────────────────────────────┼─────────────────────────────┼─────────────────┤\n",
              "│ max_pooling1d_4 (\u001b[38;5;33mMaxPooling1D\u001b[0m)       │ (\u001b[38;5;45mNone\u001b[0m, \u001b[38;5;34m60\u001b[0m, \u001b[38;5;34m128\u001b[0m)             │               \u001b[38;5;34m0\u001b[0m │\n",
              "├──────────────────────────────────────┼─────────────────────────────┼─────────────────┤\n",
              "│ conv1d_5 (\u001b[38;5;33mConv1D\u001b[0m)                    │ (\u001b[38;5;45mNone\u001b[0m, \u001b[38;5;34m60\u001b[0m, \u001b[38;5;34m64\u001b[0m)              │          \u001b[38;5;34m24,640\u001b[0m │\n",
              "├──────────────────────────────────────┼─────────────────────────────┼─────────────────┤\n",
              "│ max_pooling1d_5 (\u001b[38;5;33mMaxPooling1D\u001b[0m)       │ (\u001b[38;5;45mNone\u001b[0m, \u001b[38;5;34m30\u001b[0m, \u001b[38;5;34m64\u001b[0m)              │               \u001b[38;5;34m0\u001b[0m │\n",
              "├──────────────────────────────────────┼─────────────────────────────┼─────────────────┤\n",
              "│ global_max_pooling1d_2               │ (\u001b[38;5;45mNone\u001b[0m, \u001b[38;5;34m64\u001b[0m)                  │               \u001b[38;5;34m0\u001b[0m │\n",
              "│ (\u001b[38;5;33mGlobalMaxPooling1D\u001b[0m)                 │                             │                 │\n",
              "├──────────────────────────────────────┼─────────────────────────────┼─────────────────┤\n",
              "│ dropout_10 (\u001b[38;5;33mDropout\u001b[0m)                 │ (\u001b[38;5;45mNone\u001b[0m, \u001b[38;5;34m64\u001b[0m)                  │               \u001b[38;5;34m0\u001b[0m │\n",
              "├──────────────────────────────────────┼─────────────────────────────┼─────────────────┤\n",
              "│ batch_normalization_10               │ (\u001b[38;5;45mNone\u001b[0m, \u001b[38;5;34m64\u001b[0m)                  │             \u001b[38;5;34m256\u001b[0m │\n",
              "│ (\u001b[38;5;33mBatchNormalization\u001b[0m)                 │                             │                 │\n",
              "├──────────────────────────────────────┼─────────────────────────────┼─────────────────┤\n",
              "│ dense_7 (\u001b[38;5;33mDense\u001b[0m)                      │ (\u001b[38;5;45mNone\u001b[0m, \u001b[38;5;34m7\u001b[0m)                   │             \u001b[38;5;34m455\u001b[0m │\n",
              "└──────────────────────────────────────┴─────────────────────────────┴─────────────────┘\n"
            ],
            "text/html": [
              "<pre style=\"white-space:pre;overflow-x:auto;line-height:normal;font-family:Menlo,'DejaVu Sans Mono',consolas,'Courier New',monospace\">┏━━━━━━━━━━━━━━━━━━━━━━━━━━━━━━━━━━━━━━┳━━━━━━━━━━━━━━━━━━━━━━━━━━━━━┳━━━━━━━━━━━━━━━━━┓\n",
              "┃<span style=\"font-weight: bold\"> Layer (type)                         </span>┃<span style=\"font-weight: bold\"> Output Shape                </span>┃<span style=\"font-weight: bold\">         Param # </span>┃\n",
              "┡━━━━━━━━━━━━━━━━━━━━━━━━━━━━━━━━━━━━━━╇━━━━━━━━━━━━━━━━━━━━━━━━━━━━━╇━━━━━━━━━━━━━━━━━┩\n",
              "│ Email_input (<span style=\"color: #0087ff; text-decoration-color: #0087ff\">InputLayer</span>)             │ (<span style=\"color: #00d7ff; text-decoration-color: #00d7ff\">None</span>, <span style=\"color: #00af00; text-decoration-color: #00af00\">120</span>)                 │               <span style=\"color: #00af00; text-decoration-color: #00af00\">0</span> │\n",
              "├──────────────────────────────────────┼─────────────────────────────┼─────────────────┤\n",
              "│ embedding_7 (<span style=\"color: #0087ff; text-decoration-color: #0087ff\">Embedding</span>)              │ (<span style=\"color: #00d7ff; text-decoration-color: #00d7ff\">None</span>, <span style=\"color: #00af00; text-decoration-color: #00af00\">120</span>, <span style=\"color: #00af00; text-decoration-color: #00af00\">300</span>)            │       <span style=\"color: #00af00; text-decoration-color: #00af00\">2,607,300</span> │\n",
              "├──────────────────────────────────────┼─────────────────────────────┼─────────────────┤\n",
              "│ bidirectional_6 (<span style=\"color: #0087ff; text-decoration-color: #0087ff\">Bidirectional</span>)      │ (<span style=\"color: #00d7ff; text-decoration-color: #00d7ff\">None</span>, <span style=\"color: #00af00; text-decoration-color: #00af00\">120</span>, <span style=\"color: #00af00; text-decoration-color: #00af00\">256</span>)            │         <span style=\"color: #00af00; text-decoration-color: #00af00\">330,240</span> │\n",
              "├──────────────────────────────────────┼─────────────────────────────┼─────────────────┤\n",
              "│ dropout_9 (<span style=\"color: #0087ff; text-decoration-color: #0087ff\">Dropout</span>)                  │ (<span style=\"color: #00d7ff; text-decoration-color: #00d7ff\">None</span>, <span style=\"color: #00af00; text-decoration-color: #00af00\">120</span>, <span style=\"color: #00af00; text-decoration-color: #00af00\">256</span>)            │               <span style=\"color: #00af00; text-decoration-color: #00af00\">0</span> │\n",
              "├──────────────────────────────────────┼─────────────────────────────┼─────────────────┤\n",
              "│ batch_normalization_9                │ (<span style=\"color: #00d7ff; text-decoration-color: #00d7ff\">None</span>, <span style=\"color: #00af00; text-decoration-color: #00af00\">120</span>, <span style=\"color: #00af00; text-decoration-color: #00af00\">256</span>)            │           <span style=\"color: #00af00; text-decoration-color: #00af00\">1,024</span> │\n",
              "│ (<span style=\"color: #0087ff; text-decoration-color: #0087ff\">BatchNormalization</span>)                 │                             │                 │\n",
              "├──────────────────────────────────────┼─────────────────────────────┼─────────────────┤\n",
              "│ conv1d_4 (<span style=\"color: #0087ff; text-decoration-color: #0087ff\">Conv1D</span>)                    │ (<span style=\"color: #00d7ff; text-decoration-color: #00d7ff\">None</span>, <span style=\"color: #00af00; text-decoration-color: #00af00\">120</span>, <span style=\"color: #00af00; text-decoration-color: #00af00\">128</span>)            │          <span style=\"color: #00af00; text-decoration-color: #00af00\">98,432</span> │\n",
              "├──────────────────────────────────────┼─────────────────────────────┼─────────────────┤\n",
              "│ max_pooling1d_4 (<span style=\"color: #0087ff; text-decoration-color: #0087ff\">MaxPooling1D</span>)       │ (<span style=\"color: #00d7ff; text-decoration-color: #00d7ff\">None</span>, <span style=\"color: #00af00; text-decoration-color: #00af00\">60</span>, <span style=\"color: #00af00; text-decoration-color: #00af00\">128</span>)             │               <span style=\"color: #00af00; text-decoration-color: #00af00\">0</span> │\n",
              "├──────────────────────────────────────┼─────────────────────────────┼─────────────────┤\n",
              "│ conv1d_5 (<span style=\"color: #0087ff; text-decoration-color: #0087ff\">Conv1D</span>)                    │ (<span style=\"color: #00d7ff; text-decoration-color: #00d7ff\">None</span>, <span style=\"color: #00af00; text-decoration-color: #00af00\">60</span>, <span style=\"color: #00af00; text-decoration-color: #00af00\">64</span>)              │          <span style=\"color: #00af00; text-decoration-color: #00af00\">24,640</span> │\n",
              "├──────────────────────────────────────┼─────────────────────────────┼─────────────────┤\n",
              "│ max_pooling1d_5 (<span style=\"color: #0087ff; text-decoration-color: #0087ff\">MaxPooling1D</span>)       │ (<span style=\"color: #00d7ff; text-decoration-color: #00d7ff\">None</span>, <span style=\"color: #00af00; text-decoration-color: #00af00\">30</span>, <span style=\"color: #00af00; text-decoration-color: #00af00\">64</span>)              │               <span style=\"color: #00af00; text-decoration-color: #00af00\">0</span> │\n",
              "├──────────────────────────────────────┼─────────────────────────────┼─────────────────┤\n",
              "│ global_max_pooling1d_2               │ (<span style=\"color: #00d7ff; text-decoration-color: #00d7ff\">None</span>, <span style=\"color: #00af00; text-decoration-color: #00af00\">64</span>)                  │               <span style=\"color: #00af00; text-decoration-color: #00af00\">0</span> │\n",
              "│ (<span style=\"color: #0087ff; text-decoration-color: #0087ff\">GlobalMaxPooling1D</span>)                 │                             │                 │\n",
              "├──────────────────────────────────────┼─────────────────────────────┼─────────────────┤\n",
              "│ dropout_10 (<span style=\"color: #0087ff; text-decoration-color: #0087ff\">Dropout</span>)                 │ (<span style=\"color: #00d7ff; text-decoration-color: #00d7ff\">None</span>, <span style=\"color: #00af00; text-decoration-color: #00af00\">64</span>)                  │               <span style=\"color: #00af00; text-decoration-color: #00af00\">0</span> │\n",
              "├──────────────────────────────────────┼─────────────────────────────┼─────────────────┤\n",
              "│ batch_normalization_10               │ (<span style=\"color: #00d7ff; text-decoration-color: #00d7ff\">None</span>, <span style=\"color: #00af00; text-decoration-color: #00af00\">64</span>)                  │             <span style=\"color: #00af00; text-decoration-color: #00af00\">256</span> │\n",
              "│ (<span style=\"color: #0087ff; text-decoration-color: #0087ff\">BatchNormalization</span>)                 │                             │                 │\n",
              "├──────────────────────────────────────┼─────────────────────────────┼─────────────────┤\n",
              "│ dense_7 (<span style=\"color: #0087ff; text-decoration-color: #0087ff\">Dense</span>)                      │ (<span style=\"color: #00d7ff; text-decoration-color: #00d7ff\">None</span>, <span style=\"color: #00af00; text-decoration-color: #00af00\">7</span>)                   │             <span style=\"color: #00af00; text-decoration-color: #00af00\">455</span> │\n",
              "└──────────────────────────────────────┴─────────────────────────────┴─────────────────┘\n",
              "</pre>\n"
            ]
          },
          "metadata": {}
        },
        {
          "output_type": "display_data",
          "data": {
            "text/plain": [
              "\u001b[1m Total params: \u001b[0m\u001b[38;5;34m3,062,347\u001b[0m (11.68 MB)\n"
            ],
            "text/html": [
              "<pre style=\"white-space:pre;overflow-x:auto;line-height:normal;font-family:Menlo,'DejaVu Sans Mono',consolas,'Courier New',monospace\"><span style=\"font-weight: bold\"> Total params: </span><span style=\"color: #00af00; text-decoration-color: #00af00\">3,062,347</span> (11.68 MB)\n",
              "</pre>\n"
            ]
          },
          "metadata": {}
        },
        {
          "output_type": "display_data",
          "data": {
            "text/plain": [
              "\u001b[1m Trainable params: \u001b[0m\u001b[38;5;34m3,061,707\u001b[0m (11.68 MB)\n"
            ],
            "text/html": [
              "<pre style=\"white-space:pre;overflow-x:auto;line-height:normal;font-family:Menlo,'DejaVu Sans Mono',consolas,'Courier New',monospace\"><span style=\"font-weight: bold\"> Trainable params: </span><span style=\"color: #00af00; text-decoration-color: #00af00\">3,061,707</span> (11.68 MB)\n",
              "</pre>\n"
            ]
          },
          "metadata": {}
        },
        {
          "output_type": "display_data",
          "data": {
            "text/plain": [
              "\u001b[1m Non-trainable params: \u001b[0m\u001b[38;5;34m640\u001b[0m (2.50 KB)\n"
            ],
            "text/html": [
              "<pre style=\"white-space:pre;overflow-x:auto;line-height:normal;font-family:Menlo,'DejaVu Sans Mono',consolas,'Courier New',monospace\"><span style=\"font-weight: bold\"> Non-trainable params: </span><span style=\"color: #00af00; text-decoration-color: #00af00\">640</span> (2.50 KB)\n",
              "</pre>\n"
            ]
          },
          "metadata": {}
        }
      ]
    },
    {
      "cell_type": "code",
      "source": [
        "stopper= EarlyStopping(patience=5, monitor='val_accuracy')\n",
        "checkpointer = ModelCheckpoint(filepath='model.weights.best.keras', verbose=3, save_best_only=True)\n",
        "\n",
        "history=bigru_cnn_model.fit(\n",
        "         train_data, train_labels_reshaped,\n",
        "         batch_size=64,\n",
        "         epochs=15,\n",
        "         validation_data=(val_data, val_labels_reshaped),\n",
        "         callbacks=[stopper, checkpointer],\n",
        "         )"
      ],
      "metadata": {
        "id": "NeRZXDJ-BYR8",
        "colab": {
          "base_uri": "https://localhost:8080/"
        },
        "outputId": "d0e0cae8-5500-46db-944d-0e3d448436a4"
      },
      "execution_count": null,
      "outputs": [
        {
          "output_type": "stream",
          "name": "stdout",
          "text": [
            "Epoch 1/15\n",
            "\u001b[1m32/32\u001b[0m \u001b[32m━━━━━━━━━━━━━━━━━━━━\u001b[0m\u001b[37m\u001b[0m \u001b[1m0s\u001b[0m 49ms/step - accuracy: 0.1562 - loss: 2.4865\n",
            "Epoch 1: val_loss improved from inf to 2.27375, saving model to model.weights.best.keras\n",
            "\u001b[1m32/32\u001b[0m \u001b[32m━━━━━━━━━━━━━━━━━━━━\u001b[0m\u001b[37m\u001b[0m \u001b[1m11s\u001b[0m 119ms/step - accuracy: 0.1573 - loss: 2.4825 - val_accuracy: 0.1020 - val_loss: 2.2737\n",
            "Epoch 2/15\n",
            "\u001b[1m32/32\u001b[0m \u001b[32m━━━━━━━━━━━━━━━━━━━━\u001b[0m\u001b[37m\u001b[0m \u001b[1m0s\u001b[0m 26ms/step - accuracy: 0.4520 - loss: 1.5620\n",
            "Epoch 2: val_loss did not improve from 2.27375\n",
            "\u001b[1m32/32\u001b[0m \u001b[32m━━━━━━━━━━━━━━━━━━━━\u001b[0m\u001b[37m\u001b[0m \u001b[1m1s\u001b[0m 28ms/step - accuracy: 0.4548 - loss: 1.5552 - val_accuracy: 0.1020 - val_loss: 2.5654\n",
            "Epoch 3/15\n",
            "\u001b[1m31/32\u001b[0m \u001b[32m━━━━━━━━━━━━━━━━━━━\u001b[0m\u001b[37m━\u001b[0m \u001b[1m0s\u001b[0m 25ms/step - accuracy: 0.8695 - loss: 0.5427\n",
            "Epoch 3: val_loss did not improve from 2.27375\n",
            "\u001b[1m32/32\u001b[0m \u001b[32m━━━━━━━━━━━━━━━━━━━━\u001b[0m\u001b[37m\u001b[0m \u001b[1m1s\u001b[0m 28ms/step - accuracy: 0.8716 - loss: 0.5374 - val_accuracy: 0.1020 - val_loss: 2.5708\n",
            "Epoch 4/15\n",
            "\u001b[1m30/32\u001b[0m \u001b[32m━━━━━━━━━━━━━━━━━━\u001b[0m\u001b[37m━━\u001b[0m \u001b[1m0s\u001b[0m 25ms/step - accuracy: 0.9755 - loss: 0.2100\n",
            "Epoch 4: val_loss did not improve from 2.27375\n",
            "\u001b[1m32/32\u001b[0m \u001b[32m━━━━━━━━━━━━━━━━━━━━\u001b[0m\u001b[37m\u001b[0m \u001b[1m1s\u001b[0m 28ms/step - accuracy: 0.9763 - loss: 0.2073 - val_accuracy: 0.1020 - val_loss: 2.5786\n",
            "Epoch 5/15\n",
            "\u001b[1m32/32\u001b[0m \u001b[32m━━━━━━━━━━━━━━━━━━━━\u001b[0m\u001b[37m\u001b[0m \u001b[1m0s\u001b[0m 25ms/step - accuracy: 0.9964 - loss: 0.0940\n",
            "Epoch 5: val_loss did not improve from 2.27375\n",
            "\u001b[1m32/32\u001b[0m \u001b[32m━━━━━━━━━━━━━━━━━━━━\u001b[0m\u001b[37m\u001b[0m \u001b[1m1s\u001b[0m 28ms/step - accuracy: 0.9964 - loss: 0.0941 - val_accuracy: 0.1020 - val_loss: 2.5316\n",
            "Epoch 6/15\n",
            "\u001b[1m30/32\u001b[0m \u001b[32m━━━━━━━━━━━━━━━━━━\u001b[0m\u001b[37m━━\u001b[0m \u001b[1m0s\u001b[0m 26ms/step - accuracy: 0.9946 - loss: 0.0876\n",
            "Epoch 6: val_loss did not improve from 2.27375\n",
            "\u001b[1m32/32\u001b[0m \u001b[32m━━━━━━━━━━━━━━━━━━━━\u001b[0m\u001b[37m\u001b[0m \u001b[1m1s\u001b[0m 28ms/step - accuracy: 0.9946 - loss: 0.0876 - val_accuracy: 0.1020 - val_loss: 2.5048\n"
          ]
        }
      ]
    },
    {
      "cell_type": "code",
      "source": [
        "from sklearn.metrics import precision_score, recall_score, f1_score, accuracy_score\n",
        "\n",
        "# Get predictions (class indices for each sample)\n",
        "pred = bigru_cnn_model.predict(test_data)\n",
        "y_pred = np.argmax(pred, axis=1)  # Get the class with the highest probability\n",
        "\n",
        "# Calculate metrics\n",
        "precision = precision_score(y_test, y_pred, average='micro')  # Micro-average precision\n",
        "recall = recall_score(y_test, y_pred, average='micro')        # Micro-average recall\n",
        "f1 = f1_score(y_test, y_pred, average='micro')                # Micro-average F1 score\n",
        "accuracy = accuracy_score(y_test, y_pred)                     # Accuracy\n",
        "\n",
        "# Print results\n",
        "print(\"Precision (Micro):\", precision)\n",
        "print(\"Recall (Micro):\", recall)\n",
        "print(\"F1 Score (Micro):\", f1)\n",
        "print(\"Accuracy:\", accuracy)\n"
      ],
      "metadata": {
        "id": "rfiFar3nBdNG",
        "colab": {
          "base_uri": "https://localhost:8080/"
        },
        "outputId": "1f179b02-947a-44ba-8839-6cf77f2fc449"
      },
      "execution_count": null,
      "outputs": [
        {
          "output_type": "stream",
          "name": "stdout",
          "text": [
            "\u001b[1m7/7\u001b[0m \u001b[32m━━━━━━━━━━━━━━━━━━━━\u001b[0m\u001b[37m\u001b[0m \u001b[1m1s\u001b[0m 63ms/step\n",
            "Precision (Micro): 0.035\n",
            "Recall (Micro): 0.035\n",
            "F1 Score (Micro): 0.035\n",
            "Accuracy: 0.035\n"
          ]
        }
      ]
    },
    {
      "cell_type": "code",
      "source": [],
      "metadata": {
        "id": "2pc9HsgqBhaC"
      },
      "execution_count": null,
      "outputs": []
    }
  ]
}