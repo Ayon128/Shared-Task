{
 "cells": [
  {
   "cell_type": "code",
   "execution_count": 1,
   "metadata": {
    "colab": {
     "base_uri": "https://localhost:8080/"
    },
    "executionInfo": {
     "elapsed": 3176,
     "status": "ok",
     "timestamp": 1736395937557,
     "user": {
      "displayName": "Khan Computational Research Lab",
      "userId": "01811704184910857074"
     },
     "user_tz": -360
    },
    "id": "v_DevoRVdBV_",
    "outputId": "ffc709c4-751a-47d1-ef4f-fd8c3ea62000"
   },
   "outputs": [
    {
     "name": "stdout",
     "output_type": "stream",
     "text": [
      "Requirement already satisfied: emoji in c:\\users\\mdayo\\miniconda3\\envs\\myenv\\lib\\site-packages (1.7.0)\n"
     ]
    }
   ],
   "source": [
    "!pip install emoji"
   ]
  },
  {
   "cell_type": "markdown",
   "metadata": {
    "id": "FU9F47ieauaO"
   },
   "source": [
    "### Import Necessary Libraries"
   ]
  },
  {
   "cell_type": "code",
   "execution_count": 2,
   "metadata": {
    "executionInfo": {
     "elapsed": 545,
     "status": "ok",
     "timestamp": 1736396094991,
     "user": {
      "displayName": "Khan Computational Research Lab",
      "userId": "01811704184910857074"
     },
     "user_tz": -360
    },
    "id": "7Z8faoZ0atjH"
   },
   "outputs": [],
   "source": [
    "import numpy as np\n",
    "import pandas as pd\n",
    "\n",
    "import matplotlib.pyplot as plt\n",
    "import seaborn as sns"
   ]
  },
  {
   "cell_type": "code",
   "execution_count": 3,
   "metadata": {
    "executionInfo": {
     "elapsed": 16,
     "status": "ok",
     "timestamp": 1736396095608,
     "user": {
      "displayName": "Khan Computational Research Lab",
      "userId": "01811704184910857074"
     },
     "user_tz": -360
    },
    "id": "MmTp337_a4zV"
   },
   "outputs": [],
   "source": [
    "train_df = pd.read_csv('../Dataset/fake_news_classification_mal_train.csv')\n",
    "test_df = pd.read_excel(\"../Dataset/fake_test.xlsx\")"
   ]
  },
  {
   "cell_type": "code",
   "execution_count": 4,
   "metadata": {
    "colab": {
     "base_uri": "https://localhost:8080/",
     "height": 258
    },
    "executionInfo": {
     "elapsed": 15,
     "status": "ok",
     "timestamp": 1736396095608,
     "user": {
      "displayName": "Khan Computational Research Lab",
      "userId": "01811704184910857074"
     },
     "user_tz": -360
    },
    "id": "tcfV3bu7bHE6",
    "outputId": "dca69d4d-116e-4602-f24c-ec01e55ec6d7"
   },
   "outputs": [
    {
     "data": {
      "text/html": [
       "<div>\n",
       "<style scoped>\n",
       "    .dataframe tbody tr th:only-of-type {\n",
       "        vertical-align: middle;\n",
       "    }\n",
       "\n",
       "    .dataframe tbody tr th {\n",
       "        vertical-align: top;\n",
       "    }\n",
       "\n",
       "    .dataframe thead th {\n",
       "        text-align: right;\n",
       "    }\n",
       "</style>\n",
       "<table border=\"1\" class=\"dataframe\">\n",
       "  <thead>\n",
       "    <tr style=\"text-align: right;\">\n",
       "      <th></th>\n",
       "      <th>ID</th>\n",
       "      <th>News</th>\n",
       "      <th>Label</th>\n",
       "    </tr>\n",
       "  </thead>\n",
       "  <tbody>\n",
       "    <tr>\n",
       "      <th>719</th>\n",
       "      <td>FAKE_MAL_TR_0720</td>\n",
       "      <td>ക്രിക്കറ്റ് താരം ഡേവിഡ് മില്ലറുടെ മകള്‍ കാന്‍സര്‍ ബാധിച്ചു മരിച്ചു</td>\n",
       "      <td>FALSE</td>\n",
       "    </tr>\n",
       "    <tr>\n",
       "      <th>184</th>\n",
       "      <td>FAKE_MAL_TR_0185</td>\n",
       "      <td>ഇക്കഴിഞ്ഞ ദിവസം വയനാട് സന്ദര്‍ശിക്കാനെത്തിയ രാഹുല്‍ ഗാന്ധിയുടെ ചിത്രം.</td>\n",
       "      <td>MOSTLY FALSE</td>\n",
       "    </tr>\n",
       "    <tr>\n",
       "      <th>75</th>\n",
       "      <td>FAKE_MAL_TR_0076</td>\n",
       "      <td>409 വര്‍ഷം പഴക്കമുള്ള ശബരിമല ക്ഷേത്രത്തിന്റെ ചിത്രം. ഈ ചിത്രമെടുത്ത ശേഷമാണ് ബ്രിട്ടീഷ് ഈസ്റ്റ് ഇന്ത്യാ കമ്പനി അവരുടെ നാണയത്തില്‍ അയ്യപ്പന്റെ ചിത്രം ഉള്‍പ്പെടുത്തിയത്.</td>\n",
       "      <td>FALSE</td>\n",
       "    </tr>\n",
       "    <tr>\n",
       "      <th>609</th>\n",
       "      <td>FAKE_MAL_TR_0610</td>\n",
       "      <td>പാക് പേസര്‍ മുഹമ്മദ് ഇര്‍ഫാന്‍ കാര്‍ അപകടത്തില്‍ മരിച്ചതായി വ്യാജ പ്രചാരണം</td>\n",
       "      <td>FALSE</td>\n",
       "    </tr>\n",
       "    <tr>\n",
       "      <th>738</th>\n",
       "      <td>FAKE_MAL_TR_0739</td>\n",
       "      <td>തൃക്കാക്കരയിലെ വ്യാജ വീഡിയോ വിവാദത്തില്‍ പിടിയിലായത് സിപിഎം പ്രവര്‍ത്തകന്‍</td>\n",
       "      <td>FALSE</td>\n",
       "    </tr>\n",
       "  </tbody>\n",
       "</table>\n",
       "</div>"
      ],
      "text/plain": [
       "                   ID  \\\n",
       "719  FAKE_MAL_TR_0720   \n",
       "184  FAKE_MAL_TR_0185   \n",
       "75   FAKE_MAL_TR_0076   \n",
       "609  FAKE_MAL_TR_0610   \n",
       "738  FAKE_MAL_TR_0739   \n",
       "\n",
       "                                                                                                                                                                       News  \\\n",
       "719  ക്രിക്കറ്റ് താരം ഡേവിഡ് മില്ലറുടെ മകള്‍ കാന്‍സര്‍ ബാധിച്ചു മരിച്ചു                                                                                                       \n",
       "184  ഇക്കഴിഞ്ഞ ദിവസം വയനാട് സന്ദര്‍ശിക്കാനെത്തിയ രാഹുല്‍ ഗാന്ധിയുടെ ചിത്രം.                                                                                                   \n",
       "75   409 വര്‍ഷം പഴക്കമുള്ള ശബരിമല ക്ഷേത്രത്തിന്റെ ചിത്രം. ഈ ചിത്രമെടുത്ത ശേഷമാണ് ബ്രിട്ടീഷ് ഈസ്റ്റ് ഇന്ത്യാ കമ്പനി അവരുടെ നാണയത്തില്‍ അയ്യപ്പന്റെ ചിത്രം ഉള്‍പ്പെടുത്തിയത്.   \n",
       "609  പാക് പേസര്‍ മുഹമ്മദ് ഇര്‍ഫാന്‍ കാര്‍ അപകടത്തില്‍ മരിച്ചതായി വ്യാജ പ്രചാരണം                                                                                               \n",
       "738  തൃക്കാക്കരയിലെ വ്യാജ വീഡിയോ വിവാദത്തില്‍ പിടിയിലായത് സിപിഎം പ്രവര്‍ത്തകന്‍                                                                                               \n",
       "\n",
       "            Label  \n",
       "719  FALSE         \n",
       "184  MOSTLY FALSE  \n",
       "75   FALSE         \n",
       "609  FALSE         \n",
       "738  FALSE         "
      ]
     },
     "metadata": {},
     "output_type": "display_data"
    }
   ],
   "source": [
    "with pd.option_context('display.max_colwidth', 0):\n",
    "    display(train_df.sample(n=5))"
   ]
  },
  {
   "cell_type": "code",
   "execution_count": 5,
   "metadata": {
    "colab": {
     "base_uri": "https://localhost:8080/",
     "height": 223
    },
    "executionInfo": {
     "elapsed": 14,
     "status": "ok",
     "timestamp": 1736396095608,
     "user": {
      "displayName": "Khan Computational Research Lab",
      "userId": "01811704184910857074"
     },
     "user_tz": -360
    },
    "id": "8xbWaF1zbKSh",
    "outputId": "241f9339-b09b-4379-f697-3030726244e1"
   },
   "outputs": [
    {
     "data": {
      "text/html": [
       "<div>\n",
       "<style scoped>\n",
       "    .dataframe tbody tr th:only-of-type {\n",
       "        vertical-align: middle;\n",
       "    }\n",
       "\n",
       "    .dataframe tbody tr th {\n",
       "        vertical-align: top;\n",
       "    }\n",
       "\n",
       "    .dataframe thead th {\n",
       "        text-align: right;\n",
       "    }\n",
       "</style>\n",
       "<table border=\"1\" class=\"dataframe\">\n",
       "  <thead>\n",
       "    <tr style=\"text-align: right;\">\n",
       "      <th></th>\n",
       "      <th>S.no</th>\n",
       "      <th>News</th>\n",
       "      <th>Label</th>\n",
       "    </tr>\n",
       "  </thead>\n",
       "  <tbody>\n",
       "    <tr>\n",
       "      <th>36</th>\n",
       "      <td>FAKE_MAL_TE_0037</td>\n",
       "      <td>പ്രധാനമന്ത്രി നരേന്ദ്ര മോദി കസേരയില്‍ ഇരിക്കുമ്പോള്‍ രാഷ്‌ട്രപതി രാമനാഥ് കോവിന്ദിനെ തന്‍റെ പിന്നില്‍ തൃശൂലം പിടിച്ച് നിറുത്തി</td>\n",
       "      <td>False</td>\n",
       "    </tr>\n",
       "    <tr>\n",
       "      <th>154</th>\n",
       "      <td>FAKE_MAL_TE_0155</td>\n",
       "      <td>വിഴിഞ്ഞത്തേക്കാൾ വലിയ തുറമുഖം തൃശ്ശൂരിൽ യാഥാർത്ഥ്യമാക്കുമെന്ന് സുരേഷ് ഗോപി</td>\n",
       "      <td>MOSTLY FALSE</td>\n",
       "    </tr>\n",
       "    <tr>\n",
       "      <th>161</th>\n",
       "      <td>FAKE_MAL_TE_0162</td>\n",
       "      <td>സൗജന്യ ഭക്ഷ്യകിറ്റ് സർക്കാരിന് ബാധ്യത, അടുത്ത സർക്കാരിന് ഇത് തുടരാനാകില്ല എന്ന് എൽ.ഡി.എഫ്‌ കൺവീനർ എ. വിജയരാഘവൻ പറഞ്ഞതായി ഏഷ്യാനെറ്റ്‌ ന്യൂസ്‌ റിപ്പോർട്ട്‌.</td>\n",
       "      <td>MOSTLY FALSE</td>\n",
       "    </tr>\n",
       "    <tr>\n",
       "      <th>172</th>\n",
       "      <td>FAKE_MAL_TE_0173</td>\n",
       "      <td>കേരള സര്‍ക്കാര്‍ പന്നിവളര്‍ത്തല്‍ നിരോധിച്ചു.</td>\n",
       "      <td>MOSTLY FALSE</td>\n",
       "    </tr>\n",
       "    <tr>\n",
       "      <th>78</th>\n",
       "      <td>FAKE_MAL_TE_0079</td>\n",
       "      <td>ചൈന മനുഷ്യന്‍റെ അതെ ഗുണഗണങ്ങളോടുകൂടിയ കൃത്രിമ സ്ത്രീയെ നിര്‍മ്മിച്ചു</td>\n",
       "      <td>False</td>\n",
       "    </tr>\n",
       "  </tbody>\n",
       "</table>\n",
       "</div>"
      ],
      "text/plain": [
       "                 S.no  \\\n",
       "36   FAKE_MAL_TE_0037   \n",
       "154  FAKE_MAL_TE_0155   \n",
       "161  FAKE_MAL_TE_0162   \n",
       "172  FAKE_MAL_TE_0173   \n",
       "78   FAKE_MAL_TE_0079   \n",
       "\n",
       "                                                                                                                                                            News  \\\n",
       "36   പ്രധാനമന്ത്രി നരേന്ദ്ര മോദി കസേരയില്‍ ഇരിക്കുമ്പോള്‍ രാഷ്‌ട്രപതി രാമനാഥ് കോവിന്ദിനെ തന്‍റെ പിന്നില്‍ തൃശൂലം പിടിച്ച് നിറുത്തി                                 \n",
       "154  വിഴിഞ്ഞത്തേക്കാൾ വലിയ തുറമുഖം തൃശ്ശൂരിൽ യാഥാർത്ഥ്യമാക്കുമെന്ന് സുരേഷ് ഗോപി                                                                                    \n",
       "161  സൗജന്യ ഭക്ഷ്യകിറ്റ് സർക്കാരിന് ബാധ്യത, അടുത്ത സർക്കാരിന് ഇത് തുടരാനാകില്ല എന്ന് എൽ.ഡി.എഫ്‌ കൺവീനർ എ. വിജയരാഘവൻ പറഞ്ഞതായി ഏഷ്യാനെറ്റ്‌ ന്യൂസ്‌ റിപ്പോർട്ട്‌.   \n",
       "172  കേരള സര്‍ക്കാര്‍ പന്നിവളര്‍ത്തല്‍ നിരോധിച്ചു.                                                                                                                 \n",
       "78   ചൈന മനുഷ്യന്‍റെ അതെ ഗുണഗണങ്ങളോടുകൂടിയ കൃത്രിമ സ്ത്രീയെ നിര്‍മ്മിച്ചു                                                                                          \n",
       "\n",
       "            Label  \n",
       "36   False         \n",
       "154  MOSTLY FALSE  \n",
       "161  MOSTLY FALSE  \n",
       "172  MOSTLY FALSE  \n",
       "78   False         "
      ]
     },
     "metadata": {},
     "output_type": "display_data"
    }
   ],
   "source": [
    "with pd.option_context('display.max_colwidth', 0):\n",
    "    display(test_df.sample(n=5))"
   ]
  },
  {
   "cell_type": "code",
   "execution_count": 6,
   "metadata": {
    "colab": {
     "base_uri": "https://localhost:8080/",
     "height": 272
    },
    "executionInfo": {
     "elapsed": 13,
     "status": "ok",
     "timestamp": 1736396095608,
     "user": {
      "displayName": "Khan Computational Research Lab",
      "userId": "01811704184910857074"
     },
     "user_tz": -360
    },
    "id": "wMAFcM3ZbNs-",
    "outputId": "047da755-28bf-4b4c-9ee2-dd81906412d3"
   },
   "outputs": [
    {
     "data": {
      "text/plain": [
       "Label\n",
       "FALSE           1220\n",
       "FALSE            166\n",
       "HALF TRUE        162\n",
       "MOSTLY FALSE     295\n",
       "PARTLY FALSE      57\n",
       "dtype: int64"
      ]
     },
     "execution_count": 6,
     "metadata": {},
     "output_type": "execute_result"
    }
   ],
   "source": [
    "train_df.groupby(\"Label\").size()"
   ]
  },
  {
   "cell_type": "code",
   "execution_count": 43,
   "metadata": {},
   "outputs": [
    {
     "data": {
      "text/plain": [
       "Label\n",
       "False           100\n",
       "HALF TRUE        37\n",
       "MOSTLY FALSE     56\n",
       "PARTLY FALSE      7\n",
       "dtype: int64"
      ]
     },
     "execution_count": 43,
     "metadata": {},
     "output_type": "execute_result"
    }
   ],
   "source": [
    "test_df.groupby(\"Label\").size()"
   ]
  },
  {
   "cell_type": "code",
   "execution_count": 44,
   "metadata": {},
   "outputs": [
    {
     "data": {
      "text/plain": [
       "((1900, 3), (200, 3))"
      ]
     },
     "execution_count": 44,
     "metadata": {},
     "output_type": "execute_result"
    }
   ],
   "source": [
    "train_df.shape , test_df.shape"
   ]
  },
  {
   "cell_type": "code",
   "execution_count": 7,
   "metadata": {
    "colab": {
     "base_uri": "https://localhost:8080/"
    },
    "executionInfo": {
     "elapsed": 13,
     "status": "ok",
     "timestamp": 1736396096157,
     "user": {
      "displayName": "Khan Computational Research Lab",
      "userId": "01811704184910857074"
     },
     "user_tz": -360
    },
    "id": "dCba-yQh8zOg",
    "outputId": "8bf69637-2570-4932-9c72-b2e9b9364b79"
   },
   "outputs": [
    {
     "data": {
      "text/plain": [
       "array(['FALSE     ', 'HALF TRUE', 'FALSE', 'MOSTLY FALSE', 'PARTLY FALSE'],\n",
       "      dtype=object)"
      ]
     },
     "execution_count": 7,
     "metadata": {},
     "output_type": "execute_result"
    }
   ],
   "source": [
    "train_df['Label'].unique()"
   ]
  },
  {
   "cell_type": "code",
   "execution_count": 8,
   "metadata": {
    "colab": {
     "base_uri": "https://localhost:8080/"
    },
    "executionInfo": {
     "elapsed": 12,
     "status": "ok",
     "timestamp": 1736396096157,
     "user": {
      "displayName": "Khan Computational Research Lab",
      "userId": "01811704184910857074"
     },
     "user_tz": -360
    },
    "id": "uat49pwM8AGq",
    "outputId": "6705932b-a826-4d7a-dc91-516cc068f1f5"
   },
   "outputs": [
    {
     "data": {
      "text/plain": [
       "array(['FALSE     ', 'HALF TRUE', 'FALSE', 'MOSTLY FALSE', 'PARTLY FALSE'],\n",
       "      dtype=object)"
      ]
     },
     "execution_count": 8,
     "metadata": {},
     "output_type": "execute_result"
    }
   ],
   "source": [
    "train_df['Label'].unique()"
   ]
  },
  {
   "cell_type": "code",
   "execution_count": 9,
   "metadata": {
    "executionInfo": {
     "elapsed": 9,
     "status": "ok",
     "timestamp": 1736396096158,
     "user": {
      "displayName": "Khan Computational Research Lab",
      "userId": "01811704184910857074"
     },
     "user_tz": -360
    },
    "id": "VcAdF0ux8JHu"
   },
   "outputs": [],
   "source": [
    "train_df.loc[train_df['Label'] == 'FALSE     ', 'Label'] = 'FALSE'"
   ]
  },
  {
   "cell_type": "code",
   "execution_count": 10,
   "metadata": {
    "colab": {
     "base_uri": "https://localhost:8080/"
    },
    "executionInfo": {
     "elapsed": 7,
     "status": "ok",
     "timestamp": 1736396096158,
     "user": {
      "displayName": "Khan Computational Research Lab",
      "userId": "01811704184910857074"
     },
     "user_tz": -360
    },
    "id": "BM3omXJD8Wf0",
    "outputId": "1655c266-2dfe-4a2e-84d1-25581f441358"
   },
   "outputs": [
    {
     "data": {
      "text/plain": [
       "array(['FALSE', 'HALF TRUE', 'MOSTLY FALSE', 'PARTLY FALSE'], dtype=object)"
      ]
     },
     "execution_count": 10,
     "metadata": {},
     "output_type": "execute_result"
    }
   ],
   "source": [
    "train_df['Label'].unique()"
   ]
  },
  {
   "cell_type": "code",
   "execution_count": 11,
   "metadata": {
    "colab": {
     "base_uri": "https://localhost:8080/",
     "height": 241
    },
    "executionInfo": {
     "elapsed": 15,
     "status": "ok",
     "timestamp": 1736396096722,
     "user": {
      "displayName": "Khan Computational Research Lab",
      "userId": "01811704184910857074"
     },
     "user_tz": -360
    },
    "id": "FfhnNpSR8Q5E",
    "outputId": "082c2571-0081-4b76-f1ee-8617dfd884cd"
   },
   "outputs": [
    {
     "data": {
      "text/plain": [
       "Label\n",
       "FALSE           1386\n",
       "HALF TRUE        162\n",
       "MOSTLY FALSE     295\n",
       "PARTLY FALSE      57\n",
       "dtype: int64"
      ]
     },
     "execution_count": 11,
     "metadata": {},
     "output_type": "execute_result"
    }
   ],
   "source": [
    "train_df.groupby(\"Label\").size()"
   ]
  },
  {
   "cell_type": "code",
   "execution_count": 12,
   "metadata": {
    "colab": {
     "base_uri": "https://localhost:8080/"
    },
    "executionInfo": {
     "elapsed": 14,
     "status": "ok",
     "timestamp": 1736396096722,
     "user": {
      "displayName": "Khan Computational Research Lab",
      "userId": "01811704184910857074"
     },
     "user_tz": -360
    },
    "id": "KkSib8Q8bXkS",
    "outputId": "a41c684d-e3a3-42ca-b425-360de40d4d76"
   },
   "outputs": [
    {
     "name": "stdout",
     "output_type": "stream",
     "text": [
      "<class 'pandas.core.frame.DataFrame'>\n",
      "RangeIndex: 1900 entries, 0 to 1899\n",
      "Data columns (total 3 columns):\n",
      " #   Column  Non-Null Count  Dtype \n",
      "---  ------  --------------  ----- \n",
      " 0   ID      1900 non-null   object\n",
      " 1   News    1900 non-null   object\n",
      " 2   Label   1900 non-null   object\n",
      "dtypes: object(3)\n",
      "memory usage: 44.7+ KB\n"
     ]
    }
   ],
   "source": [
    "train_df.info()"
   ]
  },
  {
   "cell_type": "code",
   "execution_count": 13,
   "metadata": {
    "colab": {
     "base_uri": "https://localhost:8080/"
    },
    "executionInfo": {
     "elapsed": 11,
     "status": "ok",
     "timestamp": 1736396096722,
     "user": {
      "displayName": "Khan Computational Research Lab",
      "userId": "01811704184910857074"
     },
     "user_tz": -360
    },
    "id": "AAUKUT0rbePN",
    "outputId": "7d405e13-c908-4b24-9af5-13753950380b"
   },
   "outputs": [
    {
     "name": "stdout",
     "output_type": "stream",
     "text": [
      "<class 'pandas.core.frame.DataFrame'>\n",
      "RangeIndex: 200 entries, 0 to 199\n",
      "Data columns (total 3 columns):\n",
      " #   Column  Non-Null Count  Dtype \n",
      "---  ------  --------------  ----- \n",
      " 0   S.no    200 non-null    object\n",
      " 1   News    200 non-null    object\n",
      " 2   Label   200 non-null    object\n",
      "dtypes: object(3)\n",
      "memory usage: 4.8+ KB\n"
     ]
    }
   ],
   "source": [
    "test_df.info()"
   ]
  },
  {
   "cell_type": "code",
   "execution_count": 14,
   "metadata": {
    "executionInfo": {
     "elapsed": 7,
     "status": "ok",
     "timestamp": 1736396096722,
     "user": {
      "displayName": "Khan Computational Research Lab",
      "userId": "01811704184910857074"
     },
     "user_tz": -360
    },
    "id": "WtyPmK6Cbfgm"
   },
   "outputs": [],
   "source": [
    "import re\n",
    "def preprocessing(df):\n",
    "    url_pattern = r'https?://\\S+|www\\.\\S+'\n",
    "\n",
    "    def count_urls(text):\n",
    "        return len(re.findall(url_pattern, text))\n",
    "\n",
    "    df['hashtag_count'] = df['News'].apply(lambda x: x.count('#'))\n",
    "    df['mentions_count'] = df['News'].apply(lambda x: x.count('@'))\n",
    "    df['url_count'] = df['News'].apply(count_urls)\n",
    "    return df\n",
    "\n",
    "df = preprocessing(train_df)\n",
    "test_df = preprocessing(test_df)"
   ]
  },
  {
   "cell_type": "code",
   "execution_count": 15,
   "metadata": {
    "colab": {
     "base_uri": "https://localhost:8080/",
     "height": 536
    },
    "executionInfo": {
     "elapsed": 18,
     "status": "ok",
     "timestamp": 1736396097239,
     "user": {
      "displayName": "Khan Computational Research Lab",
      "userId": "01811704184910857074"
     },
     "user_tz": -360
    },
    "id": "sD3qABGnccLX",
    "outputId": "04534b64-2eef-42ae-c322-2033f339709f"
   },
   "outputs": [
    {
     "data": {
      "text/html": [
       "<div>\n",
       "<style scoped>\n",
       "    .dataframe tbody tr th:only-of-type {\n",
       "        vertical-align: middle;\n",
       "    }\n",
       "\n",
       "    .dataframe tbody tr th {\n",
       "        vertical-align: top;\n",
       "    }\n",
       "\n",
       "    .dataframe thead th {\n",
       "        text-align: right;\n",
       "    }\n",
       "</style>\n",
       "<table border=\"1\" class=\"dataframe\">\n",
       "  <thead>\n",
       "    <tr style=\"text-align: right;\">\n",
       "      <th></th>\n",
       "      <th>ID</th>\n",
       "      <th>News</th>\n",
       "      <th>Label</th>\n",
       "      <th>hashtag_count</th>\n",
       "      <th>mentions_count</th>\n",
       "      <th>url_count</th>\n",
       "    </tr>\n",
       "  </thead>\n",
       "  <tbody>\n",
       "    <tr>\n",
       "      <th>1516</th>\n",
       "      <td>FAKE_MAL_TR_1517</td>\n",
       "      <td>ആപ്പിൾ മൈ ഫോട്ടോ സ്ട്രീം അവസാനിപ്പിക്കുമ്പോൾ ഐ...</td>\n",
       "      <td>FALSE</td>\n",
       "      <td>0</td>\n",
       "      <td>0</td>\n",
       "      <td>0</td>\n",
       "    </tr>\n",
       "    <tr>\n",
       "      <th>349</th>\n",
       "      <td>FAKE_MAL_TR_0350</td>\n",
       "      <td>കര്‍ണാടകയിലെ ഇന്ദിരാ ക്യാന്റീന്‍ മുന്‍ ബിജെപി ...</td>\n",
       "      <td>HALF TRUE</td>\n",
       "      <td>0</td>\n",
       "      <td>0</td>\n",
       "      <td>0</td>\n",
       "    </tr>\n",
       "    <tr>\n",
       "      <th>512</th>\n",
       "      <td>FAKE_MAL_TR_0513</td>\n",
       "      <td>മെക്‌സിക്കോ കൊവിഡ് രോഗികളുടെ മൃതദേഹങ്ങള്‍ കടല...</td>\n",
       "      <td>FALSE</td>\n",
       "      <td>0</td>\n",
       "      <td>0</td>\n",
       "      <td>0</td>\n",
       "    </tr>\n",
       "    <tr>\n",
       "      <th>1370</th>\n",
       "      <td>FAKE_MAL_TR_1371</td>\n",
       "      <td>ഈ കറുത്ത വര് ഗക്കാരെയെല്ലാം നീല സംസ്ഥാനങ്ങളില്...</td>\n",
       "      <td>FALSE</td>\n",
       "      <td>0</td>\n",
       "      <td>0</td>\n",
       "      <td>0</td>\n",
       "    </tr>\n",
       "    <tr>\n",
       "      <th>214</th>\n",
       "      <td>FAKE_MAL_TR_0215</td>\n",
       "      <td>വൃദ്ധയുടെ പരാതി കേള്‍ക്കാന്‍ പടിക്കെട്ടില്‍ എത...</td>\n",
       "      <td>HALF TRUE</td>\n",
       "      <td>0</td>\n",
       "      <td>0</td>\n",
       "      <td>0</td>\n",
       "    </tr>\n",
       "    <tr>\n",
       "      <th>1804</th>\n",
       "      <td>FAKE_MAL_TR_1805</td>\n",
       "      <td>തന്നെ ജയിപ്പിച്ചത് RSS ആണെന്ന് കെ സുധാകരന്‍ പറ...</td>\n",
       "      <td>FALSE</td>\n",
       "      <td>0</td>\n",
       "      <td>0</td>\n",
       "      <td>0</td>\n",
       "    </tr>\n",
       "    <tr>\n",
       "      <th>691</th>\n",
       "      <td>FAKE_MAL_TR_0692</td>\n",
       "      <td>ഉത്തര്‍പ്രദേശില്‍ കോവിഡ്‌ ബാധിച്ച രോഗിയെ കട്ടി...</td>\n",
       "      <td>FALSE</td>\n",
       "      <td>0</td>\n",
       "      <td>0</td>\n",
       "      <td>0</td>\n",
       "    </tr>\n",
       "    <tr>\n",
       "      <th>1702</th>\n",
       "      <td>FAKE_MAL_TR_1703</td>\n",
       "      <td>കേരളത്തിലും പൊട്ടിത്തെറി തുടങ്ങി... പോയിന്റ് 1...</td>\n",
       "      <td>FALSE</td>\n",
       "      <td>0</td>\n",
       "      <td>0</td>\n",
       "      <td>0</td>\n",
       "    </tr>\n",
       "    <tr>\n",
       "      <th>1343</th>\n",
       "      <td>FAKE_MAL_TR_1344</td>\n",
       "      <td>ഷൂസിൽ ബൈബിൾ വാക്യങ്ങൾ എഴുതാൻ കമ്പനി അനുവദിക്കാ...</td>\n",
       "      <td>FALSE</td>\n",
       "      <td>0</td>\n",
       "      <td>0</td>\n",
       "      <td>0</td>\n",
       "    </tr>\n",
       "    <tr>\n",
       "      <th>374</th>\n",
       "      <td>FAKE_MAL_TR_0375</td>\n",
       "      <td>പുതിയതായി നിർമ്മിച്ച PWD റോഡിൻറെ ദുരവസ്ഥ. ഇത് ...</td>\n",
       "      <td>HALF TRUE</td>\n",
       "      <td>0</td>\n",
       "      <td>0</td>\n",
       "      <td>0</td>\n",
       "    </tr>\n",
       "  </tbody>\n",
       "</table>\n",
       "</div>"
      ],
      "text/plain": [
       "                    ID                                               News  \\\n",
       "1516  FAKE_MAL_TR_1517  ആപ്പിൾ മൈ ഫോട്ടോ സ്ട്രീം അവസാനിപ്പിക്കുമ്പോൾ ഐ...   \n",
       "349   FAKE_MAL_TR_0350  കര്‍ണാടകയിലെ ഇന്ദിരാ ക്യാന്റീന്‍ മുന്‍ ബിജെപി ...   \n",
       "512   FAKE_MAL_TR_0513  മെക്‌സിക്കോ കൊവിഡ് രോഗികളുടെ മൃതദേഹങ്ങള്‍ കടല...   \n",
       "1370  FAKE_MAL_TR_1371  ഈ കറുത്ത വര് ഗക്കാരെയെല്ലാം നീല സംസ്ഥാനങ്ങളില്...   \n",
       "214   FAKE_MAL_TR_0215  വൃദ്ധയുടെ പരാതി കേള്‍ക്കാന്‍ പടിക്കെട്ടില്‍ എത...   \n",
       "1804  FAKE_MAL_TR_1805  തന്നെ ജയിപ്പിച്ചത് RSS ആണെന്ന് കെ സുധാകരന്‍ പറ...   \n",
       "691   FAKE_MAL_TR_0692  ഉത്തര്‍പ്രദേശില്‍ കോവിഡ്‌ ബാധിച്ച രോഗിയെ കട്ടി...   \n",
       "1702  FAKE_MAL_TR_1703  കേരളത്തിലും പൊട്ടിത്തെറി തുടങ്ങി... പോയിന്റ് 1...   \n",
       "1343  FAKE_MAL_TR_1344  ഷൂസിൽ ബൈബിൾ വാക്യങ്ങൾ എഴുതാൻ കമ്പനി അനുവദിക്കാ...   \n",
       "374   FAKE_MAL_TR_0375  പുതിയതായി നിർമ്മിച്ച PWD റോഡിൻറെ ദുരവസ്ഥ. ഇത് ...   \n",
       "\n",
       "          Label  hashtag_count  mentions_count  url_count  \n",
       "1516      FALSE              0               0          0  \n",
       "349   HALF TRUE              0               0          0  \n",
       "512       FALSE              0               0          0  \n",
       "1370      FALSE              0               0          0  \n",
       "214   HALF TRUE              0               0          0  \n",
       "1804      FALSE              0               0          0  \n",
       "691       FALSE              0               0          0  \n",
       "1702      FALSE              0               0          0  \n",
       "1343      FALSE              0               0          0  \n",
       "374   HALF TRUE              0               0          0  "
      ]
     },
     "execution_count": 15,
     "metadata": {},
     "output_type": "execute_result"
    }
   ],
   "source": [
    "df.sample(10)"
   ]
  },
  {
   "cell_type": "code",
   "execution_count": 16,
   "metadata": {
    "colab": {
     "base_uri": "https://localhost:8080/",
     "height": 293
    },
    "executionInfo": {
     "elapsed": 16,
     "status": "ok",
     "timestamp": 1736396097239,
     "user": {
      "displayName": "Khan Computational Research Lab",
      "userId": "01811704184910857074"
     },
     "user_tz": -360
    },
    "id": "o3FUNLFTcn2i",
    "outputId": "466c84cd-c259-43f3-d452-fe32142411a4"
   },
   "outputs": [
    {
     "data": {
      "text/html": [
       "<div>\n",
       "<style scoped>\n",
       "    .dataframe tbody tr th:only-of-type {\n",
       "        vertical-align: middle;\n",
       "    }\n",
       "\n",
       "    .dataframe tbody tr th {\n",
       "        vertical-align: top;\n",
       "    }\n",
       "\n",
       "    .dataframe thead th {\n",
       "        text-align: right;\n",
       "    }\n",
       "</style>\n",
       "<table border=\"1\" class=\"dataframe\">\n",
       "  <thead>\n",
       "    <tr style=\"text-align: right;\">\n",
       "      <th></th>\n",
       "      <th>ID</th>\n",
       "      <th>News</th>\n",
       "      <th>Label</th>\n",
       "      <th>hashtag_count</th>\n",
       "      <th>mentions_count</th>\n",
       "      <th>url_count</th>\n",
       "    </tr>\n",
       "  </thead>\n",
       "  <tbody>\n",
       "    <tr>\n",
       "      <th>700</th>\n",
       "      <td>FAKE_MAL_TR_0701</td>\n",
       "      <td>ഒരു ബലാൽസംഘിയെ അറസ്റ്റ് ചെയ്യാൻ പോയ 8 പോലീസുകാ...</td>\n",
       "      <td>FALSE</td>\n",
       "      <td>1</td>\n",
       "      <td>0</td>\n",
       "      <td>0</td>\n",
       "    </tr>\n",
       "    <tr>\n",
       "      <th>1020</th>\n",
       "      <td>FAKE_MAL_TR_1021</td>\n",
       "      <td>കൊല്ലത്ത് ഇന്ത്യൻ സൈനികനെ ഇ.സ്ലാമിക തീവ്ര-വാദി...</td>\n",
       "      <td>FALSE</td>\n",
       "      <td>1</td>\n",
       "      <td>0</td>\n",
       "      <td>0</td>\n",
       "    </tr>\n",
       "    <tr>\n",
       "      <th>1176</th>\n",
       "      <td>FAKE_MAL_TR_1177</td>\n",
       "      <td>വൈറൽ പോസ്റ്റിൽ “JUST IN: # കൊറോണ വൈറസ് പാൻഡെമി...</td>\n",
       "      <td>FALSE</td>\n",
       "      <td>1</td>\n",
       "      <td>0</td>\n",
       "      <td>0</td>\n",
       "    </tr>\n",
       "    <tr>\n",
       "      <th>1272</th>\n",
       "      <td>FAKE_MAL_TR_1273</td>\n",
       "      <td>ഈ വൈറൽ ചിത്രങ്ങളിൽ, ഒരു ആൺകുട്ടി ഒരു മാൻകുഞ്ഞി...</td>\n",
       "      <td>FALSE</td>\n",
       "      <td>1</td>\n",
       "      <td>0</td>\n",
       "      <td>0</td>\n",
       "    </tr>\n",
       "    <tr>\n",
       "      <th>1786</th>\n",
       "      <td>FAKE_MAL_TR_1787</td>\n",
       "      <td>ട്വിറ്റർ ഉപയോക്താവ് രംഗോളി ചന്ദൽ വൈറൽ ഫോട്ടോകൾ...</td>\n",
       "      <td>FALSE</td>\n",
       "      <td>1</td>\n",
       "      <td>0</td>\n",
       "      <td>0</td>\n",
       "    </tr>\n",
       "  </tbody>\n",
       "</table>\n",
       "</div>"
      ],
      "text/plain": [
       "                    ID                                               News  \\\n",
       "700   FAKE_MAL_TR_0701  ഒരു ബലാൽസംഘിയെ അറസ്റ്റ് ചെയ്യാൻ പോയ 8 പോലീസുകാ...   \n",
       "1020  FAKE_MAL_TR_1021  കൊല്ലത്ത് ഇന്ത്യൻ സൈനികനെ ഇ.സ്ലാമിക തീവ്ര-വാദി...   \n",
       "1176  FAKE_MAL_TR_1177  വൈറൽ പോസ്റ്റിൽ “JUST IN: # കൊറോണ വൈറസ് പാൻഡെമി...   \n",
       "1272  FAKE_MAL_TR_1273  ഈ വൈറൽ ചിത്രങ്ങളിൽ, ഒരു ആൺകുട്ടി ഒരു മാൻകുഞ്ഞി...   \n",
       "1786  FAKE_MAL_TR_1787  ട്വിറ്റർ ഉപയോക്താവ് രംഗോളി ചന്ദൽ വൈറൽ ഫോട്ടോകൾ...   \n",
       "\n",
       "      Label  hashtag_count  mentions_count  url_count  \n",
       "700   FALSE              1               0          0  \n",
       "1020  FALSE              1               0          0  \n",
       "1176  FALSE              1               0          0  \n",
       "1272  FALSE              1               0          0  \n",
       "1786  FALSE              1               0          0  "
      ]
     },
     "execution_count": 16,
     "metadata": {},
     "output_type": "execute_result"
    }
   ],
   "source": [
    "df[df['hashtag_count']!=0]"
   ]
  },
  {
   "cell_type": "code",
   "execution_count": 17,
   "metadata": {
    "colab": {
     "base_uri": "https://localhost:8080/"
    },
    "executionInfo": {
     "elapsed": 15,
     "status": "ok",
     "timestamp": 1736396097239,
     "user": {
      "displayName": "Khan Computational Research Lab",
      "userId": "01811704184910857074"
     },
     "user_tz": -360
    },
    "id": "jAYAFvxvb_lw",
    "outputId": "dbcd358a-817f-4de8-fedb-6d208472f88d"
   },
   "outputs": [
    {
     "name": "stdout",
     "output_type": "stream",
     "text": [
      "5\n",
      "0\n",
      "0\n"
     ]
    }
   ],
   "source": [
    "print(df['hashtag_count'].sum())\n",
    "print(df['mentions_count'].sum())\n",
    "print(df['url_count'].sum())"
   ]
  },
  {
   "cell_type": "code",
   "execution_count": 18,
   "metadata": {
    "colab": {
     "base_uri": "https://localhost:8080/"
    },
    "executionInfo": {
     "elapsed": 12,
     "status": "ok",
     "timestamp": 1736396097239,
     "user": {
      "displayName": "Khan Computational Research Lab",
      "userId": "01811704184910857074"
     },
     "user_tz": -360
    },
    "id": "s6jTyMPwLlW8",
    "outputId": "300a87fd-7bdb-429e-ed41-afc3dec084fc"
   },
   "outputs": [
    {
     "name": "stdout",
     "output_type": "stream",
     "text": [
      "0\n",
      "0\n",
      "0\n"
     ]
    }
   ],
   "source": [
    "print(test_df['hashtag_count'].sum())\n",
    "print(test_df['mentions_count'].sum())\n",
    "print(test_df['url_count'].sum())"
   ]
  },
  {
   "cell_type": "code",
   "execution_count": 19,
   "metadata": {
    "executionInfo": {
     "elapsed": 6,
     "status": "ok",
     "timestamp": 1736396097723,
     "user": {
      "displayName": "Khan Computational Research Lab",
      "userId": "01811704184910857074"
     },
     "user_tz": -360
    },
    "id": "waJlxgBRcO-O"
   },
   "outputs": [],
   "source": [
    "import re\n",
    "import emoji\n",
    "\n",
    "def remove_urls(text):\n",
    "    \"\"\"Remove URLs from the given text.\"\"\"\n",
    "    url_pattern = r'https?://\\S+|www\\.\\S+'\n",
    "    return re.sub(url_pattern, '', text)\n",
    "def handle_emojis(text):\n",
    "    # Remove emojis\n",
    "    text = emoji.replace_emoji(text, '')\n",
    "    # OR keep emojis as text\n",
    "    # text = emoji.demojize(text)\n",
    "    return text\n",
    "def remove_hashtags(text):\n",
    "    \"\"\"Remove hashtags from the given text.\"\"\"\n",
    "    if '#' in text:\n",
    "        text = text.replace('#', '')\n",
    "    hashtag_pattern = r'#\\w+'\n",
    "    return re.sub(hashtag_pattern, '', text)\n",
    "\n",
    "\n",
    "def remove_mentions(text):\n",
    "    \"\"\"Remove mentions from the given text.\"\"\"\n",
    "    # Remove mentions with no space before\n",
    "    if '@' in text:\n",
    "        text = text.replace('@', '')\n",
    "\n",
    "    mention_pattern = r'@\\S+\\b'\n",
    "    text = re.sub(mention_pattern, '', text)\n",
    "    # Check if the mention is at the end of the text\n",
    "    if text.endswith(' @'):\n",
    "        text = text[:-2]  # Remove the space and '@'\n",
    "\n",
    "    return text\n",
    "def remove_dollars(text):\n",
    "    \"\"\"Remove $ from the given text.\"\"\"\n",
    "    if \"$\" in text:\n",
    "        text = text.replace('$','')\n",
    "    return text\n",
    "def remove_consecutive_punctuation(text):\n",
    "    \"\"\"Remove consecutive punctuation from the given text.\"\"\"\n",
    "    text = re.sub(r'([.,!?;:|]){2,}', r'\\1', text)\n",
    "    return str(text).lower()\n",
    "\n",
    "def processing(text):\n",
    "    \"\"\"Clean the given tweet by removing URLs, hashtags, and mentions.\"\"\"\n",
    "    cleaned_text = remove_urls(text)\n",
    "    cleaned_text = handle_emojis(cleaned_text)\n",
    "    cleaned_text = remove_hashtags(cleaned_text)\n",
    "    cleaned_text = remove_mentions(cleaned_text)\n",
    "    cleaned_text = remove_dollars(cleaned_text)\n",
    "    cleaned_text = remove_consecutive_punctuation(cleaned_text)\n",
    "    return cleaned_text"
   ]
  },
  {
   "cell_type": "code",
   "execution_count": 20,
   "metadata": {
    "executionInfo": {
     "elapsed": 532,
     "status": "ok",
     "timestamp": 1736396098251,
     "user": {
      "displayName": "Khan Computational Research Lab",
      "userId": "01811704184910857074"
     },
     "user_tz": -360
    },
    "id": "b9dnhXrSc_Sa"
   },
   "outputs": [],
   "source": [
    "df['News'] = df['News'].apply(lambda x: processing(x))\n",
    "test_df['News'] = test_df['News'].apply(lambda x: processing(x))"
   ]
  },
  {
   "cell_type": "code",
   "execution_count": 21,
   "metadata": {
    "executionInfo": {
     "elapsed": 10,
     "status": "ok",
     "timestamp": 1736396098251,
     "user": {
      "displayName": "Khan Computational Research Lab",
      "userId": "01811704184910857074"
     },
     "user_tz": -360
    },
    "id": "x2WnnxugdKZI"
   },
   "outputs": [],
   "source": [
    "import re\n",
    "def preprocessing(df):\n",
    "    url_pattern = r'https?://\\S+|www\\.\\S+'\n",
    "\n",
    "    def count_urls(text):\n",
    "        return len(re.findall(url_pattern, text))\n",
    "\n",
    "    df['hashtag_count'] = df['News'].apply(lambda x: x.count('#'))\n",
    "    df['mentions_count'] = df['News'].apply(lambda x: x.count('@'))\n",
    "    df['dollar_count'] = df['News'].apply(lambda x: x.count('$'))\n",
    "    df['url_count'] = df['News'].apply(count_urls)\n",
    "    return df\n",
    "\n",
    "df = preprocessing(df)\n",
    "test_df = preprocessing(test_df)"
   ]
  },
  {
   "cell_type": "code",
   "execution_count": 22,
   "metadata": {
    "colab": {
     "base_uri": "https://localhost:8080/"
    },
    "executionInfo": {
     "elapsed": 9,
     "status": "ok",
     "timestamp": 1736396098251,
     "user": {
      "displayName": "Khan Computational Research Lab",
      "userId": "01811704184910857074"
     },
     "user_tz": -360
    },
    "id": "XKrVGSaTdWn-",
    "outputId": "9ac1488b-aae4-4ff7-b9ae-536541911af3"
   },
   "outputs": [
    {
     "name": "stdout",
     "output_type": "stream",
     "text": [
      "0\n",
      "0\n",
      "0\n",
      "0\n"
     ]
    }
   ],
   "source": [
    "\n",
    "print(df['url_count'].sum())\n",
    "print(df['mentions_count'].sum())\n",
    "print(df['hashtag_count'].sum())\n",
    "print(df['dollar_count'].sum())"
   ]
  },
  {
   "cell_type": "code",
   "execution_count": 23,
   "metadata": {
    "colab": {
     "base_uri": "https://localhost:8080/"
    },
    "executionInfo": {
     "elapsed": 7,
     "status": "ok",
     "timestamp": 1736396098251,
     "user": {
      "displayName": "Khan Computational Research Lab",
      "userId": "01811704184910857074"
     },
     "user_tz": -360
    },
    "id": "izrzi5EoLxF6",
    "outputId": "65c73714-3f53-4b55-bae1-4fa5d0baa0eb"
   },
   "outputs": [
    {
     "name": "stdout",
     "output_type": "stream",
     "text": [
      "0\n",
      "0\n",
      "0\n",
      "0\n"
     ]
    }
   ],
   "source": [
    "print(test_df['hashtag_count'].sum())\n",
    "print(test_df['mentions_count'].sum())\n",
    "print(test_df['url_count'].sum())\n",
    "print(test_df['dollar_count'].sum())"
   ]
  },
  {
   "cell_type": "code",
   "execution_count": 24,
   "metadata": {
    "colab": {
     "base_uri": "https://localhost:8080/",
     "height": 380
    },
    "executionInfo": {
     "elapsed": 7,
     "status": "ok",
     "timestamp": 1736396098728,
     "user": {
      "displayName": "Khan Computational Research Lab",
      "userId": "01811704184910857074"
     },
     "user_tz": -360
    },
    "id": "VppQisgEdd7Q",
    "outputId": "041d8ea0-5a4a-4b17-e2fe-5eb4a0f414de"
   },
   "outputs": [
    {
     "data": {
      "text/html": [
       "<div>\n",
       "<style scoped>\n",
       "    .dataframe tbody tr th:only-of-type {\n",
       "        vertical-align: middle;\n",
       "    }\n",
       "\n",
       "    .dataframe tbody tr th {\n",
       "        vertical-align: top;\n",
       "    }\n",
       "\n",
       "    .dataframe thead th {\n",
       "        text-align: right;\n",
       "    }\n",
       "</style>\n",
       "<table border=\"1\" class=\"dataframe\">\n",
       "  <thead>\n",
       "    <tr style=\"text-align: right;\">\n",
       "      <th></th>\n",
       "      <th>ID</th>\n",
       "      <th>News</th>\n",
       "      <th>Label</th>\n",
       "      <th>hashtag_count</th>\n",
       "      <th>mentions_count</th>\n",
       "      <th>url_count</th>\n",
       "      <th>dollar_count</th>\n",
       "    </tr>\n",
       "  </thead>\n",
       "  <tbody>\n",
       "    <tr>\n",
       "      <th>808</th>\n",
       "      <td>FAKE_MAL_TR_0809</td>\n",
       "      <td>സിപിഎം സംസ്ഥാന സെക്രട്ടറി കോടിയേരിയുടെ അമേരിക്കന്‍ ചികിത്സ ചെലവ് സര്‍ക്കാര്‍ വഹിക്കും</td>\n",
       "      <td>FALSE</td>\n",
       "      <td>0</td>\n",
       "      <td>0</td>\n",
       "      <td>0</td>\n",
       "      <td>0</td>\n",
       "    </tr>\n",
       "    <tr>\n",
       "      <th>1853</th>\n",
       "      <td>FAKE_MAL_TR_1854</td>\n",
       "      <td>വിഴിഞ്ഞത്ത് തീരദേശവാസികള്‍ ആക്രമിച്ചപ്പോള്‍ മുഖ്യമന്ത്രി പിണറായി വിജയന്‍ ഉപേക്ഷിച്ച കാര്‍.</td>\n",
       "      <td>MOSTLY FALSE</td>\n",
       "      <td>0</td>\n",
       "      <td>0</td>\n",
       "      <td>0</td>\n",
       "      <td>0</td>\n",
       "    </tr>\n",
       "    <tr>\n",
       "      <th>556</th>\n",
       "      <td>FAKE_MAL_TR_0557</td>\n",
       "      <td>ഹിമ ദാസിന് ഒളിംപിക്‌സ് യോഗ്യത; പ്രചാരണം വ്യാജം</td>\n",
       "      <td>FALSE</td>\n",
       "      <td>0</td>\n",
       "      <td>0</td>\n",
       "      <td>0</td>\n",
       "      <td>0</td>\n",
       "    </tr>\n",
       "    <tr>\n",
       "      <th>1214</th>\n",
       "      <td>FAKE_MAL_TR_1215</td>\n",
       "      <td>കര്‍ഷക നിയമം പിന്‍വലിച്ചതുമൂലം ഇടനിലക്കാര്‍ വിലകുറച്ചു നല്‍കിയതിനാല്‍ വിളവെടുത്ത തക്കാളി വഴിയില്‍ ഉപേക്ഷിക്കുന്ന കര്‍ണാടക കോലാറിലെ കര്‍ഷകര്‍.</td>\n",
       "      <td>MOSTLY FALSE</td>\n",
       "      <td>0</td>\n",
       "      <td>0</td>\n",
       "      <td>0</td>\n",
       "      <td>0</td>\n",
       "    </tr>\n",
       "    <tr>\n",
       "      <th>1706</th>\n",
       "      <td>FAKE_MAL_TR_1707</td>\n",
       "      <td>ഹജ്ജ് തീർത്ഥാടകർക്ക് സൗദി സർക്കാരിന്റെ സമ്മാന പെട്ടി.</td>\n",
       "      <td>FALSE</td>\n",
       "      <td>0</td>\n",
       "      <td>0</td>\n",
       "      <td>0</td>\n",
       "      <td>0</td>\n",
       "    </tr>\n",
       "  </tbody>\n",
       "</table>\n",
       "</div>"
      ],
      "text/plain": [
       "                    ID  \\\n",
       "808   FAKE_MAL_TR_0809   \n",
       "1853  FAKE_MAL_TR_1854   \n",
       "556   FAKE_MAL_TR_0557   \n",
       "1214  FAKE_MAL_TR_1215   \n",
       "1706  FAKE_MAL_TR_1707   \n",
       "\n",
       "                                                                                                                                               News  \\\n",
       "808   സിപിഎം സംസ്ഥാന സെക്രട്ടറി കോടിയേരിയുടെ അമേരിക്കന്‍ ചികിത്സ ചെലവ് സര്‍ക്കാര്‍ വഹിക്കും                                                           \n",
       "1853  വിഴിഞ്ഞത്ത് തീരദേശവാസികള്‍ ആക്രമിച്ചപ്പോള്‍ മുഖ്യമന്ത്രി പിണറായി വിജയന്‍ ഉപേക്ഷിച്ച കാര്‍.                                                      \n",
       "556   ഹിമ ദാസിന് ഒളിംപിക്‌സ് യോഗ്യത; പ്രചാരണം വ്യാജം                                                                                                  \n",
       "1214  കര്‍ഷക നിയമം പിന്‍വലിച്ചതുമൂലം ഇടനിലക്കാര്‍ വിലകുറച്ചു നല്‍കിയതിനാല്‍ വിളവെടുത്ത തക്കാളി വഴിയില്‍ ഉപേക്ഷിക്കുന്ന കര്‍ണാടക കോലാറിലെ കര്‍ഷകര്‍.   \n",
       "1706  ഹജ്ജ് തീർത്ഥാടകർക്ക് സൗദി സർക്കാരിന്റെ സമ്മാന പെട്ടി.                                                                                           \n",
       "\n",
       "             Label  hashtag_count  mentions_count  url_count  dollar_count  \n",
       "808   FALSE         0              0               0          0             \n",
       "1853  MOSTLY FALSE  0              0               0          0             \n",
       "556   FALSE         0              0               0          0             \n",
       "1214  MOSTLY FALSE  0              0               0          0             \n",
       "1706  FALSE         0              0               0          0             "
      ]
     },
     "metadata": {},
     "output_type": "display_data"
    }
   ],
   "source": [
    "with pd.option_context('display.max_colwidth', 0):\n",
    "    display(df.sample(n=5))"
   ]
  },
  {
   "cell_type": "code",
   "execution_count": 25,
   "metadata": {
    "colab": {
     "base_uri": "https://localhost:8080/",
     "height": 693
    },
    "executionInfo": {
     "elapsed": 7,
     "status": "ok",
     "timestamp": 1736396098728,
     "user": {
      "displayName": "Khan Computational Research Lab",
      "userId": "01811704184910857074"
     },
     "user_tz": -360
    },
    "id": "5J8tzxCXL1tg",
    "outputId": "ed6adf1f-65db-411b-8b71-dec8f3a18876"
   },
   "outputs": [
    {
     "data": {
      "text/html": [
       "<div>\n",
       "<style scoped>\n",
       "    .dataframe tbody tr th:only-of-type {\n",
       "        vertical-align: middle;\n",
       "    }\n",
       "\n",
       "    .dataframe tbody tr th {\n",
       "        vertical-align: top;\n",
       "    }\n",
       "\n",
       "    .dataframe thead th {\n",
       "        text-align: right;\n",
       "    }\n",
       "</style>\n",
       "<table border=\"1\" class=\"dataframe\">\n",
       "  <thead>\n",
       "    <tr style=\"text-align: right;\">\n",
       "      <th></th>\n",
       "      <th>S.no</th>\n",
       "      <th>News</th>\n",
       "      <th>Label</th>\n",
       "      <th>hashtag_count</th>\n",
       "      <th>mentions_count</th>\n",
       "      <th>url_count</th>\n",
       "      <th>dollar_count</th>\n",
       "    </tr>\n",
       "  </thead>\n",
       "  <tbody>\n",
       "    <tr>\n",
       "      <th>12</th>\n",
       "      <td>FAKE_MAL_TE_0013</td>\n",
       "      <td>സിനിമ റിവ്യു റിലീസിന് 7 ദിവസത്തിന് ശേഷം മതിയെന്ന് ഹൈകോടതി</td>\n",
       "      <td>False</td>\n",
       "      <td>0</td>\n",
       "      <td>0</td>\n",
       "      <td>0</td>\n",
       "      <td>0</td>\n",
       "    </tr>\n",
       "    <tr>\n",
       "      <th>133</th>\n",
       "      <td>FAKE_MAL_TE_0134</td>\n",
       "      <td>അതിർത്തിയിൽ നിന്നും ഇന്ത്യയുടെയും ചൈനയുടെയും സൈനികർ പിൻവാങ്ങുന്നതിന് മുമ്പ് ജയ് ശ്രീ രാം വിളിക്കുന്ന വീഡിയോ.</td>\n",
       "      <td>HALF TRUE</td>\n",
       "      <td>0</td>\n",
       "      <td>0</td>\n",
       "      <td>0</td>\n",
       "      <td>0</td>\n",
       "    </tr>\n",
       "    <tr>\n",
       "      <th>42</th>\n",
       "      <td>FAKE_MAL_TE_0043</td>\n",
       "      <td>ശരിയത്ത് നിയമം ഇന്ത്യന്‍ ഭരണഘടനയേക്കാള്‍ മികച്ചതെന്ന് തൃശൂര്‍ എം.പി. ടി.എന്‍. പ്രതാപന്‍</td>\n",
       "      <td>False</td>\n",
       "      <td>0</td>\n",
       "      <td>0</td>\n",
       "      <td>0</td>\n",
       "      <td>0</td>\n",
       "    </tr>\n",
       "    <tr>\n",
       "      <th>2</th>\n",
       "      <td>FAKE_MAL_TE_0003</td>\n",
       "      <td>നവകേരള സദസ്സ്: കാട്ടാക്കട ക്രിസ്ത്യൻ കോളേജ് കവാടവും പൊളിക്കും</td>\n",
       "      <td>False</td>\n",
       "      <td>0</td>\n",
       "      <td>0</td>\n",
       "      <td>0</td>\n",
       "      <td>0</td>\n",
       "    </tr>\n",
       "    <tr>\n",
       "      <th>196</th>\n",
       "      <td>FAKE_MAL_TE_0197</td>\n",
       "      <td>അന്താരാഷ്ട്ര നീതിന്യായ കോടതിയുടെ ചീഫ് ജസ്റ്റിസ്സായി മുന്‍ ഇന്ത്യന്‍ സുപ്രീം കോടതി ജഡ്ജ് ദല്‍വീര്‍ ഭണ്ഡാരി തിരഞ്ഞെടുക്കപ്പെട്ടു.</td>\n",
       "      <td>MOSTLY FALSE</td>\n",
       "      <td>0</td>\n",
       "      <td>0</td>\n",
       "      <td>0</td>\n",
       "      <td>0</td>\n",
       "    </tr>\n",
       "    <tr>\n",
       "      <th>13</th>\n",
       "      <td>FAKE_MAL_TE_0014</td>\n",
       "      <td>സംസ്ഥാനത്ത് ഒന്നാം തീയതിയിലെ ഡ്രൈ ഡേ ഒഴിവാക്കി</td>\n",
       "      <td>False</td>\n",
       "      <td>0</td>\n",
       "      <td>0</td>\n",
       "      <td>0</td>\n",
       "      <td>0</td>\n",
       "    </tr>\n",
       "    <tr>\n",
       "      <th>181</th>\n",
       "      <td>FAKE_MAL_TE_0182</td>\n",
       "      <td>ശബരിമലയിലെ വരുമാനം കൊണ്ട് സര്‍ക്കാര്‍ ട്രഷറി നിയന്ത്രണം പിന്‍വലിച്ചു.</td>\n",
       "      <td>MOSTLY FALSE</td>\n",
       "      <td>0</td>\n",
       "      <td>0</td>\n",
       "      <td>0</td>\n",
       "      <td>0</td>\n",
       "    </tr>\n",
       "    <tr>\n",
       "      <th>112</th>\n",
       "      <td>FAKE_MAL_TE_0113</td>\n",
       "      <td>സംഭാലില്‍ സര്‍വേ നടത്താനെത്തിയ ഉദ്യോഗസ്ഥര്‍ക്കെതിരെ പ്രതിഷേധിച്ചവരെ ഓടിക്കാന്‍ പൊലീസ് ലാത്തി വീശുന്നു</td>\n",
       "      <td>HALF TRUE</td>\n",
       "      <td>0</td>\n",
       "      <td>0</td>\n",
       "      <td>0</td>\n",
       "      <td>0</td>\n",
       "    </tr>\n",
       "    <tr>\n",
       "      <th>77</th>\n",
       "      <td>FAKE_MAL_TE_0078</td>\n",
       "      <td>നൂറ്റിയൊന്നാം വയസ്സിൽ കുഞ്ഞിന് ജന്മം നൽകിയ സ്ത്രീ ഗിന്നസ് റെക്കോർഡിൽ സ്ഥാനം പിടിച്ചു.</td>\n",
       "      <td>False</td>\n",
       "      <td>0</td>\n",
       "      <td>0</td>\n",
       "      <td>0</td>\n",
       "      <td>0</td>\n",
       "    </tr>\n",
       "    <tr>\n",
       "      <th>18</th>\n",
       "      <td>FAKE_MAL_TE_0019</td>\n",
       "      <td>ജോഡോ യാത്രക്കിടെ പാര്‍ട്ടി പ്രവര്‍ത്തകര്‍ രഹസ്യമായി മദ്യപിച്ചിട്ടാണ് സഞ്ചരിക്കുന്നത്</td>\n",
       "      <td>False</td>\n",
       "      <td>0</td>\n",
       "      <td>0</td>\n",
       "      <td>0</td>\n",
       "      <td>0</td>\n",
       "    </tr>\n",
       "  </tbody>\n",
       "</table>\n",
       "</div>"
      ],
      "text/plain": [
       "                 S.no  \\\n",
       "12   FAKE_MAL_TE_0013   \n",
       "133  FAKE_MAL_TE_0134   \n",
       "42   FAKE_MAL_TE_0043   \n",
       "2    FAKE_MAL_TE_0003   \n",
       "196  FAKE_MAL_TE_0197   \n",
       "13   FAKE_MAL_TE_0014   \n",
       "181  FAKE_MAL_TE_0182   \n",
       "112  FAKE_MAL_TE_0113   \n",
       "77   FAKE_MAL_TE_0078   \n",
       "18   FAKE_MAL_TE_0019   \n",
       "\n",
       "                                                                                                                                News  \\\n",
       "12   സിനിമ റിവ്യു റിലീസിന് 7 ദിവസത്തിന് ശേഷം മതിയെന്ന് ഹൈകോടതി                                                                         \n",
       "133  അതിർത്തിയിൽ നിന്നും ഇന്ത്യയുടെയും ചൈനയുടെയും സൈനികർ പിൻവാങ്ങുന്നതിന് മുമ്പ് ജയ് ശ്രീ രാം വിളിക്കുന്ന വീഡിയോ.                      \n",
       "42   ശരിയത്ത് നിയമം ഇന്ത്യന്‍ ഭരണഘടനയേക്കാള്‍ മികച്ചതെന്ന് തൃശൂര്‍ എം.പി. ടി.എന്‍. പ്രതാപന്‍                                           \n",
       "2    നവകേരള സദസ്സ്: കാട്ടാക്കട ക്രിസ്ത്യൻ കോളേജ് കവാടവും പൊളിക്കും                                                                     \n",
       "196  അന്താരാഷ്ട്ര നീതിന്യായ കോടതിയുടെ ചീഫ് ജസ്റ്റിസ്സായി മുന്‍ ഇന്ത്യന്‍ സുപ്രീം കോടതി ജഡ്ജ് ദല്‍വീര്‍ ഭണ്ഡാരി തിരഞ്ഞെടുക്കപ്പെട്ടു.   \n",
       "13   സംസ്ഥാനത്ത് ഒന്നാം തീയതിയിലെ ഡ്രൈ ഡേ ഒഴിവാക്കി                                                                                    \n",
       "181  ശബരിമലയിലെ വരുമാനം കൊണ്ട് സര്‍ക്കാര്‍ ട്രഷറി നിയന്ത്രണം പിന്‍വലിച്ചു.                                                             \n",
       "112  സംഭാലില്‍ സര്‍വേ നടത്താനെത്തിയ ഉദ്യോഗസ്ഥര്‍ക്കെതിരെ പ്രതിഷേധിച്ചവരെ ഓടിക്കാന്‍ പൊലീസ് ലാത്തി വീശുന്നു                            \n",
       "77   നൂറ്റിയൊന്നാം വയസ്സിൽ കുഞ്ഞിന് ജന്മം നൽകിയ സ്ത്രീ ഗിന്നസ് റെക്കോർഡിൽ സ്ഥാനം പിടിച്ചു.                                             \n",
       "18   ജോഡോ യാത്രക്കിടെ പാര്‍ട്ടി പ്രവര്‍ത്തകര്‍ രഹസ്യമായി മദ്യപിച്ചിട്ടാണ് സഞ്ചരിക്കുന്നത്                                              \n",
       "\n",
       "            Label  hashtag_count  mentions_count  url_count  dollar_count  \n",
       "12   False         0              0               0          0             \n",
       "133  HALF TRUE     0              0               0          0             \n",
       "42   False         0              0               0          0             \n",
       "2    False         0              0               0          0             \n",
       "196  MOSTLY FALSE  0              0               0          0             \n",
       "13   False         0              0               0          0             \n",
       "181  MOSTLY FALSE  0              0               0          0             \n",
       "112  HALF TRUE     0              0               0          0             \n",
       "77   False         0              0               0          0             \n",
       "18   False         0              0               0          0             "
      ]
     },
     "metadata": {},
     "output_type": "display_data"
    }
   ],
   "source": [
    "with pd.option_context('display.max_colwidth', 0):\n",
    "    display(test_df.sample(n=10))"
   ]
  },
  {
   "cell_type": "code",
   "execution_count": 26,
   "metadata": {
    "executionInfo": {
     "elapsed": 2,
     "status": "ok",
     "timestamp": 1736396099639,
     "user": {
      "displayName": "Khan Computational Research Lab",
      "userId": "01811704184910857074"
     },
     "user_tz": -360
    },
    "id": "mzAgOUhzdtU6"
   },
   "outputs": [],
   "source": [
    "df['Length'] = df['News'].apply(lambda x: len(x.split(\" \")))"
   ]
  },
  {
   "cell_type": "code",
   "execution_count": 27,
   "metadata": {
    "executionInfo": {
     "elapsed": 2,
     "status": "ok",
     "timestamp": 1736396100814,
     "user": {
      "displayName": "Khan Computational Research Lab",
      "userId": "01811704184910857074"
     },
     "user_tz": -360
    },
    "id": "Z7nSxY-EL-gy"
   },
   "outputs": [],
   "source": [
    "test_df['Length'] = test_df['News'].apply(lambda x: len(x.split(\" \")))"
   ]
  },
  {
   "cell_type": "code",
   "execution_count": 28,
   "metadata": {
    "colab": {
     "base_uri": "https://localhost:8080/",
     "height": 335
    },
    "executionInfo": {
     "elapsed": 599,
     "status": "ok",
     "timestamp": 1736396103719,
     "user": {
      "displayName": "Khan Computational Research Lab",
      "userId": "01811704184910857074"
     },
     "user_tz": -360
    },
    "id": "xeYo6iAJd8FW",
    "outputId": "eb84b459-dee0-4906-ab78-496f8fd9ffc1"
   },
   "outputs": [
    {
     "data": {
      "text/plain": [
       "count    1900.000000\n",
       "mean        9.640526\n",
       "std         3.978052\n",
       "min         3.000000\n",
       "25%         7.000000\n",
       "50%         9.000000\n",
       "75%        11.000000\n",
       "max        32.000000\n",
       "Name: Length, dtype: float64"
      ]
     },
     "execution_count": 28,
     "metadata": {},
     "output_type": "execute_result"
    }
   ],
   "source": [
    "df['Length'].describe()"
   ]
  },
  {
   "cell_type": "code",
   "execution_count": 29,
   "metadata": {
    "colab": {
     "base_uri": "https://localhost:8080/",
     "height": 335
    },
    "executionInfo": {
     "elapsed": 5,
     "status": "ok",
     "timestamp": 1736396105261,
     "user": {
      "displayName": "Khan Computational Research Lab",
      "userId": "01811704184910857074"
     },
     "user_tz": -360
    },
    "id": "UUVCfftYMDc9",
    "outputId": "c0a6a376-c81a-40da-9abc-26e5d97a7f12"
   },
   "outputs": [
    {
     "data": {
      "text/plain": [
       "count    200.000000\n",
       "mean       9.845000\n",
       "std        3.641052\n",
       "min        4.000000\n",
       "25%        7.000000\n",
       "50%        9.000000\n",
       "75%       11.250000\n",
       "max       26.000000\n",
       "Name: Length, dtype: float64"
      ]
     },
     "execution_count": 29,
     "metadata": {},
     "output_type": "execute_result"
    }
   ],
   "source": [
    "test_df['Length'].describe()"
   ]
  },
  {
   "cell_type": "code",
   "execution_count": 30,
   "metadata": {
    "colab": {
     "base_uri": "https://localhost:8080/",
     "height": 53
    },
    "executionInfo": {
     "elapsed": 358,
     "status": "ok",
     "timestamp": 1736396107336,
     "user": {
      "displayName": "Khan Computational Research Lab",
      "userId": "01811704184910857074"
     },
     "user_tz": -360
    },
    "id": "GPlwbBp8eAOG",
    "outputId": "b92821a7-33c7-4b83-f157-ec0e62f554e0"
   },
   "outputs": [
    {
     "data": {
      "text/html": [
       "<div>\n",
       "<style scoped>\n",
       "    .dataframe tbody tr th:only-of-type {\n",
       "        vertical-align: middle;\n",
       "    }\n",
       "\n",
       "    .dataframe tbody tr th {\n",
       "        vertical-align: top;\n",
       "    }\n",
       "\n",
       "    .dataframe thead th {\n",
       "        text-align: right;\n",
       "    }\n",
       "</style>\n",
       "<table border=\"1\" class=\"dataframe\">\n",
       "  <thead>\n",
       "    <tr style=\"text-align: right;\">\n",
       "      <th></th>\n",
       "      <th>ID</th>\n",
       "      <th>News</th>\n",
       "      <th>Label</th>\n",
       "      <th>hashtag_count</th>\n",
       "      <th>mentions_count</th>\n",
       "      <th>url_count</th>\n",
       "      <th>dollar_count</th>\n",
       "      <th>Length</th>\n",
       "    </tr>\n",
       "  </thead>\n",
       "  <tbody>\n",
       "  </tbody>\n",
       "</table>\n",
       "</div>"
      ],
      "text/plain": [
       "Empty DataFrame\n",
       "Columns: [ID, News, Label, hashtag_count, mentions_count, url_count, dollar_count, Length]\n",
       "Index: []"
      ]
     },
     "execution_count": 30,
     "metadata": {},
     "output_type": "execute_result"
    }
   ],
   "source": [
    "df[df['Length']==1]"
   ]
  },
  {
   "cell_type": "code",
   "execution_count": 31,
   "metadata": {
    "colab": {
     "base_uri": "https://localhost:8080/"
    },
    "executionInfo": {
     "elapsed": 575,
     "status": "ok",
     "timestamp": 1736396111286,
     "user": {
      "displayName": "Khan Computational Research Lab",
      "userId": "01811704184910857074"
     },
     "user_tz": -360
    },
    "id": "sUns3t70eN8j",
    "outputId": "b3e2e9fe-11df-4314-e91a-95e4d787c31d"
   },
   "outputs": [
    {
     "data": {
      "text/plain": [
       "18"
      ]
     },
     "execution_count": 31,
     "metadata": {},
     "output_type": "execute_result"
    }
   ],
   "source": [
    "df['News'].duplicated().sum()"
   ]
  },
  {
   "cell_type": "code",
   "execution_count": 32,
   "metadata": {
    "colab": {
     "base_uri": "https://localhost:8080/"
    },
    "executionInfo": {
     "elapsed": 350,
     "status": "ok",
     "timestamp": 1736396113878,
     "user": {
      "displayName": "Khan Computational Research Lab",
      "userId": "01811704184910857074"
     },
     "user_tz": -360
    },
    "id": "j8Y19onEehSi",
    "outputId": "0e730b44-b842-4416-9eb1-129fbe977820"
   },
   "outputs": [
    {
     "data": {
      "text/plain": [
       "(1900, 8)"
      ]
     },
     "execution_count": 32,
     "metadata": {},
     "output_type": "execute_result"
    }
   ],
   "source": [
    "df.shape"
   ]
  },
  {
   "cell_type": "code",
   "execution_count": 33,
   "metadata": {
    "colab": {
     "base_uri": "https://localhost:8080/",
     "height": 469
    },
    "executionInfo": {
     "elapsed": 795,
     "status": "ok",
     "timestamp": 1736396116698,
     "user": {
      "displayName": "Khan Computational Research Lab",
      "userId": "01811704184910857074"
     },
     "user_tz": -360
    },
    "id": "iXDXKV56epBK",
    "outputId": "1ec8c7d3-0429-4684-e3bf-30c2994531b6"
   },
   "outputs": [
    {
     "data": {
      "text/plain": [
       "<Axes: title={'center': 'Tweet Length Distribution'}, ylabel='Frequency'>"
      ]
     },
     "execution_count": 33,
     "metadata": {},
     "output_type": "execute_result"
    },
    {
     "data": {
      "image/png": "[encoded data removed]",
      "text/plain": [
       "<Figure size 640x480 with 1 Axes>"
      ]
     },
     "metadata": {},
     "output_type": "display_data"
    }
   ],
   "source": [
    "df['Length'].plot(kind='hist', bins=50, title='Tweet Length Distribution', color='skyblue', edgecolor='black')"
   ]
  },
  {
   "cell_type": "code",
   "execution_count": 34,
   "metadata": {
    "colab": {
     "base_uri": "https://localhost:8080/",
     "height": 335
    },
    "executionInfo": {
     "elapsed": 6,
     "status": "ok",
     "timestamp": 1736396117266,
     "user": {
      "displayName": "Khan Computational Research Lab",
      "userId": "01811704184910857074"
     },
     "user_tz": -360
    },
    "id": "idAI2H3FfS32",
    "outputId": "a2975bd7-20dd-42d8-d4bf-8d0f300a6823"
   },
   "outputs": [
    {
     "data": {
      "text/plain": [
       "ID                0\n",
       "News              0\n",
       "Label             0\n",
       "hashtag_count     0\n",
       "mentions_count    0\n",
       "url_count         0\n",
       "dollar_count      0\n",
       "Length            0\n",
       "dtype: int64"
      ]
     },
     "execution_count": 34,
     "metadata": {},
     "output_type": "execute_result"
    }
   ],
   "source": [
    "df.isnull().sum()"
   ]
  },
  {
   "cell_type": "code",
   "execution_count": 35,
   "metadata": {
    "executionInfo": {
     "elapsed": 340,
     "status": "ok",
     "timestamp": 1736396123080,
     "user": {
      "displayName": "Khan Computational Research Lab",
      "userId": "01811704184910857074"
     },
     "user_tz": -360
    },
    "id": "qrKcxbvvfRXZ"
   },
   "outputs": [],
   "source": [
    "def countplot(fig_x,fig_y,col,top_x,rotation,xlabel,title) :\n",
    "    plt.figure(figsize=(fig_x,fig_y))\n",
    "    total = float(len(df))\n",
    "    ax = sns.countplot(x=col,  data=df, order = df[col].value_counts().iloc[:top_x].index)\n",
    "    for p in ax.patches:\n",
    "        percentage = '{:.1f}%'.format(100 * p.get_height()/total)\n",
    "        x = p.get_x() + p.get_width() / 2 - 0.05\n",
    "        y = p.get_y() + p.get_height()\n",
    "        ax.annotate(percentage, (x, y),xytext = (x+0.05,y+20),ha = 'center',weight = 'bold',size = 11)\n",
    "    plt.xticks(rotation = rotation,weight='bold',size = 10)\n",
    "    plt.yticks(weight='bold',size = 10)\n",
    "    plt.xlabel(xlabel,weight='bold',size = 12)\n",
    "    plt.ylabel('count',weight='bold',size = 12)\n",
    "    plt.title(title,weight='bold',size = 15)\n",
    "    plt.show()"
   ]
  },
  {
   "cell_type": "code",
   "execution_count": 36,
   "metadata": {
    "colab": {
     "base_uri": "https://localhost:8080/",
     "height": 493
    },
    "executionInfo": {
     "elapsed": 503,
     "status": "ok",
     "timestamp": 1736396148058,
     "user": {
      "displayName": "Khan Computational Research Lab",
      "userId": "01811704184910857074"
     },
     "user_tz": -360
    },
    "id": "hMGoryCwfaRk",
    "outputId": "0fe2d4d1-c8ac-4ae4-981c-20667b355345"
   },
   "outputs": [
    {
     "data": {
      "image/png": "[encoded data removed]",
      "text/plain": [
       "<Figure size 1000x500 with 1 Axes>"
      ]
     },
     "metadata": {},
     "output_type": "display_data"
    }
   ],
   "source": [
    "countplot(10,5,'Label',15,0,'Class','Class Distribution')"
   ]
  },
  {
   "cell_type": "code",
   "execution_count": 37,
   "metadata": {
    "executionInfo": {
     "elapsed": 600,
     "status": "ok",
     "timestamp": 1736396165812,
     "user": {
      "displayName": "Khan Computational Research Lab",
      "userId": "01811704184910857074"
     },
     "user_tz": -360
    },
    "id": "-DTWnGLCfsRl"
   },
   "outputs": [],
   "source": [
    "df.drop(columns=['hashtag_count', 'mentions_count', 'url_count', 'dollar_count','Length'], inplace=True)"
   ]
  },
  {
   "cell_type": "code",
   "execution_count": 38,
   "metadata": {
    "executionInfo": {
     "elapsed": 3,
     "status": "ok",
     "timestamp": 1736396167333,
     "user": {
      "displayName": "Khan Computational Research Lab",
      "userId": "01811704184910857074"
     },
     "user_tz": -360
    },
    "id": "xJ5ErQeYMPMh"
   },
   "outputs": [],
   "source": [
    "test_df.drop(columns=['hashtag_count', 'mentions_count', 'url_count', 'dollar_count','Length'], inplace=True)"
   ]
  },
  {
   "cell_type": "code",
   "execution_count": 39,
   "metadata": {
    "colab": {
     "base_uri": "https://localhost:8080/"
    },
    "executionInfo": {
     "elapsed": 573,
     "status": "ok",
     "timestamp": 1736396170198,
     "user": {
      "displayName": "Khan Computational Research Lab",
      "userId": "01811704184910857074"
     },
     "user_tz": -360
    },
    "id": "KtJBuDZ9f_0w",
    "outputId": "92f2f9a3-6b1b-4445-e99a-8660800963a8"
   },
   "outputs": [
    {
     "data": {
      "text/plain": [
       "Index(['ID', 'News', 'Label'], dtype='object')"
      ]
     },
     "execution_count": 39,
     "metadata": {},
     "output_type": "execute_result"
    }
   ],
   "source": [
    "df.columns"
   ]
  },
  {
   "cell_type": "code",
   "execution_count": 40,
   "metadata": {
    "colab": {
     "base_uri": "https://localhost:8080/",
     "height": 206
    },
    "executionInfo": {
     "elapsed": 371,
     "status": "ok",
     "timestamp": 1736396174752,
     "user": {
      "displayName": "Khan Computational Research Lab",
      "userId": "01811704184910857074"
     },
     "user_tz": -360
    },
    "id": "l3lqsSGfgD5u",
    "outputId": "9b9ccc2d-6ee6-4bff-9722-477acbcaf037"
   },
   "outputs": [
    {
     "data": {
      "text/html": [
       "<div>\n",
       "<style scoped>\n",
       "    .dataframe tbody tr th:only-of-type {\n",
       "        vertical-align: middle;\n",
       "    }\n",
       "\n",
       "    .dataframe tbody tr th {\n",
       "        vertical-align: top;\n",
       "    }\n",
       "\n",
       "    .dataframe thead th {\n",
       "        text-align: right;\n",
       "    }\n",
       "</style>\n",
       "<table border=\"1\" class=\"dataframe\">\n",
       "  <thead>\n",
       "    <tr style=\"text-align: right;\">\n",
       "      <th></th>\n",
       "      <th>ID</th>\n",
       "      <th>News</th>\n",
       "      <th>Label</th>\n",
       "    </tr>\n",
       "  </thead>\n",
       "  <tbody>\n",
       "    <tr>\n",
       "      <th>0</th>\n",
       "      <td>FAKE_MAL_TR_0001</td>\n",
       "      <td>കേള്‍വി തകരാറുള്ള കുട്ടികള്‍ക്ക് നടത്തുന്ന സൗജ...</td>\n",
       "      <td>FALSE</td>\n",
       "    </tr>\n",
       "    <tr>\n",
       "      <th>1</th>\n",
       "      <td>FAKE_MAL_TR_0002</td>\n",
       "      <td>ചന്ദ്രയാന് കേരള മുഖ്യമന്ത്രി പിണറായി വിജയൻ മാത...</td>\n",
       "      <td>FALSE</td>\n",
       "    </tr>\n",
       "    <tr>\n",
       "      <th>2</th>\n",
       "      <td>FAKE_MAL_TR_0003</td>\n",
       "      <td>പിണറായി വിജയന്‍ സര്‍ക്കാര്‍ നിര്‍മിച്ച കേരളത്ത...</td>\n",
       "      <td>FALSE</td>\n",
       "    </tr>\n",
       "    <tr>\n",
       "      <th>3</th>\n",
       "      <td>FAKE_MAL_TR_0004</td>\n",
       "      <td>വിഴിഞ്ഞത്ത് തീരദേശവാസികള്‍ ആക്രമിച്ചപ്പോള്‍ മു...</td>\n",
       "      <td>FALSE</td>\n",
       "    </tr>\n",
       "    <tr>\n",
       "      <th>4</th>\n",
       "      <td>FAKE_MAL_TR_0005</td>\n",
       "      <td>കുരിശിന് മുന്നില്‍ കൈകൂപ്പി നില്‍ക്കുന്ന പിണറാ...</td>\n",
       "      <td>FALSE</td>\n",
       "    </tr>\n",
       "  </tbody>\n",
       "</table>\n",
       "</div>"
      ],
      "text/plain": [
       "                 ID                                               News  Label\n",
       "0  FAKE_MAL_TR_0001  കേള്‍വി തകരാറുള്ള കുട്ടികള്‍ക്ക് നടത്തുന്ന സൗജ...  FALSE\n",
       "1  FAKE_MAL_TR_0002  ചന്ദ്രയാന് കേരള മുഖ്യമന്ത്രി പിണറായി വിജയൻ മാത...  FALSE\n",
       "2  FAKE_MAL_TR_0003  പിണറായി വിജയന്‍ സര്‍ക്കാര്‍ നിര്‍മിച്ച കേരളത്ത...  FALSE\n",
       "3  FAKE_MAL_TR_0004  വിഴിഞ്ഞത്ത് തീരദേശവാസികള്‍ ആക്രമിച്ചപ്പോള്‍ മു...  FALSE\n",
       "4  FAKE_MAL_TR_0005  കുരിശിന് മുന്നില്‍ കൈകൂപ്പി നില്‍ക്കുന്ന പിണറാ...  FALSE"
      ]
     },
     "execution_count": 40,
     "metadata": {},
     "output_type": "execute_result"
    }
   ],
   "source": [
    "df.head()"
   ]
  },
  {
   "cell_type": "code",
   "execution_count": 41,
   "metadata": {
    "colab": {
     "base_uri": "https://localhost:8080/",
     "height": 206
    },
    "executionInfo": {
     "elapsed": 842,
     "status": "ok",
     "timestamp": 1736396185572,
     "user": {
      "displayName": "Khan Computational Research Lab",
      "userId": "01811704184910857074"
     },
     "user_tz": -360
    },
    "id": "J2owuRrvMYwm",
    "outputId": "836ea5d5-503a-438e-c68a-9426092c88f4"
   },
   "outputs": [
    {
     "data": {
      "text/html": [
       "<div>\n",
       "<style scoped>\n",
       "    .dataframe tbody tr th:only-of-type {\n",
       "        vertical-align: middle;\n",
       "    }\n",
       "\n",
       "    .dataframe tbody tr th {\n",
       "        vertical-align: top;\n",
       "    }\n",
       "\n",
       "    .dataframe thead th {\n",
       "        text-align: right;\n",
       "    }\n",
       "</style>\n",
       "<table border=\"1\" class=\"dataframe\">\n",
       "  <thead>\n",
       "    <tr style=\"text-align: right;\">\n",
       "      <th></th>\n",
       "      <th>S.no</th>\n",
       "      <th>News</th>\n",
       "      <th>Label</th>\n",
       "    </tr>\n",
       "  </thead>\n",
       "  <tbody>\n",
       "    <tr>\n",
       "      <th>0</th>\n",
       "      <td>FAKE_MAL_TE_0001</td>\n",
       "      <td>കേരളത്തില്‍ പുരുഷന്മാര്‍ക്ക് രണ്ട് ഭാര്യമാര്‍ ...</td>\n",
       "      <td>False</td>\n",
       "    </tr>\n",
       "    <tr>\n",
       "      <th>1</th>\n",
       "      <td>FAKE_MAL_TE_0002</td>\n",
       "      <td>പാർട്ടിയുടെ കൊടിക്ക് മഹത്വം ഉണ്ടെന്നും സംരംഭങ്...</td>\n",
       "      <td>False</td>\n",
       "    </tr>\n",
       "    <tr>\n",
       "      <th>2</th>\n",
       "      <td>FAKE_MAL_TE_0003</td>\n",
       "      <td>നവകേരള സദസ്സ്: കാട്ടാക്കട ക്രിസ്ത്യൻ കോളേജ് കവ...</td>\n",
       "      <td>False</td>\n",
       "    </tr>\n",
       "    <tr>\n",
       "      <th>3</th>\n",
       "      <td>FAKE_MAL_TE_0004</td>\n",
       "      <td>ശബരിമലയില്‍ അയ്യപ്പ ഭക്തന്‍റെ തല പോലീസ് അടിച്ച...</td>\n",
       "      <td>False</td>\n",
       "    </tr>\n",
       "    <tr>\n",
       "      <th>4</th>\n",
       "      <td>FAKE_MAL_TE_0005</td>\n",
       "      <td>ബൈക്കുകള്‍ സ്വന്തം ജില്ലയില്‍ മാത്രം ഉപയോഗിക്ക...</td>\n",
       "      <td>False</td>\n",
       "    </tr>\n",
       "  </tbody>\n",
       "</table>\n",
       "</div>"
      ],
      "text/plain": [
       "               S.no                                               News  Label\n",
       "0  FAKE_MAL_TE_0001  കേരളത്തില്‍ പുരുഷന്മാര്‍ക്ക് രണ്ട് ഭാര്യമാര്‍ ...  False\n",
       "1  FAKE_MAL_TE_0002  പാർട്ടിയുടെ കൊടിക്ക് മഹത്വം ഉണ്ടെന്നും സംരംഭങ്...  False\n",
       "2  FAKE_MAL_TE_0003  നവകേരള സദസ്സ്: കാട്ടാക്കട ക്രിസ്ത്യൻ കോളേജ് കവ...  False\n",
       "3  FAKE_MAL_TE_0004  ശബരിമലയില്‍ അയ്യപ്പ ഭക്തന്‍റെ തല പോലീസ് അടിച്ച...  False\n",
       "4  FAKE_MAL_TE_0005  ബൈക്കുകള്‍ സ്വന്തം ജില്ലയില്‍ മാത്രം ഉപയോഗിക്ക...  False"
      ]
     },
     "execution_count": 41,
     "metadata": {},
     "output_type": "execute_result"
    }
   ],
   "source": [
    "test_df.head()"
   ]
  },
  {
   "cell_type": "code",
   "execution_count": 42,
   "metadata": {
    "executionInfo": {
     "elapsed": 343,
     "status": "ok",
     "timestamp": 1736396217101,
     "user": {
      "displayName": "Khan Computational Research Lab",
      "userId": "01811704184910857074"
     },
     "user_tz": -360
    },
    "id": "IVK0kQqEgJHg"
   },
   "outputs": [],
   "source": [
    "df.to_csv(\"cleaned_train_multi.csv\", index = False)\n",
    "test_df.to_csv(\"cleaned_test_multi.csv\", index = False)"
   ]
  },
  {
   "cell_type": "code",
   "execution_count": null,
   "metadata": {
    "id": "e73BQ6hdR5dm"
   },
   "outputs": [],
   "source": []
  }
 ],
 "metadata": {
  "colab": {
   "provenance": []
  },
  "kernelspec": {
   "display_name": "myenv",
   "language": "python",
   "name": "python3"
  },
  "language_info": {
   "codemirror_mode": {
    "name": "ipython",
    "version": 3
   },
   "file_extension": ".py",
   "mimetype": "text/x-python",
   "name": "python",
   "nbconvert_exporter": "python",
   "pygments_lexer": "ipython3",
   "version": "3.12.3"
  }
 },
 "nbformat": 4,
 "nbformat_minor": 0
}
