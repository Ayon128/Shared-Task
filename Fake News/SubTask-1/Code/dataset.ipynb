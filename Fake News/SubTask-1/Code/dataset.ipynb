{
 "cells": [
  {
   "cell_type": "code",
   "execution_count": 2,
   "metadata": {},
   "outputs": [
    {
     "name": "stdout",
     "output_type": "stream",
     "text": [
      "Requirement already satisfied: emoji in c:\\users\\mdayo\\miniconda3\\envs\\myenv\\lib\\site-packages (1.7.0)\n"
     ]
    }
   ],
   "source": [
    "!pip install emoji"
   ]
  },
  {
   "cell_type": "code",
   "execution_count": 3,
   "metadata": {},
   "outputs": [],
   "source": [
    "import numpy as np\n",
    "import pandas as pd\n",
    "\n",
    "import matplotlib.pyplot as plt\n",
    "import seaborn as sns"
   ]
  },
  {
   "cell_type": "code",
   "execution_count": 4,
   "metadata": {},
   "outputs": [],
   "source": [
    "train_df = pd.read_csv('../Dataset/Fake_train.csv')\n",
    "val_df = pd.read_csv('../Dataset/Fake_dev.csv')\n",
    "test_df = pd.read_csv(\"../Dataset/Fake_test_with_labels.csv\")"
   ]
  },
  {
   "cell_type": "code",
   "execution_count": 5,
   "metadata": {},
   "outputs": [
    {
     "data": {
      "text/html": [
       "<div>\n",
       "<style scoped>\n",
       "    .dataframe tbody tr th:only-of-type {\n",
       "        vertical-align: middle;\n",
       "    }\n",
       "\n",
       "    .dataframe tbody tr th {\n",
       "        vertical-align: top;\n",
       "    }\n",
       "\n",
       "    .dataframe thead th {\n",
       "        text-align: right;\n",
       "    }\n",
       "</style>\n",
       "<table border=\"1\" class=\"dataframe\">\n",
       "  <thead>\n",
       "    <tr style=\"text-align: right;\">\n",
       "      <th></th>\n",
       "      <th>text</th>\n",
       "      <th>label</th>\n",
       "    </tr>\n",
       "  </thead>\n",
       "  <tbody>\n",
       "    <tr>\n",
       "      <th>2780</th>\n",
       "      <td>എന്റെ ഒരു വോട്ട് 😭😭😭</td>\n",
       "      <td>original</td>\n",
       "    </tr>\n",
       "    <tr>\n",
       "      <th>1042</th>\n",
       "      <td>Medical mafia  ..</td>\n",
       "      <td>Fake</td>\n",
       "    </tr>\n",
       "    <tr>\n",
       "      <th>2463</th>\n",
       "      <td>Stupid people don&amp;#39;t know the importance of lives.</td>\n",
       "      <td>Fake</td>\n",
       "    </tr>\n",
       "    <tr>\n",
       "      <th>1656</th>\n",
       "      <td>😂😂😂 നല്ല അടിപൊളി വിവരണം</td>\n",
       "      <td>original</td>\n",
       "    </tr>\n",
       "    <tr>\n",
       "      <th>3069</th>\n",
       "      <td>Kayyeennu poyi, ini paranittu karyamilla</td>\n",
       "      <td>Fake</td>\n",
       "    </tr>\n",
       "  </tbody>\n",
       "</table>\n",
       "</div>"
      ],
      "text/plain": [
       "                                                       text     label\n",
       "2780  എന്റെ ഒരു വോട്ട് 😭😭😭                                   original\n",
       "1042  Medical mafia  ..                                      Fake    \n",
       "2463  Stupid people don&#39;t know the importance of lives.  Fake    \n",
       "1656  😂😂😂 നല്ല അടിപൊളി വിവരണം                                original\n",
       "3069  Kayyeennu poyi, ini paranittu karyamilla               Fake    "
      ]
     },
     "metadata": {},
     "output_type": "display_data"
    }
   ],
   "source": [
    "with pd.option_context('display.max_colwidth', 0):\n",
    "    display(train_df.sample(n=5))"
   ]
  },
  {
   "cell_type": "code",
   "execution_count": 6,
   "metadata": {},
   "outputs": [
    {
     "data": {
      "text/plain": [
       "((3257, 2), (815, 2), (1019, 2))"
      ]
     },
     "execution_count": 6,
     "metadata": {},
     "output_type": "execute_result"
    }
   ],
   "source": [
    "train_df.shape ,val_df.shape,  test_df.shape"
   ]
  },
  {
   "cell_type": "code",
   "execution_count": 10,
   "metadata": {},
   "outputs": [
    {
     "data": {
      "text/plain": [
       "label\n",
       "Fake        1599\n",
       "original    1658\n",
       "dtype: int64"
      ]
     },
     "execution_count": 10,
     "metadata": {},
     "output_type": "execute_result"
    }
   ],
   "source": [
    "train_df.groupby(\"label\").size()"
   ]
  },
  {
   "cell_type": "code",
   "execution_count": 11,
   "metadata": {},
   "outputs": [
    {
     "data": {
      "text/plain": [
       "label\n",
       "Fake        406\n",
       "original    409\n",
       "dtype: int64"
      ]
     },
     "execution_count": 11,
     "metadata": {},
     "output_type": "execute_result"
    }
   ],
   "source": [
    "val_df.groupby(\"label\").size()"
   ]
  },
  {
   "cell_type": "code",
   "execution_count": 12,
   "metadata": {},
   "outputs": [
    {
     "data": {
      "text/plain": [
       "label\n",
       "Fake        507\n",
       "original    512\n",
       "dtype: int64"
      ]
     },
     "execution_count": 12,
     "metadata": {},
     "output_type": "execute_result"
    }
   ],
   "source": [
    "test_df.groupby(\"label\").size()"
   ]
  },
  {
   "cell_type": "code",
   "execution_count": 14,
   "metadata": {},
   "outputs": [],
   "source": [
    "import re\n",
    "def preprocessing(df):\n",
    "    url_pattern = r'https?://\\S+|www\\.\\S+'\n",
    "\n",
    "    def count_urls(text):\n",
    "        return len(re.findall(url_pattern, text))\n",
    "\n",
    "    df['hashtag_count'] = df['text'].apply(lambda x: x.count('#'))\n",
    "    df['mentions_count'] = df['text'].apply(lambda x: x.count('@'))\n",
    "    df['url_count'] = df['text'].apply(count_urls)\n",
    "    return df\n",
    "\n",
    "df = preprocessing(train_df)\n",
    "val_df = preprocessing(val_df)\n",
    "test_df = preprocessing(test_df)"
   ]
  },
  {
   "cell_type": "code",
   "execution_count": 15,
   "metadata": {},
   "outputs": [
    {
     "name": "stdout",
     "output_type": "stream",
     "text": [
      "105\n",
      "2\n",
      "29\n"
     ]
    }
   ],
   "source": [
    "print(df['hashtag_count'].sum())\n",
    "print(df['mentions_count'].sum())\n",
    "print(df['url_count'].sum())"
   ]
  },
  {
   "cell_type": "code",
   "execution_count": 16,
   "metadata": {},
   "outputs": [
    {
     "name": "stdout",
     "output_type": "stream",
     "text": [
      "29\n",
      "3\n",
      "5\n"
     ]
    }
   ],
   "source": [
    "print(test_df['hashtag_count'].sum())\n",
    "print(test_df['mentions_count'].sum())\n",
    "print(test_df['url_count'].sum())"
   ]
  },
  {
   "cell_type": "code",
   "execution_count": 17,
   "metadata": {},
   "outputs": [],
   "source": [
    "import re\n",
    "import emoji\n",
    "\n",
    "def remove_urls(text):\n",
    "    \"\"\"Remove URLs from the given text.\"\"\"\n",
    "    url_pattern = r'https?://\\S+|www\\.\\S+'\n",
    "    return re.sub(url_pattern, '', text)\n",
    "def handle_emojis(text):\n",
    "    # Remove emojis\n",
    "    text = emoji.replace_emoji(text, '')\n",
    "    # OR keep emojis as text\n",
    "    # text = emoji.demojize(text)\n",
    "    return text\n",
    "def remove_hashtags(text):\n",
    "    \"\"\"Remove hashtags from the given text.\"\"\"\n",
    "    if '#' in text:\n",
    "        text = text.replace('#', '')\n",
    "    hashtag_pattern = r'#\\w+'\n",
    "    return re.sub(hashtag_pattern, '', text)\n",
    "\n",
    "\n",
    "def remove_mentions(text):\n",
    "    \"\"\"Remove mentions from the given text.\"\"\"\n",
    "    # Remove mentions with no space before\n",
    "    if '@' in text:\n",
    "        text = text.replace('@', '')\n",
    "\n",
    "    mention_pattern = r'@\\S+\\b'\n",
    "    text = re.sub(mention_pattern, '', text)\n",
    "    # Check if the mention is at the end of the text\n",
    "    if text.endswith(' @'):\n",
    "        text = text[:-2]  # Remove the space and '@'\n",
    "\n",
    "    return text\n",
    "def remove_dollars(text):\n",
    "    \"\"\"Remove $ from the given text.\"\"\"\n",
    "    if \"$\" in text:\n",
    "        text = text.replace('$','')\n",
    "    return text\n",
    "def remove_consecutive_punctuation(text):\n",
    "    \"\"\"Remove consecutive punctuation from the given text.\"\"\"\n",
    "    text = re.sub(r'([.,!?;:|]){2,}', r'\\1', text)\n",
    "    return str(text).lower()\n",
    "\n",
    "def processing(text):\n",
    "    \"\"\"Clean the given tweet by removing URLs, hashtags, and mentions.\"\"\"\n",
    "    cleaned_text = remove_urls(text)\n",
    "    cleaned_text = handle_emojis(cleaned_text)\n",
    "    cleaned_text = remove_hashtags(cleaned_text)\n",
    "    cleaned_text = remove_mentions(cleaned_text)\n",
    "    cleaned_text = remove_dollars(cleaned_text)\n",
    "    cleaned_text = remove_consecutive_punctuation(cleaned_text)\n",
    "    return cleaned_text"
   ]
  },
  {
   "cell_type": "code",
   "execution_count": 18,
   "metadata": {},
   "outputs": [],
   "source": [
    "df['text'] = df['text'].apply(lambda x: processing(x))\n",
    "val_df['text'] = val_df['text'].apply(lambda x: processing(x))\n",
    "test_df['text'] = test_df['text'].apply(lambda x: processing(x))"
   ]
  },
  {
   "cell_type": "code",
   "execution_count": 19,
   "metadata": {},
   "outputs": [],
   "source": [
    "import re\n",
    "def preprocessing(df):\n",
    "    url_pattern = r'https?://\\S+|www\\.\\S+'\n",
    "\n",
    "    def count_urls(text):\n",
    "        return len(re.findall(url_pattern, text))\n",
    "\n",
    "    df['hashtag_count'] = df['text'].apply(lambda x: x.count('#'))\n",
    "    df['mentions_count'] = df['text'].apply(lambda x: x.count('@'))\n",
    "    df['dollar_count'] = df['text'].apply(lambda x: x.count('$'))\n",
    "    df['url_count'] = df['text'].apply(count_urls)\n",
    "    return df\n",
    "\n",
    "df = preprocessing(df)\n",
    "val_df = preprocessing(val_df)\n",
    "test_df = preprocessing(test_df)"
   ]
  },
  {
   "cell_type": "code",
   "execution_count": 20,
   "metadata": {},
   "outputs": [
    {
     "name": "stdout",
     "output_type": "stream",
     "text": [
      "0\n",
      "0\n",
      "0\n",
      "0\n"
     ]
    }
   ],
   "source": [
    "\n",
    "print(df['url_count'].sum())\n",
    "print(df['mentions_count'].sum())\n",
    "print(df['hashtag_count'].sum())\n",
    "print(df['dollar_count'].sum())"
   ]
  },
  {
   "cell_type": "code",
   "execution_count": 21,
   "metadata": {},
   "outputs": [
    {
     "name": "stdout",
     "output_type": "stream",
     "text": [
      "0\n",
      "0\n",
      "0\n",
      "0\n"
     ]
    }
   ],
   "source": [
    "print(test_df['hashtag_count'].sum())\n",
    "print(test_df['mentions_count'].sum())\n",
    "print(test_df['url_count'].sum())\n",
    "print(test_df['dollar_count'].sum())"
   ]
  },
  {
   "cell_type": "code",
   "execution_count": 22,
   "metadata": {},
   "outputs": [
    {
     "data": {
      "text/html": [
       "<div>\n",
       "<style scoped>\n",
       "    .dataframe tbody tr th:only-of-type {\n",
       "        vertical-align: middle;\n",
       "    }\n",
       "\n",
       "    .dataframe tbody tr th {\n",
       "        vertical-align: top;\n",
       "    }\n",
       "\n",
       "    .dataframe thead th {\n",
       "        text-align: right;\n",
       "    }\n",
       "</style>\n",
       "<table border=\"1\" class=\"dataframe\">\n",
       "  <thead>\n",
       "    <tr style=\"text-align: right;\">\n",
       "      <th></th>\n",
       "      <th>text</th>\n",
       "      <th>label</th>\n",
       "      <th>hashtag_count</th>\n",
       "      <th>mentions_count</th>\n",
       "      <th>url_count</th>\n",
       "      <th>dollar_count</th>\n",
       "    </tr>\n",
       "  </thead>\n",
       "  <tbody>\n",
       "    <tr>\n",
       "      <th>2055</th>\n",
       "      <td>ഈ വാക്കുകൾ പൊന്നായിരിക്കട്ടെ</td>\n",
       "      <td>Fake</td>\n",
       "      <td>0</td>\n",
       "      <td>0</td>\n",
       "      <td>0</td>\n",
       "      <td>0</td>\n",
       "    </tr>\n",
       "    <tr>\n",
       "      <th>467</th>\n",
       "      <td>എൻ്റെ കൂടിനുകൊടുത്തവാക്ക് പാലിക്കാതിരിക്കാൻ എനിക്ക് കഴിയില്ല. മരണം സംഭവിക്കുന്നത് വിതിക്കപ്പെട്ടവർക്കാണ്. ഒരുവേളമര ണം തടഞ്ഞാലും. മറ്റൊരുരീതിയിൽ അവർ നഷ്ടപ്പെടും. ഇനിയും മരണങ്ങളുണ്ടാകും പ്രാർത്ഥന അതാണു രക്ഷ. ലോകജനം ഒന്നടങ്ങ് പ്രാർത്ഥിച്ചാൽ മരണം എന്നഅവസ്ഥയുടെ മൂർച്ചകുറയും. പ്രാത്ഥനനടക്കട്ടെ. !</td>\n",
       "      <td>Fake</td>\n",
       "      <td>0</td>\n",
       "      <td>0</td>\n",
       "      <td>0</td>\n",
       "      <td>0</td>\n",
       "    </tr>\n",
       "    <tr>\n",
       "      <th>333</th>\n",
       "      <td>pakisthanilum illa. pakisthanil kooduthal aalukal marikkilla. china pakisthanu marunnu koduthu. chinayude kaiyyil marunnum prathirodha marunnum undu. ithu china undakkiya virus. americayeyum europineyum thakarkkan. chinayile whuhanil mathrame corona ullu. mattu oru china citiyilum corona illa. chinayil ninnum 15000/20000 km akalayulla americayilum italiyilum engane virus ethi athe samayam whuhanu aduthulla oru sthalathum virus ethiyathum illa. ippol maskum mattu coronaye thadukkanulla pala vidha sadhanngalum chine lokam muzhuvan export cheythu billions sampadikkunnu. kurachu divasam kazhiyumpol coronakkulla marunnu kandu pidichu ennu paranju china varum (marunnu already avide undu) athu vittu avar billions sampadikkum. februaryil share market crash cheythu china billions sampadichathu. avarundakkiya virus. athinulla marunnum prathirodha marunnum kandu pidichathinu shesham mathramanu avar virus padarthiyathu.</td>\n",
       "      <td>Fake</td>\n",
       "      <td>0</td>\n",
       "      <td>0</td>\n",
       "      <td>0</td>\n",
       "      <td>0</td>\n",
       "    </tr>\n",
       "    <tr>\n",
       "      <th>3192</th>\n",
       "      <td>ഇ ഷർട്ട് യൂണിഫോം ആണോ</td>\n",
       "      <td>Fake</td>\n",
       "      <td>0</td>\n",
       "      <td>0</td>\n",
       "      <td>0</td>\n",
       "      <td>0</td>\n",
       "    </tr>\n",
       "    <tr>\n",
       "      <th>1051</th>\n",
       "      <td>വീണാ ജോർജിന് കോവിഡിനെ പേടിയില്ല&lt;br&gt;ആ ഭാഗത്ത് തേക്ക് ഇല്ലെന്ന്&lt;br&gt;രാജാവ്</td>\n",
       "      <td>original</td>\n",
       "      <td>0</td>\n",
       "      <td>0</td>\n",
       "      <td>0</td>\n",
       "      <td>0</td>\n",
       "    </tr>\n",
       "  </tbody>\n",
       "</table>\n",
       "</div>"
      ],
      "text/plain": [
       "                                                                                                                                                                                                                                                                                                                                                                                                                                                                                                                                                                                                                                                                                                                                                                                                                                                                                                                                                           text  \\\n",
       "2055  ഈ വാക്കുകൾ പൊന്നായിരിക്കട്ടെ                                                                                                                                                                                                                                                                                                                                                                                                                                                                                                                                                                                                                                                                                                                                                                                                                                                                                                                                \n",
       "467   എൻ്റെ കൂടിനുകൊടുത്തവാക്ക് പാലിക്കാതിരിക്കാൻ എനിക്ക് കഴിയില്ല. മരണം സംഭവിക്കുന്നത് വിതിക്കപ്പെട്ടവർക്കാണ്. ഒരുവേളമര ണം തടഞ്ഞാലും. മറ്റൊരുരീതിയിൽ അവർ നഷ്ടപ്പെടും. ഇനിയും മരണങ്ങളുണ്ടാകും പ്രാർത്ഥന അതാണു രക്ഷ. ലോകജനം ഒന്നടങ്ങ് പ്രാർത്ഥിച്ചാൽ മരണം എന്നഅവസ്ഥയുടെ മൂർച്ചകുറയും. പ്രാത്ഥനനടക്കട്ടെ. !                                                                                                                                                                                                                                                                                                                                                                                                                                                                                                                                                                                                                                                         \n",
       "333   pakisthanilum illa. pakisthanil kooduthal aalukal marikkilla. china pakisthanu marunnu koduthu. chinayude kaiyyil marunnum prathirodha marunnum undu. ithu china undakkiya virus. americayeyum europineyum thakarkkan. chinayile whuhanil mathrame corona ullu. mattu oru china citiyilum corona illa. chinayil ninnum 15000/20000 km akalayulla americayilum italiyilum engane virus ethi athe samayam whuhanu aduthulla oru sthalathum virus ethiyathum illa. ippol maskum mattu coronaye thadukkanulla pala vidha sadhanngalum chine lokam muzhuvan export cheythu billions sampadikkunnu. kurachu divasam kazhiyumpol coronakkulla marunnu kandu pidichu ennu paranju china varum (marunnu already avide undu) athu vittu avar billions sampadikkum. februaryil share market crash cheythu china billions sampadichathu. avarundakkiya virus. athinulla marunnum prathirodha marunnum kandu pidichathinu shesham mathramanu avar virus padarthiyathu.   \n",
       "3192  ഇ ഷർട്ട് യൂണിഫോം ആണോ                                                                                                                                                                                                                                                                                                                                                                                                                                                                                                                                                                                                                                                                                                                                                                                                                                                                                                                                        \n",
       "1051  വീണാ ജോർജിന് കോവിഡിനെ പേടിയില്ല<br>ആ ഭാഗത്ത് തേക്ക് ഇല്ലെന്ന്<br>രാജാവ്                                                                                                                                                                                                                                                                                                                                                                                                                                                                                                                                                                                                                                                                                                                                                                                                                                                                                     \n",
       "\n",
       "         label  hashtag_count  mentions_count  url_count  dollar_count  \n",
       "2055  Fake      0              0               0          0             \n",
       "467   Fake      0              0               0          0             \n",
       "333   Fake      0              0               0          0             \n",
       "3192  Fake      0              0               0          0             \n",
       "1051  original  0              0               0          0             "
      ]
     },
     "metadata": {},
     "output_type": "display_data"
    }
   ],
   "source": [
    "with pd.option_context('display.max_colwidth', 0):\n",
    "    display(df.sample(n=5))"
   ]
  },
  {
   "cell_type": "code",
   "execution_count": 23,
   "metadata": {},
   "outputs": [
    {
     "data": {
      "text/html": [
       "<div>\n",
       "<style scoped>\n",
       "    .dataframe tbody tr th:only-of-type {\n",
       "        vertical-align: middle;\n",
       "    }\n",
       "\n",
       "    .dataframe tbody tr th {\n",
       "        vertical-align: top;\n",
       "    }\n",
       "\n",
       "    .dataframe thead th {\n",
       "        text-align: right;\n",
       "    }\n",
       "</style>\n",
       "<table border=\"1\" class=\"dataframe\">\n",
       "  <thead>\n",
       "    <tr style=\"text-align: right;\">\n",
       "      <th></th>\n",
       "      <th>text</th>\n",
       "      <th>label</th>\n",
       "      <th>hashtag_count</th>\n",
       "      <th>mentions_count</th>\n",
       "      <th>url_count</th>\n",
       "      <th>dollar_count</th>\n",
       "    </tr>\n",
       "  </thead>\n",
       "  <tbody>\n",
       "    <tr>\n",
       "      <th>785</th>\n",
       "      <td>മൂട്ടിൽ ആലു കിളിത വിജയൻ. അയാൾക് അത് തണൽ</td>\n",
       "      <td>original</td>\n",
       "      <td>0</td>\n",
       "      <td>0</td>\n",
       "      <td>0</td>\n",
       "      <td>0</td>\n",
       "    </tr>\n",
       "    <tr>\n",
       "      <th>664</th>\n",
       "      <td>കാരണവന്മാർക്ക് അടുപ്പിലും തൂറാം</td>\n",
       "      <td>original</td>\n",
       "      <td>0</td>\n",
       "      <td>0</td>\n",
       "      <td>0</td>\n",
       "      <td>0</td>\n",
       "    </tr>\n",
       "    <tr>\n",
       "      <th>556</th>\n",
       "      <td>njan saghavanu but partyk mukalil arum padilla paranja alu thanne pukazhthi paada. party evidrkka pone. appo p jayarajettane kurichu padiyapol enthe. party nadapadi eduthu.</td>\n",
       "      <td>original</td>\n",
       "      <td>0</td>\n",
       "      <td>0</td>\n",
       "      <td>0</td>\n",
       "      <td>0</td>\n",
       "    </tr>\n",
       "    <tr>\n",
       "      <th>857</th>\n",
       "      <td>it is very easy to defeat china .don&amp;39;t buy  any product from china then they revert  to 1960 .let  message to everyone in your circle</td>\n",
       "      <td>Fake</td>\n",
       "      <td>0</td>\n",
       "      <td>0</td>\n",
       "      <td>0</td>\n",
       "      <td>0</td>\n",
       "    </tr>\n",
       "    <tr>\n",
       "      <th>506</th>\n",
       "      <td>തിരുവാതിര കളിക്കാന്‍ parda ക്കാരെ ആരെയും കണ്ടില്ല. വനിതാ മതില്‍ kettiyappol അങ്ങനെ അല്ലായിരുന്നു.</td>\n",
       "      <td>original</td>\n",
       "      <td>0</td>\n",
       "      <td>0</td>\n",
       "      <td>0</td>\n",
       "      <td>0</td>\n",
       "    </tr>\n",
       "    <tr>\n",
       "      <th>550</th>\n",
       "      <td>ividathepole azhinjadan samathikkilla  thattikkalayum</td>\n",
       "      <td>Fake</td>\n",
       "      <td>0</td>\n",
       "      <td>0</td>\n",
       "      <td>0</td>\n",
       "      <td>0</td>\n",
       "    </tr>\n",
       "    <tr>\n",
       "      <th>190</th>\n",
       "      <td>nakikalaaya malayalikal</td>\n",
       "      <td>original</td>\n",
       "      <td>0</td>\n",
       "      <td>0</td>\n",
       "      <td>0</td>\n",
       "      <td>0</td>\n",
       "    </tr>\n",
       "    <tr>\n",
       "      <th>244</th>\n",
       "      <td>ലോകത്തിൽ ഏറ്റവും കൂടുതൽ കൊറോണ രോഗികൾ ഉള്ള രാഷ്ട്രമായി ഇന്ത്യ മാറുന്നു. നമ്മൾ ഇപ്പോൾ പോകുന്നത് ഗുരുതര അവസ്ഥയിലാണ്. എല്ലാം രാഷ്ട്രങ്ങളും കൊറോണക്കെതിരെ ഒരുപാട് പ്രവർത്തനം നടത്തി. കൊറോണക്ക് മൂന്നു ഘട്ടം ഉണ്ട്. മൂന്നു തവണയായി അത് വന്നിരിക്കും. 2022വരെ കൊറോണ ഈ ഭൂമിയിൽ ഉണ്ടാകും.</td>\n",
       "      <td>Fake</td>\n",
       "      <td>0</td>\n",
       "      <td>0</td>\n",
       "      <td>0</td>\n",
       "      <td>0</td>\n",
       "    </tr>\n",
       "    <tr>\n",
       "      <th>1005</th>\n",
       "      <td>ivan ithu nale thirichum parayum.</td>\n",
       "      <td>Fake</td>\n",
       "      <td>0</td>\n",
       "      <td>0</td>\n",
       "      <td>0</td>\n",
       "      <td>0</td>\n",
       "    </tr>\n",
       "    <tr>\n",
       "      <th>687</th>\n",
       "      <td>youngsters keralthil vannalea without any party &lt;br&gt;keralam gods own country akathullu</td>\n",
       "      <td>original</td>\n",
       "      <td>0</td>\n",
       "      <td>0</td>\n",
       "      <td>0</td>\n",
       "      <td>0</td>\n",
       "    </tr>\n",
       "  </tbody>\n",
       "</table>\n",
       "</div>"
      ],
      "text/plain": [
       "                                                                                                                                                                                                                                                                                  text  \\\n",
       "785   മൂട്ടിൽ ആലു കിളിത വിജയൻ. അയാൾക് അത് തണൽ                                                                                                                                                                                                                                            \n",
       "664   കാരണവന്മാർക്ക് അടുപ്പിലും തൂറാം                                                                                                                                                                                                                                                    \n",
       "556   njan saghavanu but partyk mukalil arum padilla paranja alu thanne pukazhthi paada. party evidrkka pone. appo p jayarajettane kurichu padiyapol enthe. party nadapadi eduthu.                                                                                                       \n",
       "857   it is very easy to defeat china .don&39;t buy  any product from china then they revert  to 1960 .let  message to everyone in your circle                                                                                                                                           \n",
       "506   തിരുവാതിര കളിക്കാന്‍ parda ക്കാരെ ആരെയും കണ്ടില്ല. വനിതാ മതില്‍ kettiyappol അങ്ങനെ അല്ലായിരുന്നു.                                                                                                                                                                                  \n",
       "550   ividathepole azhinjadan samathikkilla  thattikkalayum                                                                                                                                                                                                                              \n",
       "190   nakikalaaya malayalikal                                                                                                                                                                                                                                                            \n",
       "244   ലോകത്തിൽ ഏറ്റവും കൂടുതൽ കൊറോണ രോഗികൾ ഉള്ള രാഷ്ട്രമായി ഇന്ത്യ മാറുന്നു. നമ്മൾ ഇപ്പോൾ പോകുന്നത് ഗുരുതര അവസ്ഥയിലാണ്. എല്ലാം രാഷ്ട്രങ്ങളും കൊറോണക്കെതിരെ ഒരുപാട് പ്രവർത്തനം നടത്തി. കൊറോണക്ക് മൂന്നു ഘട്ടം ഉണ്ട്. മൂന്നു തവണയായി അത് വന്നിരിക്കും. 2022വരെ കൊറോണ ഈ ഭൂമിയിൽ ഉണ്ടാകും.   \n",
       "1005  ivan ithu nale thirichum parayum.                                                                                                                                                                                                                                                  \n",
       "687   youngsters keralthil vannalea without any party <br>keralam gods own country akathullu                                                                                                                                                                                             \n",
       "\n",
       "         label  hashtag_count  mentions_count  url_count  dollar_count  \n",
       "785   original  0              0               0          0             \n",
       "664   original  0              0               0          0             \n",
       "556   original  0              0               0          0             \n",
       "857   Fake      0              0               0          0             \n",
       "506   original  0              0               0          0             \n",
       "550   Fake      0              0               0          0             \n",
       "190   original  0              0               0          0             \n",
       "244   Fake      0              0               0          0             \n",
       "1005  Fake      0              0               0          0             \n",
       "687   original  0              0               0          0             "
      ]
     },
     "metadata": {},
     "output_type": "display_data"
    }
   ],
   "source": [
    "with pd.option_context('display.max_colwidth', 0):\n",
    "    display(test_df.sample(n=10))"
   ]
  },
  {
   "cell_type": "code",
   "execution_count": 25,
   "metadata": {},
   "outputs": [],
   "source": [
    "df['Length'] = df['text'].apply(lambda x: len(x.split(\" \")))"
   ]
  },
  {
   "cell_type": "code",
   "execution_count": 26,
   "metadata": {},
   "outputs": [],
   "source": [
    "test_df['Length'] = test_df['text'].apply(lambda x: len(x.split(\" \")))"
   ]
  },
  {
   "cell_type": "code",
   "execution_count": 27,
   "metadata": {},
   "outputs": [
    {
     "data": {
      "text/plain": [
       "count    3257.000000\n",
       "mean       12.008290\n",
       "std        20.076778\n",
       "min         1.000000\n",
       "25%         4.000000\n",
       "50%         7.000000\n",
       "75%        13.000000\n",
       "max       570.000000\n",
       "Name: Length, dtype: float64"
      ]
     },
     "execution_count": 27,
     "metadata": {},
     "output_type": "execute_result"
    }
   ],
   "source": [
    "df['Length'].describe()"
   ]
  },
  {
   "cell_type": "code",
   "execution_count": 28,
   "metadata": {},
   "outputs": [
    {
     "data": {
      "text/plain": [
       "93"
      ]
     },
     "execution_count": 28,
     "metadata": {},
     "output_type": "execute_result"
    }
   ],
   "source": [
    "df['text'].duplicated().sum()"
   ]
  },
  {
   "cell_type": "code",
   "execution_count": 29,
   "metadata": {},
   "outputs": [
    {
     "data": {
      "text/plain": [
       "text              0\n",
       "label             0\n",
       "hashtag_count     0\n",
       "mentions_count    0\n",
       "url_count         0\n",
       "dollar_count      0\n",
       "Length            0\n",
       "dtype: int64"
      ]
     },
     "execution_count": 29,
     "metadata": {},
     "output_type": "execute_result"
    }
   ],
   "source": [
    "df.isnull().sum()"
   ]
  },
  {
   "cell_type": "code",
   "execution_count": 30,
   "metadata": {},
   "outputs": [],
   "source": [
    "def countplot(fig_x,fig_y,col,top_x,rotation,xlabel,title) :\n",
    "    plt.figure(figsize=(fig_x,fig_y))\n",
    "    total = float(len(df))\n",
    "    ax = sns.countplot(x=col,  data=df, order = df[col].value_counts().iloc[:top_x].index)\n",
    "    for p in ax.patches:\n",
    "        percentage = '{:.1f}%'.format(100 * p.get_height()/total)\n",
    "        x = p.get_x() + p.get_width() / 2 - 0.05\n",
    "        y = p.get_y() + p.get_height()\n",
    "        ax.annotate(percentage, (x, y),xytext = (x+0.05,y+20),ha = 'center',weight = 'bold',size = 11)\n",
    "    plt.xticks(rotation = rotation,weight='bold',size = 10)\n",
    "    plt.yticks(weight='bold',size = 10)\n",
    "    plt.xlabel(xlabel,weight='bold',size = 12)\n",
    "    plt.ylabel('count',weight='bold',size = 12)\n",
    "    plt.title(title,weight='bold',size = 15)\n",
    "    plt.show()"
   ]
  },
  {
   "cell_type": "code",
   "execution_count": 31,
   "metadata": {},
   "outputs": [
    {
     "data": {
      "image/png": "[encoded data removed]",
      "text/plain": [
       "<Figure size 1000x500 with 1 Axes>"
      ]
     },
     "metadata": {},
     "output_type": "display_data"
    }
   ],
   "source": [
    "countplot(10,5,'label',15,0,'Class','Class Distribution')"
   ]
  },
  {
   "cell_type": "code",
   "execution_count": 32,
   "metadata": {},
   "outputs": [],
   "source": [
    "df.drop(columns=['hashtag_count', 'mentions_count', 'url_count', 'dollar_count','Length'], inplace=True)"
   ]
  },
  {
   "cell_type": "code",
   "execution_count": 34,
   "metadata": {},
   "outputs": [],
   "source": [
    "val_df.drop(columns=['hashtag_count', 'mentions_count', 'url_count', 'dollar_count'], inplace=True)\n",
    "test_df.drop(columns=['hashtag_count', 'mentions_count', 'url_count', 'dollar_count','Length'], inplace=True)"
   ]
  },
  {
   "cell_type": "code",
   "execution_count": 35,
   "metadata": {},
   "outputs": [
    {
     "data": {
      "text/plain": [
       "Index(['text', 'label'], dtype='object')"
      ]
     },
     "execution_count": 35,
     "metadata": {},
     "output_type": "execute_result"
    }
   ],
   "source": [
    "df.columns"
   ]
  },
  {
   "cell_type": "code",
   "execution_count": 36,
   "metadata": {},
   "outputs": [
    {
     "data": {
      "text/html": [
       "<div>\n",
       "<style scoped>\n",
       "    .dataframe tbody tr th:only-of-type {\n",
       "        vertical-align: middle;\n",
       "    }\n",
       "\n",
       "    .dataframe tbody tr th {\n",
       "        vertical-align: top;\n",
       "    }\n",
       "\n",
       "    .dataframe thead th {\n",
       "        text-align: right;\n",
       "    }\n",
       "</style>\n",
       "<table border=\"1\" class=\"dataframe\">\n",
       "  <thead>\n",
       "    <tr style=\"text-align: right;\">\n",
       "      <th></th>\n",
       "      <th>text</th>\n",
       "      <th>label</th>\n",
       "    </tr>\n",
       "  </thead>\n",
       "  <tbody>\n",
       "    <tr>\n",
       "      <th>0</th>\n",
       "      <td>നല്ല അവതരണം. സത്യം പുറത്തു വരട്ടെ</td>\n",
       "      <td>Fake</td>\n",
       "    </tr>\n",
       "    <tr>\n",
       "      <th>1</th>\n",
       "      <td>masha allah</td>\n",
       "      <td>Fake</td>\n",
       "    </tr>\n",
       "    <tr>\n",
       "      <th>2</th>\n",
       "      <td>അന്വേഷണം കഴിയുമ്പോൾ. c. a. a. യ്ക്ക് എതിരായ കല...</td>\n",
       "      <td>Fake</td>\n",
       "    </tr>\n",
       "    <tr>\n",
       "      <th>3</th>\n",
       "      <td>illathentha avaru purath vidayittalland verenth</td>\n",
       "      <td>Fake</td>\n",
       "    </tr>\n",
       "    <tr>\n",
       "      <th>4</th>\n",
       "      <td>barana pakshathin matoru niyamam.nalla moyanth...</td>\n",
       "      <td>original</td>\n",
       "    </tr>\n",
       "  </tbody>\n",
       "</table>\n",
       "</div>"
      ],
      "text/plain": [
       "                                                text     label\n",
       "0                  നല്ല അവതരണം. സത്യം പുറത്തു വരട്ടെ      Fake\n",
       "1                                        masha allah      Fake\n",
       "2  അന്വേഷണം കഴിയുമ്പോൾ. c. a. a. യ്ക്ക് എതിരായ കല...      Fake\n",
       "3    illathentha avaru purath vidayittalland verenth      Fake\n",
       "4  barana pakshathin matoru niyamam.nalla moyanth...  original"
      ]
     },
     "execution_count": 36,
     "metadata": {},
     "output_type": "execute_result"
    }
   ],
   "source": [
    "df.head()"
   ]
  },
  {
   "cell_type": "code",
   "execution_count": 38,
   "metadata": {},
   "outputs": [],
   "source": [
    "df.to_csv(\"../Dataset/cleaned_train_binary.csv\", index = False)\n",
    "val_df.to_csv(\"../Dataset/cleaned_val_binary.csv\", index = False)\n",
    "test_df.to_csv(\"../Dataset/cleaned_test_binary.csv\", index = False)"
   ]
  },
  {
   "cell_type": "code",
   "execution_count": null,
   "metadata": {},
   "outputs": [],
   "source": []
  }
 ],
 "metadata": {
  "kernelspec": {
   "display_name": "myenv",
   "language": "python",
   "name": "python3"
  },
  "language_info": {
   "codemirror_mode": {
    "name": "ipython",
    "version": 3
   },
   "file_extension": ".py",
   "mimetype": "text/x-python",
   "name": "python",
   "nbconvert_exporter": "python",
   "pygments_lexer": "ipython3",
   "version": "3.12.3"
  }
 },
 "nbformat": 4,
 "nbformat_minor": 2
}
